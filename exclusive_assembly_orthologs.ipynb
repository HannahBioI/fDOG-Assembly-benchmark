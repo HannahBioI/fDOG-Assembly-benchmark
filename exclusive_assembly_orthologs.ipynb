{
 "cells": [
  {
   "cell_type": "markdown",
   "id": "dd409128-cb77-4940-bd33-2abd652bf170",
   "metadata": {},
   "source": [
    "# Script to analyse the Orthologs that were only found by the assembly based methods fDOG-Assembly and BUSCO"
   ]
  },
  {
   "cell_type": "code",
   "execution_count": 1,
   "id": "bb5cc83a-d502-41a9-b2ba-fad0e75dc940",
   "metadata": {},
   "outputs": [],
   "source": [
    "import pandas as pd\n",
    "import seaborn as sb\n",
    "import matplotlib.pyplot as plt"
   ]
  },
  {
   "cell_type": "code",
   "execution_count": 2,
   "id": "96089966-9b43-4e6a-a6ca-dc6240d82f97",
   "metadata": {},
   "outputs": [],
   "source": [
    "tools_ref = ['bbh', 'domainoid', 'ensamble', 'hieranoid', 'inparanoid', 'metaphors', 'oma_pairs', 'orthoffgc', 'orthofinder', 'orthoinspector', 'panther', 'rsd', 'sonicparanoid']\n",
    "#tools = ['busco_metazoa_augustus', 'busco_metazoa_metaeuk', 'fdog_assembly_metazoa_augustus_galga_v2','fdog_assembly_metazoa_augustus', 'fdog_assembly_metazoa_augustus_fly', 'fdog_assembly_metazoa_metaeuk', 'fdog_assembly_metazoa_sens_metaeuk']\n",
    "tools = ['busco_metazoa_augustus_gallus_v2', 'busco_metazoa_metaeuk_gallus_v2', 'busco_metazoa_augustus', 'busco_metazoa_metaeuk','fdog_assembly_metazoa_augustus', 'fdog_assembly_metazoa_augustus_gallus_v2', 'fdog_assembly_metazoa_metaeuk', 'fdog_assembly_metazoa_metaeuk_gallus_v2']\n",
    "path = '../../results/qfo_input/'"
   ]
  },
  {
   "cell_type": "code",
   "execution_count": 3,
   "id": "ddcc1b34-a91b-432c-aa8f-ee1baa54c74e",
   "metadata": {},
   "outputs": [],
   "source": [
    "def create_set_of_sets(path):\n",
    "    file = open(path, 'r')\n",
    "    pairs_set = set()\n",
    "    lines = file.readlines()\n",
    "    for line in lines:\n",
    "        line = line.rstrip()\n",
    "        pairs = frozenset(line.split('\\t'))\n",
    "        pairs_set.add(pairs)\n",
    "    #print(len(lines))\n",
    "    print(len(pairs_set))\n",
    "    return pairs_set"
   ]
  },
  {
   "cell_type": "code",
   "execution_count": 4,
   "id": "ac3d18e0-e852-41e1-b8e6-6a22c4e3e08a",
   "metadata": {},
   "outputs": [
    {
     "name": "stdout",
     "output_type": "stream",
     "text": [
      "8738\n",
      "8945\n",
      "8168\n",
      "8422\n",
      "8487\n",
      "8979\n",
      "7973\n",
      "8616\n",
      "9372\n",
      "9006\n",
      "8906\n",
      "8606\n",
      "9126\n"
     ]
    }
   ],
   "source": [
    "dict_of_sets = {}\n",
    "for i in tools_ref:\n",
    "    pairs_set = create_set_of_sets(path + i + '.tsv')\n",
    "    dict_of_sets[i] = pairs_set"
   ]
  },
  {
   "cell_type": "code",
   "execution_count": 5,
   "id": "55763023-a006-40a0-9593-e412c1a2620e",
   "metadata": {},
   "outputs": [
    {
     "name": "stdout",
     "output_type": "stream",
     "text": [
      "busco_metazoa_augustus_gallus_v2\n",
      "8567\n",
      "busco_metazoa_metaeuk_gallus_v2\n",
      "8621\n",
      "busco_metazoa_augustus\n",
      "8484\n",
      "busco_metazoa_metaeuk\n",
      "8514\n",
      "fdog_assembly_metazoa_augustus\n",
      "8016\n",
      "fdog_assembly_metazoa_augustus_gallus_v2\n",
      "8243\n",
      "fdog_assembly_metazoa_metaeuk\n",
      "8034\n",
      "fdog_assembly_metazoa_metaeuk_gallus_v2\n",
      "8099\n"
     ]
    }
   ],
   "source": [
    "for t in tools:\n",
    "    print(t)\n",
    "    pairs_set = create_set_of_sets(path + t + '.tsv')\n",
    "    dict_of_sets[t] = pairs_set"
   ]
  },
  {
   "cell_type": "code",
   "execution_count": 6,
   "id": "3578a5a9-da9a-4b69-8c0e-b812415a445f",
   "metadata": {},
   "outputs": [
    {
     "name": "stdout",
     "output_type": "stream",
     "text": [
      "busco_metazoa_augustus_gallus_v2\n",
      "All pairs\n",
      "8567\n",
      "Not found by any of the protein based tools\n",
      "492\n",
      "busco_metazoa_metaeuk_gallus_v2\n",
      "All pairs\n",
      "8621\n",
      "Not found by any of the protein based tools\n",
      "168\n",
      "busco_metazoa_augustus\n",
      "All pairs\n",
      "8484\n",
      "Not found by any of the protein based tools\n",
      "329\n",
      "busco_metazoa_metaeuk\n",
      "All pairs\n",
      "8514\n",
      "Not found by any of the protein based tools\n",
      "180\n",
      "fdog_assembly_metazoa_augustus\n",
      "All pairs\n",
      "8016\n",
      "Not found by any of the protein based tools\n",
      "127\n",
      "fdog_assembly_metazoa_augustus_gallus_v2\n",
      "All pairs\n",
      "8243\n",
      "Not found by any of the protein based tools\n",
      "132\n",
      "fdog_assembly_metazoa_metaeuk\n",
      "All pairs\n",
      "8034\n",
      "Not found by any of the protein based tools\n",
      "126\n",
      "fdog_assembly_metazoa_metaeuk_gallus_v2\n",
      "All pairs\n",
      "8099\n",
      "Not found by any of the protein based tools\n",
      "110\n"
     ]
    }
   ],
   "source": [
    "#get the exclusive pairs for each assembly_based tool\n",
    "exclusive_pair_dict = {}\n",
    "for t in tools:\n",
    "    exclusive_pairs = dict_of_sets[t]\n",
    "    for ref_t in tools_ref:\n",
    "        exclusive_pairs = exclusive_pairs - dict_of_sets[ref_t]\n",
    "    print(t)\n",
    "    print('All pairs')\n",
    "    print(len(dict_of_sets[t]))\n",
    "    print('Not found by any of the protein based tools')\n",
    "    print(len(exclusive_pairs))\n",
    "    exclusive_pair_dict[t] = exclusive_pairs\n"
   ]
  },
  {
   "cell_type": "code",
   "execution_count": 7,
   "id": "83a2c2a8-abec-414e-ae7d-fa32a38c1f87",
   "metadata": {},
   "outputs": [],
   "source": [
    "#get seed genes\n",
    "seed_file = open('../uniprotid_to_group_assignment/mapping_busco_id_uniport_id.tsv', 'r')\n",
    "lines = seed_file.readlines()\n",
    "seed_genes = set()\n",
    "busco_vs_uniprot_dict = {}\n",
    "for line in lines:\n",
    "    line = line.rstrip()\n",
    "    busco_id, uniprot_id = line.split('\\t')\n",
    "    seed_genes.add(uniprot_id)\n",
    "    busco_vs_uniprot_dict[busco_id] = uniprot_id"
   ]
  },
  {
   "cell_type": "code",
   "execution_count": 8,
   "id": "20ec1274-034b-42db-8446-8d0249ab28b8",
   "metadata": {},
   "outputs": [],
   "source": [
    "def parse_species_file(file):\n",
    "    lines = file.readlines()\n",
    "    species_dict = {}\n",
    "    for line in lines:\n",
    "        line = line.rstrip()\n",
    "        ncbi, name, uniprot_acc, source, refseq_acc = line.split('\\t')\n",
    "        species_dict[ncbi] = {'name': name, 'uniprot': uniprot_acc, 'source': source, 'refseq': refseq_acc}\n",
    "    return species_dict"
   ]
  },
  {
   "cell_type": "code",
   "execution_count": 9,
   "id": "baad0f5f-91bd-4ac4-994a-69c5f62e4ecb",
   "metadata": {},
   "outputs": [],
   "source": [
    "def get_uniprot_ids_for_species(file_path):\n",
    "    file = open(file_path, 'r')\n",
    "    lines = file.readlines()\n",
    "    id_set = set()\n",
    "    for line in lines:\n",
    "        line = line.rstrip()\n",
    "        uniprot_id = line.split('\\t')[0]\n",
    "        id_set.add(uniprot_id)\n",
    "    file.close()\n",
    "    return id_set"
   ]
  },
  {
   "cell_type": "code",
   "execution_count": 10,
   "id": "a8b9904b-9d9d-4791-95bd-c3c12cac5ed6",
   "metadata": {},
   "outputs": [
    {
     "name": "stdout",
     "output_type": "stream",
     "text": [
      "Nematostella vectensis\n",
      "../../data/qfo_eukaryota_2022/qfo_data_2022/Eukaryota/UP000001593_45351.idmapping\n",
      "Rattus norvegicus\n",
      "../../data/qfo_eukaryota_2022/qfo_data_2022/Eukaryota/UP000002494_10116.idmapping\n",
      "Gallus gallus\n",
      "../../data/qfo_eukaryota_2022/qfo_data_2022/Eukaryota/UP000000539_9031.idmapping\n",
      "Xenopus tropicalis\n",
      "../../data/qfo_eukaryota_2022/qfo_data_2022/Eukaryota/UP000008143_8364.idmapping\n",
      "Danio rerio\n",
      "../../data/qfo_eukaryota_2022/qfo_data_2022/Eukaryota/UP000000437_7955.idmapping\n",
      "Drosophila melanogaster\n",
      "../../data/qfo_eukaryota_2022/qfo_data_2022/Eukaryota/UP000000803_7227.idmapping\n",
      "Tribolium castaneum\n",
      "../../data/qfo_eukaryota_2022/qfo_data_2022/Eukaryota/UP000007266_7070.idmapping\n",
      "Ixodes scapularis\n",
      "../../data/qfo_eukaryota_2022/qfo_data_2022/Eukaryota/UP000001555_6945.idmapping\n",
      "Helobdella robusta\n",
      "../../data/qfo_eukaryota_2022/qfo_data_2022/Eukaryota/UP000015101_6412.idmapping\n",
      "Caenorhabditis elegans\n",
      "../../data/qfo_eukaryota_2022/qfo_data_2022/Eukaryota/UP000001940_6239.idmapping\n"
     ]
    }
   ],
   "source": [
    "#create species to uniprot mapping\n",
    "species_file = open('../../data/fDOG-assembly/species_set_benchmark_v2.tsv', 'r')\n",
    "species_dict = parse_species_file(species_file)\n",
    "species_file.close()\n",
    "\n",
    "species_list = []\n",
    "uniprot_dict = {} # dictionary species_ncbi_id:set(uniprot_ids of species)\n",
    "for species in species_dict:\n",
    "    print(species_dict[species]['name'])\n",
    "    path = '../../data/qfo_eukaryota_2022/qfo_data_2022/Eukaryota/' + species_dict[species]['uniprot'] + '_' + species + '.idmapping'\n",
    "    print(path)\n",
    "    uniprot_dict[species] = get_uniprot_ids_for_species(path)\n",
    "    species_list.append(species)"
   ]
  },
  {
   "cell_type": "code",
   "execution_count": 11,
   "id": "5e67962f-c041-4f19-9667-29fc7843071b",
   "metadata": {},
   "outputs": [],
   "source": [
    "def assign_species(species_dict, gene):\n",
    "    for sp in species_dict:\n",
    "        if gene in species_dict[sp]:\n",
    "            return sp\n",
    "    return 'Error'"
   ]
  },
  {
   "cell_type": "code",
   "execution_count": 12,
   "id": "ee3a7a15-ec07-4f96-8d17-4318468d5e3d",
   "metadata": {},
   "outputs": [
    {
     "name": "stdout",
     "output_type": "stream",
     "text": [
      "        45351  10116  9031  8364  7955  7227  7070  6945  6412  6239\n",
      "P43308      0      0     0     0     0     0     0     0     0     0\n",
      "P55081      0      0     0     0     0     0     0     0     0     0\n",
      "O15294      0      0     0     0     0     0     0     0     0     0\n",
      "Q9GZN1      0      0     0     0     0     0     0     0     0     0\n",
      "Q5BKT4      0      0     0     0     0     0     0     0     0     0\n",
      "...       ...    ...   ...   ...   ...   ...   ...   ...   ...   ...\n",
      "Q8NEB9      0      0     0     0     0     0     0     0     0     0\n",
      "P05455      0      0     0     0     0     0     0     0     0     0\n",
      "Q9H9J2      0      0     0     0     0     0     0     0     0     0\n",
      "Q3MHD2      0      0     0     0     0     0     0     0     0     0\n",
      "O75909      0      0     0     0     0     0     0     0     0     0\n",
      "\n",
      "[917 rows x 10 columns]\n",
      "        45351  10116  9031  8364  7955  7227  7070  6945  6412  6239\n",
      "P43308     13     13    13    13    13    13    13    12    13    13\n",
      "P55081     13     12    12    13    13    13    13     9    13    12\n",
      "O15294     13     13    11    12    13    13    12     3    13    13\n",
      "Q9GZN1     13     13    13    13    13    13    13     4    13    13\n",
      "Q5BKT4      6     13    13    13    13    12    11    11    13    12\n",
      "...       ...    ...   ...   ...   ...   ...   ...   ...   ...   ...\n",
      "Q8NEB9     13     13    13    13    13    13    13    12    13    12\n",
      "P05455     13     13    13    13    13    13    13     6    10    13\n",
      "Q9H9J2     12     13    13    12    13    13    13    12     8    12\n",
      "Q3MHD2     13     13    12    13    13    13    13    11    13     5\n",
      "O75909     10     13    13    13    13    10    10    10    10     9\n",
      "\n",
      "[917 rows x 10 columns]\n"
     ]
    }
   ],
   "source": [
    "#create matrix seed gene vs species and count how many tools found at least one pair\n",
    "# blank matrix seed vs species\n",
    "df_ref_tools = pd.DataFrame(0, index=list(seed_genes), columns=species_list) \n",
    "print(df_ref_tools)\n",
    "seed_dict = {}\n",
    "\n",
    "#fill matrix\n",
    "for tool in tools_ref:\n",
    "    #print(tool)\n",
    "    for pair in dict_of_sets[tool]:\n",
    "        gene1, gene2 = pair\n",
    "        if gene1 in seed_genes:\n",
    "            seed = gene1\n",
    "            ortholog = gene2\n",
    "        else:\n",
    "            ortholog = gene1\n",
    "            seed = gene2\n",
    "        species = assign_species(uniprot_dict, ortholog)\n",
    "        if species == 'Error':\n",
    "            print('Ortholog gene could not be assigned to species')\n",
    "            print(ortholog)\n",
    "            break\n",
    "        try:\n",
    "            seed_dict[seed][species].add(tool)\n",
    "        except KeyError:\n",
    "            try:\n",
    "                seed_dict[seed][species] = set()\n",
    "                seed_dict[seed][species].add(tool)\n",
    "            except KeyError:    \n",
    "                seed_dict[seed] = {}\n",
    "                seed_dict[seed][species] = set()\n",
    "                seed_dict[seed][species].add(tool)\n",
    "\n",
    "for seed in seed_dict:\n",
    "    for species in seed_dict[seed]:\n",
    "        no_tools = len(seed_dict[seed][species])\n",
    "        df_ref_tools.loc[seed, species] = no_tools\n",
    "\n",
    "print(df_ref_tools)"
   ]
  },
  {
   "cell_type": "code",
   "execution_count": 43,
   "id": "42b25d90-d8ff-457e-9014-34709f6333eb",
   "metadata": {},
   "outputs": [],
   "source": [
    "def evaluate_exclusive_genes_assigned_to_uniprot(exclusive_pairs, seed_genes, uniprot_dict, df_ref_tools):\n",
    "    # genes that fill a gap in the profile -> turn 0 in 1\n",
    "    fills_gap = 0\n",
    "    # genes found in all the other species\n",
    "    conserved = 0\n",
    "    # genes other tools found an ortholog but another one \n",
    "    no_gap = 0\n",
    "    # the protein-based tools don't include self-assignments \n",
    "    self_assignment = 0\n",
    "\n",
    "    filled_gaps = set()\n",
    "    conserved_filled_gaps = set()\n",
    "    no_gaps = set()\n",
    "    \n",
    "    for pair in exclusive_pairs:\n",
    "        try:\n",
    "            gene1, gene2 = pair\n",
    "        except ValueError:\n",
    "            self_assignment += 1\n",
    "            gene1 = list(pair)[0]\n",
    "            gene2 = gene1\n",
    "        #assign genes to seed and ortholog\n",
    "        if gene1 in seed_genes:\n",
    "            seed = gene1\n",
    "            ortholog = gene2\n",
    "        else:\n",
    "            seed = gene2\n",
    "            ortholog = gene1\n",
    "        #assign ortholog to species\n",
    "        species = assign_species(uniprot_dict, ortholog)\n",
    "        if df_ref_tools.loc[seed, species] == 0:\n",
    "            fills_gap += 1\n",
    "            filled_gaps.add(str(species) + '_' + seed)\n",
    "            #check conservation\n",
    "            zeros = (df_ref_tools.loc[seed] == 0).sum()\n",
    "            if zeros <= 1:\n",
    "                conserved += 1\n",
    "                conserved_filled_gaps.add(str(species) + '_' + seed)\n",
    "            #else:\n",
    "             #   print(df_ref_tools.loc[seed])\n",
    "        else:\n",
    "            no_gap += 1\n",
    "            no_gaps.add(str(species) + '_' + seed)\n",
    "            \n",
    "    return fills_gap, len(filled_gaps), conserved, len(conserved_filled_gaps), no_gap, len(no_gaps), self_assignment\n"
   ]
  },
  {
   "cell_type": "code",
   "execution_count": 45,
   "id": "542d29b4-ca7b-4e94-b8b9-9048a6bcbb58",
   "metadata": {},
   "outputs": [
    {
     "name": "stdout",
     "output_type": "stream",
     "text": [
      "busco_metazoa_augustus_gallus_v2\n",
      "492\n",
      "Pairs that filled a gap, Filled gaps in Profile, Pairs that filled a gap of a conserved gene, Conserved gaps filled, Pairs that did not fill a gap, On gene level, Self-assignment\n",
      "(44, 43, 35, 34, 448, 427, 13)\n",
      "busco_metazoa_metaeuk_gallus_v2\n",
      "168\n",
      "Pairs that filled a gap, Filled gaps in Profile, Pairs that filled a gap of a conserved gene, Conserved gaps filled, Pairs that did not fill a gap, On gene level, Self-assignment\n",
      "(42, 42, 31, 31, 126, 123, 14)\n",
      "busco_metazoa_augustus\n",
      "329\n",
      "Pairs that filled a gap, Filled gaps in Profile, Pairs that filled a gap of a conserved gene, Conserved gaps filled, Pairs that did not fill a gap, On gene level, Self-assignment\n",
      "(42, 42, 33, 33, 287, 279, 13)\n",
      "busco_metazoa_metaeuk\n",
      "180\n",
      "Pairs that filled a gap, Filled gaps in Profile, Pairs that filled a gap of a conserved gene, Conserved gaps filled, Pairs that did not fill a gap, On gene level, Self-assignment\n",
      "(41, 41, 30, 30, 139, 136, 14)\n",
      "fdog_assembly_metazoa_augustus\n",
      "127\n",
      "Pairs that filled a gap, Filled gaps in Profile, Pairs that filled a gap of a conserved gene, Conserved gaps filled, Pairs that did not fill a gap, On gene level, Self-assignment\n",
      "(44, 43, 36, 35, 83, 83, 13)\n",
      "fdog_assembly_metazoa_augustus_gallus_v2\n",
      "132\n",
      "Pairs that filled a gap, Filled gaps in Profile, Pairs that filled a gap of a conserved gene, Conserved gaps filled, Pairs that did not fill a gap, On gene level, Self-assignment\n",
      "(46, 45, 37, 36, 86, 86, 13)\n",
      "fdog_assembly_metazoa_metaeuk\n",
      "126\n",
      "Pairs that filled a gap, Filled gaps in Profile, Pairs that filled a gap of a conserved gene, Conserved gaps filled, Pairs that did not fill a gap, On gene level, Self-assignment\n",
      "(34, 34, 27, 27, 92, 91, 13)\n",
      "fdog_assembly_metazoa_metaeuk_gallus_v2\n",
      "110\n",
      "Pairs that filled a gap, Filled gaps in Profile, Pairs that filled a gap of a conserved gene, Conserved gaps filled, Pairs that did not fill a gap, On gene level, Self-assignment\n",
      "(35, 35, 28, 28, 75, 74, 13)\n"
     ]
    }
   ],
   "source": [
    "for t in tools:\n",
    "    print(t)\n",
    "    print(len(exclusive_pair_dict[t]))\n",
    "    print(\"Pairs that filled a gap, Filled gaps in Profile, Pairs that filled a gap of a conserved gene, Conserved gaps filled, Pairs that did not fill a gap, On gene level, Self-assignment\")\n",
    "    print(evaluate_exclusive_genes_assigned_to_uniprot(exclusive_pair_dict[t], seed_genes, uniprot_dict, df_ref_tools))"
   ]
  },
  {
   "cell_type": "code",
   "execution_count": 15,
   "id": "2ed5666d-432f-4f91-8035-4b8751000582",
   "metadata": {},
   "outputs": [
    {
     "name": "stdout",
     "output_type": "stream",
     "text": [
      "45351    33\n",
      "10116     7\n",
      "9031     40\n",
      "8364     18\n",
      "7955      1\n",
      "7227     19\n",
      "7070      5\n",
      "6945     52\n",
      "6412     36\n",
      "6239     80\n",
      "dtype: int64\n"
     ]
    }
   ],
   "source": [
    "# how many gaps are there in total in the df_ref_tools?\n",
    "zeros = (df_ref_tools == 0).sum()\n",
    "print(zeros)"
   ]
  },
  {
   "cell_type": "code",
   "execution_count": 16,
   "id": "752299cc-0d13-4b93-a483-d499ddddecbc",
   "metadata": {},
   "outputs": [],
   "source": [
    "#get genes that were not assigned to a UniProt ID\n",
    "# for that we have to parse the overlap tables and filter out the genes that have no overlap at all with a CDS in the reference gff files or that we could not assign to a UniProt gene\n",
    "busco_augustus_df = pd.read_csv('../overlap_tables/busco_augustus_overlap_gff_files_gallus_v2.tsv', delimiter='\\t')\n",
    "busco_metaeuk_df = pd.read_csv('../overlap_tables/busco_metaeuk_overlap_gff_files_gallus_2.tsv', delimiter='\\t')\n",
    "fa_augustus_df = pd.read_csv('../overlap_tables/fdog_ass_busco_augustus_overlap_gff_files_gallus_v2.tsv', delimiter='\\t')\n",
    "fa_metaeuk_df = pd.read_csv('../overlap_tables/fdog_ass_busco_metaeuk_overlap_gff_files_gallus_v2.tsv', delimiter='\\t')"
   ]
  },
  {
   "cell_type": "code",
   "execution_count": 34,
   "id": "9f1a08ac-3a1b-421c-91da-7648c25e4be9",
   "metadata": {},
   "outputs": [],
   "source": [
    "def evaluate_unassigned_genes(exclusive_genes, df_ref_tools):\n",
    "    # genes that fill a gap in the profile -> turn 0 in 1\n",
    "    fills_gap = 0\n",
    "    # genes found in all the other species\n",
    "    conserved = 0\n",
    "    # genes other tools found an ortholog but another one \n",
    "    no_gap = 0\n",
    "    # the protein-based tools don't include self-assignments \n",
    "    self_assignment = 0\n",
    "\n",
    "    filled_gaps = set()\n",
    "    conserved_filled_gaps = set()\n",
    "    no_gaps = set()\n",
    "\n",
    "    for pair in exclusive_genes:\n",
    "        species, seed = pair\n",
    "        if df_ref_tools.loc[seed, str(species)] == 0:\n",
    "            fills_gap += 1\n",
    "            filled_gaps.add(str(species) + '_' + seed)\n",
    "            if species == 10116:\n",
    "                print('Seed')\n",
    "                print(seed)\n",
    "            #check conservation\n",
    "            zeros = (df_ref_tools.loc[seed] == 0).sum()\n",
    "            if zeros <= 1:\n",
    "                conserved += 1\n",
    "                conserved_filled_gaps.add(str(species) + '_' + seed)\n",
    "            #else:\n",
    "             #   print(df_ref_tools.loc[seed])\n",
    "        else:\n",
    "            no_gap += 1\n",
    "            no_gaps.add(str(species) + '_' + seed)\n",
    "        \n",
    "\n",
    "    return fills_gap, len(filled_gaps), conserved, len(conserved_filled_gaps), no_gap, len(no_gaps), self_assignment"
   ]
  },
  {
   "cell_type": "code",
   "execution_count": 35,
   "id": "c67b071e-84f0-4756-903f-e4afb22bd840",
   "metadata": {},
   "outputs": [],
   "source": [
    "def get_unassigned_exclusive_pairs(df, busco_to_uniprot):\n",
    "    unassigned = df[df.isnull().any(axis=1)]\n",
    "    #print(unassigned)\n",
    "    pairs_rows = unassigned[['Species','GeneID']].copy()\n",
    "    pairs_rows['GeneID'] = pairs_rows['GeneID'].map(busco_to_uniprot)\n",
    "    pairs_rows.dropna(inplace = True)\n",
    "    #print(pairs_rows)\n",
    "    print(pairs_rows['Species'].value_counts())\n",
    "    #unassigned_pairs = pairs_rows.apply(frozenset, axis=1)\n",
    "    unassigned_pairs = pairs_rows.values.tolist()\n",
    "    return unassigned_pairs\n",
    "    "
   ]
  },
  {
   "cell_type": "code",
   "execution_count": 36,
   "id": "1338904f-85df-4f4f-8ffd-8fac0c618f9e",
   "metadata": {},
   "outputs": [],
   "source": [
    "def number_seed_genes(unassigned_pairs):\n",
    "    seeds = set()\n",
    "    pairs = set()\n",
    "    for i in unassigned_pairs:\n",
    "        sp, seed = i\n",
    "        seeds.add(seed)\n",
    "        pairs.add(str(sp) + '_' + seed)\n",
    "    return len(seeds), len(pairs)"
   ]
  },
  {
   "cell_type": "code",
   "execution_count": 37,
   "id": "410d5706-232f-4e44-9511-4a518fb72527",
   "metadata": {},
   "outputs": [
    {
     "name": "stdout",
     "output_type": "stream",
     "text": [
      "Species\n",
      "6945     113\n",
      "45351     71\n",
      "8364      57\n",
      "10116     51\n",
      "9031      38\n",
      "6412      25\n",
      "7227      12\n",
      "6239      12\n",
      "7070       6\n",
      "7955       6\n",
      "Name: count, dtype: int64\n",
      "391\n",
      "(286, 332)\n",
      "Seed\n",
      "Q96MX6\n",
      "Seed\n",
      "Q96AB6\n",
      "(72, 68, 55, 53, 319, 264, 0)\n"
     ]
    }
   ],
   "source": [
    "#fDOG-Assembly Augustus\n",
    "unassigned_pairs = get_unassigned_exclusive_pairs(fa_augustus_df, busco_vs_uniprot_dict)\n",
    "#how many pairs are included?\n",
    "print(len(unassigned_pairs))\n",
    "# how many different seed genes are included ?\n",
    "print(number_seed_genes(unassigned_pairs))\n",
    "print(evaluate_unassigned_genes(unassigned_pairs, df_ref_tools))"
   ]
  },
  {
   "cell_type": "code",
   "execution_count": null,
   "id": "cc003462-01c1-46de-bd4f-a12fada3cb17",
   "metadata": {},
   "outputs": [],
   "source": [
    "# for some additional investigations\n",
    "#unassigned_pairs[species].value_counts()\n",
    "#missing in overlap table:  why? -> fixed, due to None as UniProt IDs -> error by grouping the df during overlap table reconstruction\n",
    "    147873at33208_CM026976_1_1_g3.t1\n",
    "\t325183at33208_CM026974_1_1_g2.t1\n",
    "\t488635at33208_CM026978_1_1_g3.t1\n",
    "\t491289at33208_CM026989_1_1_g2.t1\n",
    "\t526673at33208_CM026983_1_1_g1.t1\n",
    "\t535367at33208_CM026984_1_1_g2.t1\n",
    "\t539043at33208_CM026975_1_1_g2.t1\n",
    "\t557834at33208_CM026985_1_1_g1.t1\n",
    "\t577339at33208_CM026975_1_1_g1.t1\n",
    "\t599320at33208_CM026979_1_1_g1.t1\n"
   ]
  },
  {
   "cell_type": "code",
   "execution_count": 38,
   "id": "02c96f6c-df6e-4f49-a7a1-313d533a0808",
   "metadata": {},
   "outputs": [
    {
     "name": "stdout",
     "output_type": "stream",
     "text": [
      "Species\n",
      "6945     171\n",
      "10116    107\n",
      "45351     60\n",
      "6412      22\n",
      "8364      17\n",
      "9031      14\n",
      "7070      12\n",
      "7227       9\n",
      "7955       6\n",
      "6239       1\n",
      "Name: count, dtype: int64\n",
      "419\n",
      "Seed\n",
      "Q96MX6\n",
      "Seed\n",
      "Q96AB6\n",
      "Seed\n",
      "Q96AB6\n",
      "Seed\n",
      "P61758\n",
      "Seed\n",
      "Q9BSF4\n",
      "(74, 69, 59, 55, 345, 293, 0)\n"
     ]
    }
   ],
   "source": [
    "#fDOG-Assembly MetaEuk\n",
    "unassigned_pairs = get_unassigned_exclusive_pairs(fa_metaeuk_df, busco_vs_uniprot_dict)\n",
    "#print(unassigned_pairs)\n",
    "print(len(unassigned_pairs))\n",
    "print(evaluate_unassigned_genes(unassigned_pairs, df_ref_tools))"
   ]
  },
  {
   "cell_type": "code",
   "execution_count": 39,
   "id": "3e68cccb-bb8a-48d5-80d2-9ba4d9705f79",
   "metadata": {},
   "outputs": [
    {
     "name": "stdout",
     "output_type": "stream",
     "text": [
      "Species\n",
      "6945     64\n",
      "10116    48\n",
      "7955     39\n",
      "45351    36\n",
      "6239     24\n",
      "6412     18\n",
      "9031      5\n",
      "7070      3\n",
      "8364      1\n",
      "Name: count, dtype: int64\n",
      "238\n",
      "Seed\n",
      "Q96AB6\n",
      "Seed\n",
      "Q96MX6\n",
      "(57, 56, 45, 44, 181, 171, 0)\n"
     ]
    }
   ],
   "source": [
    "#BUSCO Augustus\n",
    "unassigned_pairs = get_unassigned_exclusive_pairs(busco_augustus_df, busco_vs_uniprot_dict)\n",
    "#print(unassigned_pairs)\n",
    "print(len(unassigned_pairs))\n",
    "print(evaluate_unassigned_genes(unassigned_pairs, df_ref_tools))"
   ]
  },
  {
   "cell_type": "code",
   "execution_count": 40,
   "id": "a8019b88-fe4b-4422-bd83-c3b00270da15",
   "metadata": {},
   "outputs": [
    {
     "name": "stdout",
     "output_type": "stream",
     "text": [
      "Species\n",
      "10116    160\n",
      "6945      64\n",
      "6412      63\n",
      "45351     20\n",
      "9031       8\n",
      "7070       4\n",
      "8364       4\n",
      "7955       2\n",
      "6239       1\n",
      "Name: count, dtype: int64\n",
      "326\n",
      "Seed\n",
      "Q9BSF4\n",
      "Seed\n",
      "Q96AB6\n",
      "Seed\n",
      "Q96MX6\n",
      "Seed\n",
      "P61758\n",
      "(74, 74, 56, 56, 252, 117, 0)\n"
     ]
    }
   ],
   "source": [
    "#BUSCO MetaEuk\n",
    "unassigned_pairs = get_unassigned_exclusive_pairs(busco_metaeuk_df, busco_vs_uniprot_dict)\n",
    "#print(unassigned_pairs)\n",
    "print(len(unassigned_pairs))\n",
    "print(evaluate_unassigned_genes(unassigned_pairs, df_ref_tools))"
   ]
  },
  {
   "cell_type": "code",
   "execution_count": 46,
   "id": "acdd258e-c5b9-4186-bf43-1f86532d4381",
   "metadata": {},
   "outputs": [],
   "source": [
    "# Note for my self:\n",
    "#I did not consider if I only found an additional co-ortholog or if I found additional orthologs and none of the found ones were supported by my results"
   ]
  },
  {
   "cell_type": "code",
   "execution_count": null,
   "id": "009b009f-1bc4-47d2-8234-99c4509a9397",
   "metadata": {},
   "outputs": [],
   "source": []
  }
 ],
 "metadata": {
  "kernelspec": {
   "display_name": "Python 3 (ipykernel)",
   "language": "python",
   "name": "python3"
  },
  "language_info": {
   "codemirror_mode": {
    "name": "ipython",
    "version": 3
   },
   "file_extension": ".py",
   "mimetype": "text/x-python",
   "name": "python",
   "nbconvert_exporter": "python",
   "pygments_lexer": "ipython3",
   "version": "3.12.3"
  }
 },
 "nbformat": 4,
 "nbformat_minor": 5
}
