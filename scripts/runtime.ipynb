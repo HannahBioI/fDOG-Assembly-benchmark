{
 "cells": [
  {
   "cell_type": "markdown",
   "id": "6fc0c8ed-00da-42f6-b13c-4bfccad03561",
   "metadata": {},
   "source": [
    "# Run time compariosn"
   ]
  },
  {
   "cell_type": "markdown",
   "id": "dca7e061-9297-403c-a3aa-5231213cae2f",
   "metadata": {},
   "source": [
    "## fDOG-Assembly Augustus"
   ]
  },
  {
   "cell_type": "markdown",
   "id": "7d5867f7-1f07-4bce-8dc0-fe07099c0a65",
   "metadata": {},
   "source": [
    "#### fDOG-Assembly Augustus compute total runtime\n",
    "bash commands:\n",
    "<code>\n",
    "grep -E 'Start:|End:|Execution time was|Gene:' logs/array_523978_* > run_times_per_gene.txt\n",
    "sed -i 's/.*out://' run_times_per_gene.txt\n",
    "grep Start run_times_per_gene.txt |cut -d ' ' -f2 | sort -n | head\n",
    "grep End run_times_per_gene.txt |cut -d ' ' -f2 | sort -n | tail\n",
    "date -d @1722264730 +\"%Y-%m-%d-%H:%M:%S\"\n",
    "date -d @1722283001 +\"%Y-%m-%d-%H:%M:%S\"\n",
    "expr 1722283001 -1722264730\n",
    "</code>\n",
    "\n",
    "The results:\n",
    "18271 seconds in total\n"
   ]
  },
  {
   "cell_type": "markdown",
   "id": "b8e445e3-71e7-43fd-9ad1-40474ee2ac09",
   "metadata": {},
   "source": [
    "### Per gene\n",
    "Create table:\n",
    "<code>\n",
    "less run_times_per_gene.txt | grep -E 'Gene:|Execution' | sed 's/ seconds\\./-/' | sed 's/Gene: //'| sed 's/.* /_/' | tr -d '\\n' | sed 's/-/\\n/g' | sed 's/_/\\t/g' > run_times_per_gene.tsv\n",
    "</code>"
   ]
  },
  {
   "cell_type": "code",
   "execution_count": 2,
   "id": "589447d9-1f4a-419d-b429-0d1ada7f6b95",
   "metadata": {},
   "outputs": [],
   "source": [
    "import pandas as pd\n",
    "import seaborn as sb\n",
    "import matplotlib.pyplot as plt\n",
    "import numpy as np"
   ]
  },
  {
   "cell_type": "code",
   "execution_count": 7,
   "id": "58f14d63-a1b0-4be7-ba00-e4eb4939aa3e",
   "metadata": {},
   "outputs": [
    {
     "data": {
      "text/html": [
       "<div>\n",
       "<style scoped>\n",
       "    .dataframe tbody tr th:only-of-type {\n",
       "        vertical-align: middle;\n",
       "    }\n",
       "\n",
       "    .dataframe tbody tr th {\n",
       "        vertical-align: top;\n",
       "    }\n",
       "\n",
       "    .dataframe thead th {\n",
       "        text-align: right;\n",
       "    }\n",
       "</style>\n",
       "<table border=\"1\" class=\"dataframe\">\n",
       "  <thead>\n",
       "    <tr style=\"text-align: right;\">\n",
       "      <th></th>\n",
       "      <th>Seed</th>\n",
       "      <th>Runtime_sec</th>\n",
       "    </tr>\n",
       "  </thead>\n",
       "  <tbody>\n",
       "    <tr>\n",
       "      <th>0</th>\n",
       "      <td>231700at33208</td>\n",
       "      <td>249</td>\n",
       "    </tr>\n",
       "    <tr>\n",
       "      <th>1</th>\n",
       "      <td>234290at33208</td>\n",
       "      <td>453</td>\n",
       "    </tr>\n",
       "    <tr>\n",
       "      <th>2</th>\n",
       "      <td>235149at33208</td>\n",
       "      <td>243</td>\n",
       "    </tr>\n",
       "    <tr>\n",
       "      <th>3</th>\n",
       "      <td>235430at33208</td>\n",
       "      <td>452</td>\n",
       "    </tr>\n",
       "    <tr>\n",
       "      <th>4</th>\n",
       "      <td>235458at33208</td>\n",
       "      <td>142</td>\n",
       "    </tr>\n",
       "    <tr>\n",
       "      <th>...</th>\n",
       "      <td>...</td>\n",
       "      <td>...</td>\n",
       "    </tr>\n",
       "    <tr>\n",
       "      <th>949</th>\n",
       "      <td>227087at33208</td>\n",
       "      <td>111</td>\n",
       "    </tr>\n",
       "    <tr>\n",
       "      <th>950</th>\n",
       "      <td>227453at33208</td>\n",
       "      <td>167</td>\n",
       "    </tr>\n",
       "    <tr>\n",
       "      <th>951</th>\n",
       "      <td>227979at33208</td>\n",
       "      <td>418</td>\n",
       "    </tr>\n",
       "    <tr>\n",
       "      <th>952</th>\n",
       "      <td>231157at33208</td>\n",
       "      <td>135</td>\n",
       "    </tr>\n",
       "    <tr>\n",
       "      <th>953</th>\n",
       "      <td>114954at33208</td>\n",
       "      <td>181</td>\n",
       "    </tr>\n",
       "  </tbody>\n",
       "</table>\n",
       "<p>954 rows × 2 columns</p>\n",
       "</div>"
      ],
      "text/plain": [
       "              Seed  Runtime_sec\n",
       "0    231700at33208          249\n",
       "1    234290at33208          453\n",
       "2    235149at33208          243\n",
       "3    235430at33208          452\n",
       "4    235458at33208          142\n",
       "..             ...          ...\n",
       "949  227087at33208          111\n",
       "950  227453at33208          167\n",
       "951  227979at33208          418\n",
       "952  231157at33208          135\n",
       "953  114954at33208          181\n",
       "\n",
       "[954 rows x 2 columns]"
      ]
     },
     "metadata": {},
     "output_type": "display_data"
    }
   ],
   "source": [
    "run_time_df_augustus = pd.read_csv('../augustus_busco_core/run_times_per_gene.tsv', sep='\\t', names=['Seed', 'Runtime_sec'])\n",
    "\n",
    "display(run_time_df_augustus)"
   ]
  },
  {
   "cell_type": "code",
   "execution_count": 8,
   "id": "7ebcf1a1-7c4c-4613-8056-159bb31a55b4",
   "metadata": {},
   "outputs": [
    {
     "data": {
      "text/plain": [
       "<Axes: xlabel='Runtime_sec'>"
      ]
     },
     "execution_count": 8,
     "metadata": {},
     "output_type": "execute_result"
    },
    {
     "data": {
      "image/png": "[encoded data removed]",
      "text/plain": [
       "<Figure size 640x480 with 1 Axes>"
      ]
     },
     "metadata": {},
     "output_type": "display_data"
    }
   ],
   "source": [
    "sb.boxplot(data=run_time_df_augustus, x='Runtime_sec')"
   ]
  },
  {
   "cell_type": "code",
   "execution_count": 9,
   "id": "bf3ee1ff-3888-4036-9dde-c4461fb0ead2",
   "metadata": {},
   "outputs": [
    {
     "data": {
      "text/plain": [
       "184.1320754716981"
      ]
     },
     "execution_count": 9,
     "metadata": {},
     "output_type": "execute_result"
    }
   ],
   "source": [
    "#Mean\n",
    "run_time_df_augustus['Runtime_sec'].mean()"
   ]
  },
  {
   "cell_type": "code",
   "execution_count": 10,
   "id": "d9c97f7c-9df4-4742-b459-ec68e76bcde2",
   "metadata": {},
   "outputs": [
    {
     "data": {
      "text/plain": [
       "142.0"
      ]
     },
     "execution_count": 10,
     "metadata": {},
     "output_type": "execute_result"
    }
   ],
   "source": [
    "#Median\n",
    "run_time_df_augustus['Runtime_sec'].median()"
   ]
  },
  {
   "cell_type": "markdown",
   "id": "cc40eb2a-6af4-4beb-b3b5-563f38430e23",
   "metadata": {},
   "source": [
    "## fDOG-Assembly MetaEuk"
   ]
  },
  {
   "cell_type": "markdown",
   "id": "28be077a-381b-4705-9a02-4c6e97184104",
   "metadata": {},
   "source": [
    "#### fDOG-Assembly MetaEuk compute total runtime\n",
    "bash commands:\n",
    "<code>\n",
    "grep -E 'Start:|End:|Execution time was|Gene:' logs/array_525076_* > run_times_per_gene.txt\n",
    "sed -i 's/.*out://' run_times_per_gene.txt\n",
    "grep Start run_times_per_gene.txt |cut -d ' ' -f2 | sort -n | head\n",
    "grep End run_times_per_gene.txt |cut -d ' ' -f2 | sort -n | tail\n",
    "expr 1722369346 - 1722328127\n",
    "</code>\n",
    "\n",
    "The results:\n",
    "41219 seconds in total"
   ]
  },
  {
   "cell_type": "markdown",
   "id": "e86261e7-f378-448f-9287-61a909ff86e6",
   "metadata": {},
   "source": [
    "### Per gene"
   ]
  },
  {
   "cell_type": "markdown",
   "id": "d5291fa0-ce28-4bc6-8992-a678f78ebb03",
   "metadata": {},
   "source": [
    "Create table:\n",
    "<code>\n",
    "less run_times_per_gene.txt | grep -E 'Gene:|Execution' | sed 's/ seconds\\./-/' | sed 's/Gene: //'| sed 's/.* /_/' | tr -d '\\n' | sed 's/-/\\n/g' | sed 's/_/\\t/g' > run_times_per_gene.tsv\n",
    "</code>"
   ]
  },
  {
   "cell_type": "code",
   "execution_count": 11,
   "id": "d7f69b5e-1ff7-4f94-9a16-4fdcbb7c279c",
   "metadata": {},
   "outputs": [
    {
     "data": {
      "text/html": [
       "<div>\n",
       "<style scoped>\n",
       "    .dataframe tbody tr th:only-of-type {\n",
       "        vertical-align: middle;\n",
       "    }\n",
       "\n",
       "    .dataframe tbody tr th {\n",
       "        vertical-align: top;\n",
       "    }\n",
       "\n",
       "    .dataframe thead th {\n",
       "        text-align: right;\n",
       "    }\n",
       "</style>\n",
       "<table border=\"1\" class=\"dataframe\">\n",
       "  <thead>\n",
       "    <tr style=\"text-align: right;\">\n",
       "      <th></th>\n",
       "      <th>Seed</th>\n",
       "      <th>Runtime_sec</th>\n",
       "    </tr>\n",
       "  </thead>\n",
       "  <tbody>\n",
       "    <tr>\n",
       "      <th>0</th>\n",
       "      <td>231700at33208</td>\n",
       "      <td>301</td>\n",
       "    </tr>\n",
       "    <tr>\n",
       "      <th>1</th>\n",
       "      <td>234290at33208</td>\n",
       "      <td>1750</td>\n",
       "    </tr>\n",
       "    <tr>\n",
       "      <th>2</th>\n",
       "      <td>235149at33208</td>\n",
       "      <td>506</td>\n",
       "    </tr>\n",
       "    <tr>\n",
       "      <th>3</th>\n",
       "      <td>235430at33208</td>\n",
       "      <td>1011</td>\n",
       "    </tr>\n",
       "    <tr>\n",
       "      <th>4</th>\n",
       "      <td>235458at33208</td>\n",
       "      <td>198</td>\n",
       "    </tr>\n",
       "    <tr>\n",
       "      <th>...</th>\n",
       "      <td>...</td>\n",
       "      <td>...</td>\n",
       "    </tr>\n",
       "    <tr>\n",
       "      <th>949</th>\n",
       "      <td>227087at33208</td>\n",
       "      <td>282</td>\n",
       "    </tr>\n",
       "    <tr>\n",
       "      <th>950</th>\n",
       "      <td>227453at33208</td>\n",
       "      <td>203</td>\n",
       "    </tr>\n",
       "    <tr>\n",
       "      <th>951</th>\n",
       "      <td>227979at33208</td>\n",
       "      <td>368</td>\n",
       "    </tr>\n",
       "    <tr>\n",
       "      <th>952</th>\n",
       "      <td>231157at33208</td>\n",
       "      <td>330</td>\n",
       "    </tr>\n",
       "    <tr>\n",
       "      <th>953</th>\n",
       "      <td>114954at33208</td>\n",
       "      <td>209</td>\n",
       "    </tr>\n",
       "  </tbody>\n",
       "</table>\n",
       "<p>954 rows × 2 columns</p>\n",
       "</div>"
      ],
      "text/plain": [
       "              Seed  Runtime_sec\n",
       "0    231700at33208          301\n",
       "1    234290at33208         1750\n",
       "2    235149at33208          506\n",
       "3    235430at33208         1011\n",
       "4    235458at33208          198\n",
       "..             ...          ...\n",
       "949  227087at33208          282\n",
       "950  227453at33208          203\n",
       "951  227979at33208          368\n",
       "952  231157at33208          330\n",
       "953  114954at33208          209\n",
       "\n",
       "[954 rows x 2 columns]"
      ]
     },
     "metadata": {},
     "output_type": "display_data"
    }
   ],
   "source": [
    "run_time_df_metaeuk = pd.read_csv('../metaeuk_busco_core//run_times_per_gene.tsv', sep='\\t', names=['Seed', 'Runtime_sec'])\n",
    "\n",
    "display(run_time_df_metaeuk)"
   ]
  },
  {
   "cell_type": "code",
   "execution_count": 12,
   "id": "e4fde304-10f6-4471-b400-cfecb07369da",
   "metadata": {},
   "outputs": [
    {
     "data": {
      "text/plain": [
       "<Axes: xlabel='Runtime_sec'>"
      ]
     },
     "execution_count": 12,
     "metadata": {},
     "output_type": "execute_result"
    },
    {
     "data": {
      "image/png": "[encoded data removed]",
      "text/plain": [
       "<Figure size 640x480 with 1 Axes>"
      ]
     },
     "metadata": {},
     "output_type": "display_data"
    }
   ],
   "source": [
    "sb.boxplot(data=run_time_df_metaeuk, x='Runtime_sec')"
   ]
  },
  {
   "cell_type": "code",
   "execution_count": 13,
   "id": "cc2c7ffc-2075-4edd-8cc9-496943c32922",
   "metadata": {},
   "outputs": [
    {
     "data": {
      "text/plain": [
       "423.1184486373166"
      ]
     },
     "execution_count": 13,
     "metadata": {},
     "output_type": "execute_result"
    }
   ],
   "source": [
    "#Mean\n",
    "run_time_df_metaeuk['Runtime_sec'].mean()"
   ]
  },
  {
   "cell_type": "code",
   "execution_count": 14,
   "id": "27a723e1-6744-4b41-8372-794c40bf17d9",
   "metadata": {},
   "outputs": [
    {
     "data": {
      "text/plain": [
       "295.0"
      ]
     },
     "execution_count": 14,
     "metadata": {},
     "output_type": "execute_result"
    }
   ],
   "source": [
    "#Median\n",
    "run_time_df_metaeuk['Runtime_sec'].median()"
   ]
  },
  {
   "cell_type": "code",
   "execution_count": null,
   "id": "a225eaa9-4558-499d-80f5-bcfc796acbc4",
   "metadata": {},
   "outputs": [],
   "source": []
  }
 ],
 "metadata": {
  "kernelspec": {
   "display_name": "Python 3 (ipykernel)",
   "language": "python",
   "name": "python3"
  },
  "language_info": {
   "codemirror_mode": {
    "name": "ipython",
    "version": 3
   },
   "file_extension": ".py",
   "mimetype": "text/x-python",
   "name": "python",
   "nbconvert_exporter": "python",
   "pygments_lexer": "ipython3",
   "version": "3.12.3"
  }
 },
 "nbformat": 4,
 "nbformat_minor": 5
}
