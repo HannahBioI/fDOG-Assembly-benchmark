{
 "cells": [
  {
   "cell_type": "markdown",
   "id": "7bf4f590-5eac-494e-b9f3-a9d4787487cc",
   "metadata": {},
   "source": [
    "# Create input files for the QfO server"
   ]
  },
  {
   "cell_type": "code",
   "execution_count": 35,
   "id": "eddf61b4-e949-4bb2-a89e-39c3aae0fe0d",
   "metadata": {},
   "outputs": [],
   "source": [
    "import pickle as pkl\n",
    "import pandas as pd\n",
    "import seaborn as sb\n",
    "import matplotlib.pyplot as plt\n",
    "#from matplotlib_venn import venn2\n",
    "import re"
   ]
  },
  {
   "cell_type": "code",
   "execution_count": 36,
   "id": "4ff617c0-ec95-44ea-80f2-e7fac9176bdd",
   "metadata": {},
   "outputs": [],
   "source": [
    "#read in mapping tables\n",
    "busco_augustus_df = pd.read_csv('../overlap_tables/busco_augustus_overlap_gff_files_gallus_v2.tsv', delimiter='\\t')\n",
    "busco_metaeuk_df = pd.read_csv('../overlap_tables/busco_metaeuk_overlap_gff_files_gallus_2.tsv', delimiter='\\t')\n",
    "#fa_augustus_df = pd.read_csv('../overlap_tables/fdog_ass_busco_augustus_overlap_gff_files.tsv', delimiter='\\t')\n",
    "fa_augustus_df = pd.read_csv('../overlap_tables/fdog_ass_busco_augustus_overlap_gff_files_gallus_v2.tsv', delimiter='\\t')\n",
    "#fa_augustus_fly_df = pd.read_csv('../overlap_tables/fdog_ass_busco_augustus_fly_overlap_gff_files.tsv', delimiter='\\t')\n",
    "fa_metaeuk_df = pd.read_csv('../overlap_tables/fdog_ass_busco_metaeuk_overlap_gff_files_gallus_v2.tsv', delimiter='\\t')\n",
    "#fa_metaeuk_sens_df = pd.read_csv('../overlap_tables/fdog_ass_busco_metaeuk_sens_overlap_gff_files.tsv', delimiter='\\t')\n",
    "#fa_augustus_human_proteom = pd.read_csv('../overlap_tables/fdog_ass_human_proteom_augustus_overlap_gff_files.tsv', delimiter='\\t')"
   ]
  },
  {
   "cell_type": "code",
   "execution_count": 37,
   "id": "1105c9b4-60e7-4dce-97b9-54060002fc81",
   "metadata": {},
   "outputs": [],
   "source": [
    "def open_pkl(path):\n",
    "    pkl_file = open(path, 'rb')\n",
    "    dictionary = pkl.load(pkl_file)\n",
    "    pkl_file.close()\n",
    "    return dictionary"
   ]
  },
  {
   "cell_type": "code",
   "execution_count": 38,
   "id": "80f9a195-ddf4-4410-a286-c65263028943",
   "metadata": {},
   "outputs": [],
   "source": [
    "def parse_species_file(file):\n",
    "    lines = file.readlines()\n",
    "    species_dict = {}\n",
    "    for line in lines:\n",
    "        line = line.rstrip()\n",
    "        ncbi, name, uniprot_acc, source, refseq_acc = line.split('\\t')\n",
    "        species_dict[ncbi] = {'name': name, 'uniprot': uniprot_acc, 'source': source, 'refseq': refseq_acc}\n",
    "    return species_dict"
   ]
  },
  {
   "cell_type": "code",
   "execution_count": 39,
   "id": "963f9d24-db65-43fe-a411-3a0b34b21a91",
   "metadata": {},
   "outputs": [],
   "source": [
    "species_file = open('../../data/fDOG-assembly/species_set_benchmark_v2.tsv', 'r')\n",
    "species_dict = parse_species_file(species_file)\n",
    "species_file.close()"
   ]
  },
  {
   "cell_type": "code",
   "execution_count": 40,
   "id": "7eb294d5-b4fc-41d0-b00d-d8b3c7c260f8",
   "metadata": {},
   "outputs": [],
   "source": [
    "def create_isoform_dict(file, iso_dict):\n",
    "    try:\n",
    "        fasta = open(file, 'r')\n",
    "    except FileNotFoundError:\n",
    "        return iso_dict\n",
    "    lines = fasta.readlines()\n",
    "    for line in lines:\n",
    "        line = line.rstrip()\n",
    "        if line.startswith('>'):\n",
    "            uniprot_canonical = re.search(r'Isoform of (.*?),', line).group(1)\n",
    "            uniprot_isoform = line.split('|')[1]\n",
    "            iso_dict[uniprot_isoform] = uniprot_canonical\n",
    "    return iso_dict\n",
    "    "
   ]
  },
  {
   "cell_type": "code",
   "execution_count": 41,
   "id": "35eb9368-68cb-4225-b568-c206fa1a4e5a",
   "metadata": {},
   "outputs": [
    {
     "name": "stdout",
     "output_type": "stream",
     "text": [
      "G5EFZ3\n"
     ]
    }
   ],
   "source": [
    "isoform_dict = {}\n",
    "for key in species_dict:\n",
    "    file = '../../data/qfo_eukaryota_2022/qfo_data_2022/Eukaryota/' + species_dict[key]['uniprot'] + '_' + key + '_additional.fasta'\n",
    "    isoform_dict = create_isoform_dict(file, isoform_dict)\n",
    "print(isoform_dict['Q9XXH4'])"
   ]
  },
  {
   "cell_type": "code",
   "execution_count": 42,
   "id": "63a86e3b-7c92-4402-9645-55a887b97044",
   "metadata": {},
   "outputs": [],
   "source": [
    "isoform_out = open(\"../overlap_tables/isoform_mapping.tsv\", \"w\")\n",
    "for i in isoform_dict:\n",
    "    isoform_out.write(i + \"\\t\" + isoform_dict[i] + \"\\n\")\n",
    "isoform_out.close()"
   ]
  },
  {
   "cell_type": "code",
   "execution_count": 43,
   "id": "963ef94f-7347-4498-bcfc-f8677dd67b1d",
   "metadata": {},
   "outputs": [],
   "source": [
    "#read in mapping busco_uniprot\n",
    "busco_vs_uniprot_human = open_pkl('../pkl_files/busco_group_vs_uniprot_ident_90_length_70.pkl')\n",
    "busco_vs_uniprot_drome = open_pkl('../pkl_files/busco_group_vs_uniprot_ident_90_length_70_drome.pkl')"
   ]
  },
  {
   "cell_type": "code",
   "execution_count": 44,
   "id": "01594c99-7a5a-46c5-a3f7-463b8a499bcd",
   "metadata": {},
   "outputs": [
    {
     "name": "stdout",
     "output_type": "stream",
     "text": [
      "372257at33208\n",
      "514121at33208\n",
      "514296at33208\n",
      "545744at33208\n",
      "565053at33208\n",
      "568839at33208\n",
      "604211at33208\n",
      "618516at33208\n",
      "629763at33208\n",
      "631767at33208\n",
      "638541at33208\n",
      "642552at33208\n",
      "259581at33208\n",
      "349064at33208\n",
      "368875at33208\n",
      "492033at33208\n",
      "560694at33208\n",
      "561054at33208\n",
      "572845at33208\n",
      "576938at33208\n",
      "618986at33208\n",
      "286553at33208\n",
      "364383at33208\n",
      "378913at33208\n",
      "379636at33208\n",
      "390402at33208\n",
      "412370at33208\n",
      "490248at33208\n",
      "502691at33208\n",
      "517686at33208\n",
      "549156at33208\n",
      "552201at33208\n",
      "568022at33208\n",
      "576633at33208\n",
      "615531at33208\n",
      "643883at33208\n",
      "917\n",
      "917\n",
      "938 15\n"
     ]
    }
   ],
   "source": [
    "seed_dict = {}\n",
    "seed_file = open('../uniprotid_to_group_assignment/seed_species_list_busco.tsv','r')\n",
    "lines = seed_file.readlines()\n",
    "for line in lines:\n",
    "    line = line.rstrip()\n",
    "    group, species = line.split('\\t')\n",
    "    seed_dict[group] = species\n",
    "busco_vs_uniprot = {}\n",
    "ids = 0\n",
    "human_seed = 0\n",
    "drome_seed = 0\n",
    "for key in seed_dict:\n",
    "    if seed_dict[key] == '9606':\n",
    "        human_seed += 1\n",
    "        try:\n",
    "            uniprot_id = busco_vs_uniprot_human[key]\n",
    "            #print('Human')\n",
    "            #print(key, uniprot_id)\n",
    "            ids += 1\n",
    "        except KeyError:\n",
    "            print(key)\n",
    "            continue\n",
    "    else:\n",
    "        drome_seed += 1\n",
    "        try:\n",
    "            uniprot_id = busco_vs_uniprot_drome[key]\n",
    "            #print('Drome')\n",
    "            #print(key, uniprot_id)\n",
    "            ids += 1\n",
    "        except KeyError:\n",
    "            continue\n",
    "    busco_vs_uniprot[key] = uniprot_id\n",
    "    #print(key, busco_vs_uniprot[key])\n",
    "print(ids)\n",
    "print(len(busco_vs_uniprot))\n",
    "print(human_seed, drome_seed)"
   ]
  },
  {
   "cell_type": "code",
   "execution_count": 45,
   "id": "a1cdbe0c-3933-4e8c-a1da-8e728b8437ba",
   "metadata": {},
   "outputs": [],
   "source": [
    "mapping_seed_out = open(\"../uniprotid_to_group_assignment/mapping_busco_id_uniport_id.tsv\", \"w\")\n",
    "for key in busco_vs_uniprot:\n",
    "    mapping_seed_out.write(key + \"\\t\" + busco_vs_uniprot[key] + \"\\n\")\n",
    "mapping_seed_out.close()"
   ]
  },
  {
   "cell_type": "code",
   "execution_count": 46,
   "id": "adb04923-406d-408f-8614-ae13a7c65ac4",
   "metadata": {},
   "outputs": [
    {
     "name": "stdout",
     "output_type": "stream",
     "text": [
      "0\n",
      "0\n"
     ]
    }
   ],
   "source": [
    "drome_set = set()\n",
    "counter = 0\n",
    "for i in busco_vs_uniprot_drome:\n",
    "    if busco_vs_uniprot_drome[i] in drome_set:\n",
    "        print(i, busco_vs_uniprot_drome[i])\n",
    "        counter += 1\n",
    "    else:\n",
    "        drome_set.add(busco_vs_uniprot_drome[i])\n",
    "print(counter)\n",
    "\n",
    "human_set = set()\n",
    "counter = 0\n",
    "for i in busco_vs_uniprot_human:\n",
    "    #print(i)\n",
    "    #print(busco_vs_uniprot_human[i])\n",
    "    break\n",
    "    if busco_vs_uniprot_human[i] in human_set:\n",
    "        print(i, busco_vs_uniprot_human[i])\n",
    "        counter += 1\n",
    "    else:\n",
    "        human_set.add(busco_vs_uniprot_human[i])\n",
    "print(counter)\n"
   ]
  },
  {
   "cell_type": "code",
   "execution_count": 48,
   "id": "06360029-7c10-4bb4-8800-801c545b3bba",
   "metadata": {},
   "outputs": [],
   "source": [
    "def filter_dataframe(cutoff, category, df, busco_to_uniprot, isoform_dict, max_per_gene=True):\n",
    "    print(df.head())\n",
    "    df.drop_duplicates(inplace=True)\n",
    "    df['GeneID'] = df['GeneID'].map(busco_to_uniprot)\n",
    "    df['uniprotID'] = df['uniprotID'].map(lambda x: isoform_dict.get(x, x))\n",
    "    print(df.head())\n",
    "    if max_per_gene == True:\n",
    "        max_values = df.groupby(['Species', 'GeneID', 'transcript'])['coverage'].transform(max)\n",
    "        print(max_values.head())\n",
    "        max_df = df[df['coverage'] == max_values]\n",
    "        df = max_df\n",
    "    filtered_df = df[df[category] >= cutoff].copy()\n",
    "    print(filtered_df.head())\n",
    "    filtered_df.dropna(subset=['GeneID'], inplace=True)\n",
    "    print(filtered_df.head())\n",
    "    return filtered_df[['GeneID', 'uniprotID']].copy()"
   ]
  },
  {
   "cell_type": "code",
   "execution_count": 49,
   "id": "67dafd92-3259-4b05-a68b-1d8b6fc55fbb",
   "metadata": {},
   "outputs": [
    {
     "name": "stdout",
     "output_type": "stream",
     "text": [
      "   Species         GeneID   transcript  overlap uniprotID  coverage\n",
      "0     6239  103854at33208  r2.m1.g1.t1   1650.0    Q19954  0.802529\n",
      "1     6239  103854at33208  r2.m1.g1.t1   2056.0    Q19954  1.000000\n",
      "2     6239  103854at33208  r2.m1.g1.t1   1650.0    Q19954  0.810015\n",
      "3     6239  311758at33208  r2.m1.g1.t1    668.0    G8JY22  0.891856\n",
      "4     6239  311758at33208  r2.m1.g1.t1   1401.0    H2KYN0  0.857930\n",
      "   Species  GeneID   transcript  overlap uniprotID  coverage\n",
      "0     6239  P49754  r2.m1.g1.t1   1650.0    Q19954  0.802529\n",
      "1     6239  P49754  r2.m1.g1.t1   2056.0    Q19954  1.000000\n",
      "2     6239  P49754  r2.m1.g1.t1   1650.0    Q19954  0.810015\n",
      "3     6239  Q9NRW7  r2.m1.g1.t1    668.0    Q18610  0.891856\n",
      "4     6239  Q9NRW7  r2.m1.g1.t1   1401.0    H2KYN0  0.857930\n",
      "0    1.000000\n",
      "1    1.000000\n",
      "2    1.000000\n",
      "3    0.891856\n",
      "4    0.891856\n",
      "Name: coverage, dtype: float64\n",
      "    Species  GeneID   transcript  overlap   uniprotID  coverage\n",
      "1      6239  P49754  r2.m1.g1.t1   2056.0      Q19954  1.000000\n",
      "3      6239  Q9NRW7  r2.m1.g1.t1    668.0      Q18610  0.891856\n",
      "7      6239  Q16878  r2.m1.g1.t1    568.0      Q20893  1.000000\n",
      "9      6239  Q8NE00  r2.m1.g1.t1   1469.0      Q17598  1.000000\n",
      "11     6239  Q9GZZ1        g1.t1   2196.0  A0A131MBU3  1.000000\n",
      "    Species  GeneID   transcript  overlap   uniprotID  coverage\n",
      "1      6239  P49754  r2.m1.g1.t1   2056.0      Q19954  1.000000\n",
      "3      6239  Q9NRW7  r2.m1.g1.t1    668.0      Q18610  0.891856\n",
      "7      6239  Q16878  r2.m1.g1.t1    568.0      Q20893  1.000000\n",
      "9      6239  Q8NE00  r2.m1.g1.t1   1469.0      Q17598  1.000000\n",
      "11     6239  Q9GZZ1        g1.t1   2196.0  A0A131MBU3  1.000000\n"
     ]
    },
    {
     "name": "stderr",
     "output_type": "stream",
     "text": [
      "/tmp/ipykernel_1981019/467761846.py:8: FutureWarning: The provided callable <built-in function max> is currently using SeriesGroupBy.max. In a future version of pandas, the provided callable will be used directly. To keep current behavior pass the string \"max\" instead.\n",
      "  max_values = df.groupby(['Species', 'GeneID', 'transcript'])['coverage'].transform(max)\n"
     ]
    }
   ],
   "source": [
    "busco_augustus_df_sub = filter_dataframe(0.5, 'coverage', busco_augustus_df, busco_vs_uniprot, isoform_dict)\n",
    "busco_augustus_df_sub.drop_duplicates(keep='first',inplace=True)\n",
    "busco_augustus_df_sub.to_csv('../qfo_input/busco_metazoa_augustus_gallus_v2.tsv', sep='\\t', index=False, header=False)"
   ]
  },
  {
   "cell_type": "code",
   "execution_count": 50,
   "id": "47388bc2-7284-4696-9634-960ed6d51515",
   "metadata": {},
   "outputs": [
    {
     "name": "stdout",
     "output_type": "stream",
     "text": [
      "   Species         GeneID                                         transcript  \\\n",
      "0     6239  446000at33208  446000at33208_6239_0:00007b|BX284601.5|+|55821...   \n",
      "1     6239  446000at33208  446000at33208_6239_0:000685|BX284601.5|+|49019...   \n",
      "2     6239  642773at33208  642773at33208_6239_0:000102|BX284601.5|+|74923...   \n",
      "3     6239  357580at33208  357580at33208_6239_0:00073f|BX284601.5|+|41932...   \n",
      "4     6239  603370at33208  603370at33208_6239_0:000148|BX284601.5|-|83291...   \n",
      "\n",
      "   overlap uniprotID  coverage  \n",
      "0    631.0    P91402  0.718679  \n",
      "1    870.0    P91266  0.987514  \n",
      "2    310.0    Q22850  0.990415  \n",
      "3    956.0    O02097  0.971545  \n",
      "4    431.0    Q20647  0.990805  \n",
      "   Species  GeneID                                         transcript  \\\n",
      "0     6239  O60725  446000at33208_6239_0:00007b|BX284601.5|+|55821...   \n",
      "1     6239  O60725  446000at33208_6239_0:000685|BX284601.5|+|49019...   \n",
      "2     6239  Q7JRC0  642773at33208_6239_0:000102|BX284601.5|+|74923...   \n",
      "3     6239  Q96DI7  357580at33208_6239_0:00073f|BX284601.5|+|41932...   \n",
      "4     6239  P62750  603370at33208_6239_0:000148|BX284601.5|-|83291...   \n",
      "\n",
      "   overlap uniprotID  coverage  \n",
      "0    631.0    P91402  0.718679  \n",
      "1    870.0    P91266  0.987514  \n",
      "2    310.0    Q22850  0.990415  \n",
      "3    956.0    O02097  0.971545  \n",
      "4    431.0    Q20647  0.990805  \n",
      "0    0.718679\n",
      "1    0.987514\n",
      "2    0.990415\n",
      "3    0.971545\n",
      "4    0.990805\n",
      "Name: coverage, dtype: float64\n",
      "   Species  GeneID                                         transcript  \\\n",
      "0     6239  O60725  446000at33208_6239_0:00007b|BX284601.5|+|55821...   \n",
      "1     6239  O60725  446000at33208_6239_0:000685|BX284601.5|+|49019...   \n",
      "2     6239  Q7JRC0  642773at33208_6239_0:000102|BX284601.5|+|74923...   \n",
      "3     6239  Q96DI7  357580at33208_6239_0:00073f|BX284601.5|+|41932...   \n",
      "4     6239  P62750  603370at33208_6239_0:000148|BX284601.5|-|83291...   \n",
      "\n",
      "   overlap uniprotID  coverage  \n",
      "0    631.0    P91402  0.718679  \n",
      "1    870.0    P91266  0.987514  \n",
      "2    310.0    Q22850  0.990415  \n",
      "3    956.0    O02097  0.971545  \n",
      "4    431.0    Q20647  0.990805  \n",
      "   Species  GeneID                                         transcript  \\\n",
      "0     6239  O60725  446000at33208_6239_0:00007b|BX284601.5|+|55821...   \n",
      "1     6239  O60725  446000at33208_6239_0:000685|BX284601.5|+|49019...   \n",
      "2     6239  Q7JRC0  642773at33208_6239_0:000102|BX284601.5|+|74923...   \n",
      "3     6239  Q96DI7  357580at33208_6239_0:00073f|BX284601.5|+|41932...   \n",
      "4     6239  P62750  603370at33208_6239_0:000148|BX284601.5|-|83291...   \n",
      "\n",
      "   overlap uniprotID  coverage  \n",
      "0    631.0    P91402  0.718679  \n",
      "1    870.0    P91266  0.987514  \n",
      "2    310.0    Q22850  0.990415  \n",
      "3    956.0    O02097  0.971545  \n",
      "4    431.0    Q20647  0.990805  \n"
     ]
    },
    {
     "name": "stderr",
     "output_type": "stream",
     "text": [
      "/tmp/ipykernel_1981019/467761846.py:8: FutureWarning: The provided callable <built-in function max> is currently using SeriesGroupBy.max. In a future version of pandas, the provided callable will be used directly. To keep current behavior pass the string \"max\" instead.\n",
      "  max_values = df.groupby(['Species', 'GeneID', 'transcript'])['coverage'].transform(max)\n"
     ]
    }
   ],
   "source": [
    "busco_metaeuk_sub = filter_dataframe(0.5, 'coverage', busco_metaeuk_df, busco_vs_uniprot, isoform_dict)\n",
    "busco_metaeuk_sub.drop_duplicates(keep='first',inplace=True)\n",
    "busco_metaeuk_sub.to_csv('../qfo_input/busco_metazoa_metaeuk_gallus_v2.tsv', sep='\\t', index=False, header=False)"
   ]
  },
  {
   "cell_type": "code",
   "execution_count": 51,
   "id": "437c1278-822a-469d-93b7-63922260e788",
   "metadata": {},
   "outputs": [
    {
     "name": "stdout",
     "output_type": "stream",
     "text": [
      "   Species         GeneID                        transcript  overlap  \\\n",
      "0     9031  139188at33208  139188at33208_CM000103_5_1_g2.t1   2290.0   \n",
      "1     9031  139188at33208  139188at33208_CM000103_5_1_g2.t1   2214.0   \n",
      "2     9031  139188at33208  139188at33208_CM000103_5_1_g2.t1   2181.0   \n",
      "3     9031  567750at33208  567750at33208_CM000103_5_1_g2.t1    415.0   \n",
      "4     9031   57158at33208   57158at33208_CM000103_5_1_g4.t1   3486.0   \n",
      "\n",
      "    uniprotID  coverage  \n",
      "0      F1NHU0  0.996953  \n",
      "1      F1NHU0  1.000000  \n",
      "2      F1NHU0  0.975839  \n",
      "3         NaN  1.000000  \n",
      "4  A0A1D6UPS9  1.000000  \n",
      "   Species  GeneID                        transcript  overlap   uniprotID  \\\n",
      "0     9031  Q9H9E3  139188at33208_CM000103_5_1_g2.t1   2290.0      F1NHU0   \n",
      "1     9031  Q9H9E3  139188at33208_CM000103_5_1_g2.t1   2214.0      F1NHU0   \n",
      "2     9031  Q9H9E3  139188at33208_CM000103_5_1_g2.t1   2181.0      F1NHU0   \n",
      "3     9031  Q9UL33  567750at33208_CM000103_5_1_g2.t1    415.0         NaN   \n",
      "4     9031  Q15393   57158at33208_CM000103_5_1_g4.t1   3486.0  A0A1D6UPS9   \n",
      "\n",
      "   coverage  \n",
      "0  0.996953  \n",
      "1  1.000000  \n",
      "2  0.975839  \n",
      "3  1.000000  \n",
      "4  1.000000  \n",
      "0    1.0\n",
      "1    1.0\n",
      "2    1.0\n",
      "3    1.0\n",
      "4    1.0\n",
      "Name: coverage, dtype: float64\n",
      "    Species  GeneID                        transcript  overlap   uniprotID  \\\n",
      "1      9031  Q9H9E3  139188at33208_CM000103_5_1_g2.t1   2214.0      F1NHU0   \n",
      "3      9031  Q9UL33  567750at33208_CM000103_5_1_g2.t1    415.0         NaN   \n",
      "4      9031  Q15393   57158at33208_CM000103_5_1_g4.t1   3486.0  A0A1D6UPS9   \n",
      "8      9031  O14737  628247at33208_CM000103_5_1_g2.t1    375.0      E1BXI3   \n",
      "10     9031  Q9BTX3  631811at33208_CM000103_5_1_g3.t1    516.0  A0A1D5PL82   \n",
      "\n",
      "    coverage  \n",
      "1        1.0  \n",
      "3        1.0  \n",
      "4        1.0  \n",
      "8        1.0  \n",
      "10       1.0  \n",
      "    Species  GeneID                        transcript  overlap   uniprotID  \\\n",
      "1      9031  Q9H9E3  139188at33208_CM000103_5_1_g2.t1   2214.0      F1NHU0   \n",
      "3      9031  Q9UL33  567750at33208_CM000103_5_1_g2.t1    415.0         NaN   \n",
      "4      9031  Q15393   57158at33208_CM000103_5_1_g4.t1   3486.0  A0A1D6UPS9   \n",
      "8      9031  O14737  628247at33208_CM000103_5_1_g2.t1    375.0      E1BXI3   \n",
      "10     9031  Q9BTX3  631811at33208_CM000103_5_1_g3.t1    516.0  A0A1D5PL82   \n",
      "\n",
      "    coverage  \n",
      "1        1.0  \n",
      "3        1.0  \n",
      "4        1.0  \n",
      "8        1.0  \n",
      "10       1.0  \n"
     ]
    },
    {
     "name": "stderr",
     "output_type": "stream",
     "text": [
      "/tmp/ipykernel_1981019/467761846.py:8: FutureWarning: The provided callable <built-in function max> is currently using SeriesGroupBy.max. In a future version of pandas, the provided callable will be used directly. To keep current behavior pass the string \"max\" instead.\n",
      "  max_values = df.groupby(['Species', 'GeneID', 'transcript'])['coverage'].transform(max)\n"
     ]
    }
   ],
   "source": [
    "fa_augustus_sub = filter_dataframe(0.5, 'coverage', fa_augustus_df, busco_vs_uniprot, isoform_dict)\n",
    "fa_augustus_sub.drop_duplicates(keep='first',inplace=True)\n",
    "fa_augustus_sub.to_csv('../qfo_input/fdog_assembly_metazoa_augustus_gallus_v2.tsv', sep='\\t', index=False, header=False)"
   ]
  },
  {
   "cell_type": "code",
   "execution_count": 19,
   "id": "b1bd4fe0-a6e5-4d50-9d13-39d6201220ae",
   "metadata": {},
   "outputs": [
    {
     "name": "stdout",
     "output_type": "stream",
     "text": [
      "   Species         GeneID                         transcript  overlap  \\\n",
      "0     6412  563358at33208  563358at33208_KB097753.1_1_1_mRNA    392.0   \n",
      "1     6412  422158at33208  422158at33208_KB097753.1_1_1_mRNA    925.0   \n",
      "2     6412  247183at33208  247183at33208_KB097753.1_1_1_mRNA   2327.0   \n",
      "3     6412  610427at33208  610427at33208_KB097753.1_1_1_mRNA    362.0   \n",
      "4     6412  115878at33208  115878at33208_KB097753.1_1_1_mRNA   1716.0   \n",
      "\n",
      "  uniprotID  coverage  \n",
      "0    T1ELS2  0.989899  \n",
      "1    T1FMJ0  0.988248  \n",
      "2    T1G0E3  0.908275  \n",
      "3    T1EY34  0.983696  \n",
      "4    T1FRG7  0.913738  \n",
      "   Species  GeneID                         transcript  overlap uniprotID  \\\n",
      "0     6412  Q9BRN9  563358at33208_KB097753.1_1_1_mRNA    392.0    T1ELS2   \n",
      "1     6412  Q9H4P4  422158at33208_KB097753.1_1_1_mRNA    925.0    T1FMJ0   \n",
      "2     6412  Q92845  247183at33208_KB097753.1_1_1_mRNA   2327.0    T1G0E3   \n",
      "3     6412  Q9UI30  610427at33208_KB097753.1_1_1_mRNA    362.0    T1EY34   \n",
      "4     6412  Q96RR1  115878at33208_KB097753.1_1_1_mRNA   1716.0    T1FRG7   \n",
      "\n",
      "   coverage  \n",
      "0  0.989899  \n",
      "1  0.988248  \n",
      "2  0.908275  \n",
      "3  0.983696  \n",
      "4  0.913738  \n",
      "0    0.989899\n",
      "1    0.988248\n",
      "2    0.908275\n",
      "3    0.983696\n",
      "4    0.913738\n",
      "Name: coverage, dtype: float64\n",
      "   Species  GeneID                         transcript  overlap uniprotID  \\\n",
      "0     6412  Q9BRN9  563358at33208_KB097753.1_1_1_mRNA    392.0    T1ELS2   \n",
      "1     6412  Q9H4P4  422158at33208_KB097753.1_1_1_mRNA    925.0    T1FMJ0   \n",
      "2     6412  Q92845  247183at33208_KB097753.1_1_1_mRNA   2327.0    T1G0E3   \n",
      "3     6412  Q9UI30  610427at33208_KB097753.1_1_1_mRNA    362.0    T1EY34   \n",
      "4     6412  Q96RR1  115878at33208_KB097753.1_1_1_mRNA   1716.0    T1FRG7   \n",
      "\n",
      "   coverage  \n",
      "0  0.989899  \n",
      "1  0.988248  \n",
      "2  0.908275  \n",
      "3  0.983696  \n",
      "4  0.913738  \n",
      "   Species  GeneID                         transcript  overlap uniprotID  \\\n",
      "0     6412  Q9BRN9  563358at33208_KB097753.1_1_1_mRNA    392.0    T1ELS2   \n",
      "1     6412  Q9H4P4  422158at33208_KB097753.1_1_1_mRNA    925.0    T1FMJ0   \n",
      "2     6412  Q92845  247183at33208_KB097753.1_1_1_mRNA   2327.0    T1G0E3   \n",
      "3     6412  Q9UI30  610427at33208_KB097753.1_1_1_mRNA    362.0    T1EY34   \n",
      "4     6412  Q96RR1  115878at33208_KB097753.1_1_1_mRNA   1716.0    T1FRG7   \n",
      "\n",
      "   coverage  \n",
      "0  0.989899  \n",
      "1  0.988248  \n",
      "2  0.908275  \n",
      "3  0.983696  \n",
      "4  0.913738  \n"
     ]
    },
    {
     "name": "stderr",
     "output_type": "stream",
     "text": [
      "/tmp/ipykernel_2060725/467761846.py:8: FutureWarning: The provided callable <built-in function max> is currently using SeriesGroupBy.max. In a future version of pandas, the provided callable will be used directly. To keep current behavior pass the string \"max\" instead.\n",
      "  max_values = df.groupby(['Species', 'GeneID', 'transcript'])['coverage'].transform(max)\n"
     ]
    }
   ],
   "source": [
    "fa_metaeuk_sub = filter_dataframe(0.5, 'coverage', fa_metaeuk_sens_df, busco_vs_uniprot, isoform_dict)\n",
    "fa_metaeuk_sub.drop_duplicates(keep='first',inplace=True)\n",
    "fa_metaeuk_sub.to_csv('../qfo_input/fdog_assembly_metazoa_sens_metaeuk.tsv', sep='\\t', index=False, header=False)"
   ]
  },
  {
   "cell_type": "code",
   "execution_count": 52,
   "id": "ebaca26f-b3c3-4ae3-af83-4aa8b5c530ae",
   "metadata": {},
   "outputs": [
    {
     "name": "stdout",
     "output_type": "stream",
     "text": [
      "   Species         GeneID                         transcript  overlap  \\\n",
      "0     6412  533666at33208  533666at33208_KB095884.1_1_1_mRNA    434.0   \n",
      "1     6412  335107at33208  335107at33208_KB095884.1_1_1_mRNA    977.0   \n",
      "2     6412  418979at33208  418979at33208_KB095884.1_1_1_mRNA    634.0   \n",
      "3     6412  382262at33208  382262at33208_KB096864.1_1_2_mRNA    173.0   \n",
      "4     6412  592087at33208  592087at33208_KB096864.1_1_1_mRNA    559.0   \n",
      "\n",
      "  uniprotID  coverage  \n",
      "0    T1EDN9  0.962306  \n",
      "1    T1FNW6  0.937620  \n",
      "2    T1FPC2  0.990625  \n",
      "3    T1G4V5  1.000000  \n",
      "4    T1EFN7  0.933222  \n",
      "   Species  GeneID                         transcript  overlap uniprotID  \\\n",
      "0     6412  Q9H9J2  533666at33208_KB095884.1_1_1_mRNA    434.0    T1EDN9   \n",
      "1     6412  P17707  335107at33208_KB095884.1_1_1_mRNA    977.0    T1FNW6   \n",
      "2     6412  Q16878  418979at33208_KB095884.1_1_1_mRNA    634.0    T1FPC2   \n",
      "3     6412  Q6PJT7  382262at33208_KB096864.1_1_2_mRNA    173.0    T1G4V5   \n",
      "4     6412  Q9Y535  592087at33208_KB096864.1_1_1_mRNA    559.0    T1EFN7   \n",
      "\n",
      "   coverage  \n",
      "0  0.962306  \n",
      "1  0.937620  \n",
      "2  0.990625  \n",
      "3  1.000000  \n",
      "4  0.933222  \n",
      "0    0.962306\n",
      "1    0.937620\n",
      "2    0.990625\n",
      "3    1.000000\n",
      "4    0.933222\n",
      "Name: coverage, dtype: float64\n",
      "   Species  GeneID                         transcript  overlap uniprotID  \\\n",
      "0     6412  Q9H9J2  533666at33208_KB095884.1_1_1_mRNA    434.0    T1EDN9   \n",
      "1     6412  P17707  335107at33208_KB095884.1_1_1_mRNA    977.0    T1FNW6   \n",
      "2     6412  Q16878  418979at33208_KB095884.1_1_1_mRNA    634.0    T1FPC2   \n",
      "3     6412  Q6PJT7  382262at33208_KB096864.1_1_2_mRNA    173.0    T1G4V5   \n",
      "4     6412  Q9Y535  592087at33208_KB096864.1_1_1_mRNA    559.0    T1EFN7   \n",
      "\n",
      "   coverage  \n",
      "0  0.962306  \n",
      "1  0.937620  \n",
      "2  0.990625  \n",
      "3  1.000000  \n",
      "4  0.933222  \n",
      "   Species  GeneID                         transcript  overlap uniprotID  \\\n",
      "0     6412  Q9H9J2  533666at33208_KB095884.1_1_1_mRNA    434.0    T1EDN9   \n",
      "1     6412  P17707  335107at33208_KB095884.1_1_1_mRNA    977.0    T1FNW6   \n",
      "2     6412  Q16878  418979at33208_KB095884.1_1_1_mRNA    634.0    T1FPC2   \n",
      "3     6412  Q6PJT7  382262at33208_KB096864.1_1_2_mRNA    173.0    T1G4V5   \n",
      "4     6412  Q9Y535  592087at33208_KB096864.1_1_1_mRNA    559.0    T1EFN7   \n",
      "\n",
      "   coverage  \n",
      "0  0.962306  \n",
      "1  0.937620  \n",
      "2  0.990625  \n",
      "3  1.000000  \n",
      "4  0.933222  \n"
     ]
    },
    {
     "name": "stderr",
     "output_type": "stream",
     "text": [
      "/tmp/ipykernel_1981019/467761846.py:8: FutureWarning: The provided callable <built-in function max> is currently using SeriesGroupBy.max. In a future version of pandas, the provided callable will be used directly. To keep current behavior pass the string \"max\" instead.\n",
      "  max_values = df.groupby(['Species', 'GeneID', 'transcript'])['coverage'].transform(max)\n"
     ]
    }
   ],
   "source": [
    "fa_metaeuk_sub = filter_dataframe(0.5, 'coverage', fa_metaeuk_df, busco_vs_uniprot, isoform_dict)\n",
    "fa_metaeuk_sub.drop_duplicates(keep='first',inplace=True)\n",
    "fa_metaeuk_sub.to_csv('../qfo_input/fdog_assembly_metazoa_metaeuk_gallus_v2.tsv', sep='\\t', index=False, header=False)"
   ]
  },
  {
   "cell_type": "markdown",
   "id": "e8e74f2c-34ba-45c6-858d-dd98ffb50373",
   "metadata": {},
   "source": [
    "# Filter qfo22 uploaded data from other tools for BUSCO and fDOG-Assembly comparison"
   ]
  },
  {
   "cell_type": "code",
   "execution_count": 19,
   "id": "bcb7c774-0baf-4173-a89a-372d665fc9ed",
   "metadata": {},
   "outputs": [
    {
     "name": "stdout",
     "output_type": "stream",
     "text": [
      "45351\n",
      "10116\n",
      "9031\n",
      "8364\n",
      "7955\n",
      "7227\n",
      "7070\n",
      "6945\n",
      "6412\n",
      "6239\n"
     ]
    }
   ],
   "source": [
    "uniprot_ids_search_species = set()\n",
    "qfo_path = '../../data/qfo_eukaryota_2022/qfo_data_2022/Eukaryota/'\n",
    "for key in species_dict:\n",
    "    print(key)\n",
    "    file = open(qfo_path + species_dict[key]['uniprot'] + '_' + key + '.fasta', 'r')\n",
    "    lines = file.readlines()\n",
    "    for line in lines:\n",
    "        if line.startswith('>'):\n",
    "            uniprot_ids_search_species.add(line.split('|')[1])"
   ]
  },
  {
   "cell_type": "code",
   "execution_count": 20,
   "id": "49346b6b-a62f-45f4-aadd-b231fcb8ef43",
   "metadata": {},
   "outputs": [],
   "source": [
    "uniprot_ref_species = set()\n",
    "for key in busco_vs_uniprot:\n",
    "    uniprot_ref_species.add(busco_vs_uniprot[key])"
   ]
  },
  {
   "cell_type": "code",
   "execution_count": 21,
   "id": "cf0b2f66-62a8-4c05-a655-32657143e72b",
   "metadata": {},
   "outputs": [],
   "source": [
    "def filter_files(path, set_search_species, set_ref_species):\n",
    "    file = open(path, 'r')\n",
    "    out_list = []\n",
    "    lines = file.readlines()\n",
    "    for line in lines:\n",
    "        line = line.rstrip()\n",
    "        id1, id2 = line.split('\\t')\n",
    "        if id1 in set_ref_species and id2 in set_search_species:\n",
    "            out_list.append(line)\n",
    "        elif id2 in set_ref_species and id1 in set_search_species:\n",
    "            out_list.append(line)\n",
    "        #else:\n",
    "            #print(id1, id2)\n",
    "    return out_list"
   ]
  },
  {
   "cell_type": "code",
   "execution_count": 22,
   "id": "fa6d5947-1efe-400f-a336-a54e61c7d2c0",
   "metadata": {},
   "outputs": [
    {
     "name": "stdout",
     "output_type": "stream",
     "text": [
      "8487\n"
     ]
    }
   ],
   "source": [
    "inparanoid = '../../data/qfo_22_results_different_tools/inparanoid/InParanoid_QFO22.pairs_1'\n",
    "inparanoid_out = filter_files(inparanoid, uniprot_ref_species, uniprot_ids_search_species)\n",
    "out_file = open('../qfo_input/inparanoid.tsv','w')\n",
    "for i in inparanoid_out:\n",
    "    out_file.write(i + '\\n')\n",
    "out_file.close()\n",
    "print(len(inparanoid_out))"
   ]
  },
  {
   "cell_type": "code",
   "execution_count": 23,
   "id": "f82fd9b4-a4ba-4fff-8e0a-4b6cf0d4d8c5",
   "metadata": {},
   "outputs": [
    {
     "name": "stdout",
     "output_type": "stream",
     "text": [
      "7973\n"
     ]
    }
   ],
   "source": [
    "oma_pairs = '../../data/qfo_22_results_different_tools/oma_pairs/OMA.2.5.0-VPairs.txt'\n",
    "oma_out = filter_files(oma_pairs, uniprot_ref_species, uniprot_ids_search_species)\n",
    "out_file = open('../qfo_input/oma_pairs.tsv', 'w')\n",
    "for i in oma_out:\n",
    "    out_file.write(i + '\\n')\n",
    "out_file.close()\n",
    "print(len(oma_out))"
   ]
  },
  {
   "cell_type": "code",
   "execution_count": 24,
   "id": "d6316eef-fcba-460b-9d08-afca73493e86",
   "metadata": {},
   "outputs": [
    {
     "name": "stdout",
     "output_type": "stream",
     "text": [
      "8738\n"
     ]
    }
   ],
   "source": [
    "bbh = '../../data/qfo_22_results_different_tools/bbh/bbh_2columns.tsv'\n",
    "bbh_out = filter_files(bbh, uniprot_ref_species, uniprot_ids_search_species)\n",
    "out_file = open('../qfo_input/bbh.tsv','w')\n",
    "for i in bbh_out:\n",
    "    out_file.write(i + '\\n')\n",
    "out_file.close()\n",
    "print(len(bbh_out))"
   ]
  },
  {
   "cell_type": "code",
   "execution_count": 25,
   "id": "7172bf39-c26f-425b-a19b-99b7f8e34dd3",
   "metadata": {},
   "outputs": [
    {
     "name": "stdout",
     "output_type": "stream",
     "text": [
      "8945\n"
     ]
    }
   ],
   "source": [
    "domainoid = '../../data/qfo_22_results_different_tools/domainoid/mergedResults_domainoid.tsv'\n",
    "domainoid_out = filter_files(domainoid, uniprot_ref_species, uniprot_ids_search_species)\n",
    "out_file = open('../qfo_input/domainoid.tsv','w')\n",
    "for i in domainoid_out:\n",
    "    out_file.write(i + '\\n')\n",
    "out_file.close()\n",
    "print(len(domainoid_out))"
   ]
  },
  {
   "cell_type": "code",
   "execution_count": 26,
   "id": "04f7b052-35fb-479e-87a8-b50c6b4e0d9f",
   "metadata": {},
   "outputs": [
    {
     "name": "stdout",
     "output_type": "stream",
     "text": [
      "8168\n"
     ]
    }
   ],
   "source": [
    "ensamble = '../../data/qfo_22_results_different_tools/ensamble_compara/ensamble_compara.tsv'\n",
    "ensamble_out = filter_files(ensamble, uniprot_ref_species, uniprot_ids_search_species)\n",
    "out_file = open('../qfo_input/ensamble.tsv','w')\n",
    "for i in ensamble_out:\n",
    "    out_file.write(i + '\\n')\n",
    "out_file.close()\n",
    "print(len(ensamble_out))"
   ]
  },
  {
   "cell_type": "code",
   "execution_count": 27,
   "id": "1acd3442-40c0-4265-847a-bb4ee893ae88",
   "metadata": {},
   "outputs": [
    {
     "name": "stdout",
     "output_type": "stream",
     "text": [
      "8422\n"
     ]
    }
   ],
   "source": [
    "hieranoid = '../../data/qfo_22_results_different_tools/hieranoid/pairs_hieranoid-diamond.tsv'\n",
    "hieranoid_out = filter_files(hieranoid, uniprot_ref_species, uniprot_ids_search_species)\n",
    "out_file = open('../qfo_input/hieranoid.tsv','w')\n",
    "for i in hieranoid_out:\n",
    "    out_file.write(i + '\\n')\n",
    "out_file.close()\n",
    "print(len(hieranoid_out))"
   ]
  },
  {
   "cell_type": "code",
   "execution_count": 28,
   "id": "d7bc6627-ec21-464a-a9bc-3d07d72a0880",
   "metadata": {},
   "outputs": [
    {
     "name": "stdout",
     "output_type": "stream",
     "text": [
      "8979\n"
     ]
    }
   ],
   "source": [
    "metaphors = '../../data/qfo_22_results_different_tools/metaphors/metaphors.Oldest_seed.CS0.5.2022.tsv'\n",
    "metaphors_out = filter_files(metaphors, uniprot_ref_species, uniprot_ids_search_species)\n",
    "out_file = open('../qfo_input/metaphors.tsv','w')\n",
    "for i in metaphors_out:\n",
    "    out_file.write(i + '\\n')\n",
    "out_file.close()\n",
    "print(len(metaphors_out))"
   ]
  },
  {
   "cell_type": "code",
   "execution_count": 29,
   "id": "9a36955a-39d7-4a54-86f6-60e15f6f6a4f",
   "metadata": {},
   "outputs": [
    {
     "name": "stdout",
     "output_type": "stream",
     "text": [
      "8616\n"
     ]
    }
   ],
   "source": [
    "orthoffgc = '../../data/qfo_22_results_different_tools/orthoffgc/orthoffgc.tsv'\n",
    "orthoffgc_out = filter_files(orthoffgc, uniprot_ref_species, uniprot_ids_search_species)\n",
    "out_file = open('../qfo_input/orthoffgc.tsv','w')\n",
    "for i in orthoffgc_out:\n",
    "    out_file.write(i + '\\n')\n",
    "out_file.close()\n",
    "print(len(orthoffgc_out))"
   ]
  },
  {
   "cell_type": "code",
   "execution_count": 30,
   "id": "66991115-19e9-4a3d-8684-9a4894b1d8af",
   "metadata": {},
   "outputs": [
    {
     "name": "stdout",
     "output_type": "stream",
     "text": [
      "9372\n"
     ]
    }
   ],
   "source": [
    "orthofinder = '../../data/qfo_22_results_different_tools/orthofinder/OrthoFinder.txt'\n",
    "orthofinder_out = filter_files(orthofinder, uniprot_ref_species, uniprot_ids_search_species)\n",
    "out_file = open('../qfo_input/orthofinder.tsv','w')\n",
    "for i in orthofinder_out:\n",
    "    out_file.write(i + '\\n')\n",
    "out_file.close()\n",
    "print(len(orthofinder_out))"
   ]
  },
  {
   "cell_type": "code",
   "execution_count": 31,
   "id": "02e1454a-28d3-4dc2-bc3b-a43a54dcd3f7",
   "metadata": {},
   "outputs": [
    {
     "name": "stdout",
     "output_type": "stream",
     "text": [
      "9006\n"
     ]
    }
   ],
   "source": [
    "orthoinspector = '../../data/qfo_22_results_different_tools/orthoinspector/outputbench2022.tsv'\n",
    "orthoinspector_out = filter_files(orthoinspector, uniprot_ref_species, uniprot_ids_search_species)\n",
    "out_file = open('../qfo_input/orthoinspector.tsv','w')\n",
    "for i in orthoinspector_out:\n",
    "    out_file.write(i + '\\n')\n",
    "out_file.close()\n",
    "print(len(orthoinspector_out))"
   ]
  },
  {
   "cell_type": "code",
   "execution_count": 32,
   "id": "6c899491-a521-4384-83c9-3bbd6da73b04",
   "metadata": {},
   "outputs": [
    {
     "name": "stdout",
     "output_type": "stream",
     "text": [
      "8906\n"
     ]
    }
   ],
   "source": [
    "panther = '../../data/qfo_22_results_different_tools/panther_v18_all/PANTHER18_all_1.tsv'\n",
    "panther_out = filter_files(panther, uniprot_ref_species, uniprot_ids_search_species)\n",
    "out_file = open('../qfo_input/panther.tsv','w')\n",
    "for i in panther_out:\n",
    "    out_file.write(i + '\\n')\n",
    "out_file.close()\n",
    "print(len(panther_out))"
   ]
  },
  {
   "cell_type": "code",
   "execution_count": 33,
   "id": "da6f84af-6530-4a2e-8753-3305129de788",
   "metadata": {},
   "outputs": [
    {
     "name": "stdout",
     "output_type": "stream",
     "text": [
      "8606\n"
     ]
    }
   ],
   "source": [
    "rsd = '../../data/qfo_22_results_different_tools/rsd/rsd_2columns.tsv'\n",
    "rsd_out = filter_files(rsd, uniprot_ref_species, uniprot_ids_search_species)\n",
    "out_file = open('../qfo_input/rsd.tsv','w')\n",
    "for i in rsd_out:\n",
    "    out_file.write(i + '\\n')\n",
    "out_file.close()\n",
    "print(len(rsd_out))"
   ]
  },
  {
   "cell_type": "code",
   "execution_count": 34,
   "id": "41c361fa-e92e-4718-b4a5-08a31772e2c5",
   "metadata": {},
   "outputs": [
    {
     "name": "stdout",
     "output_type": "stream",
     "text": [
      "9126\n"
     ]
    }
   ],
   "source": [
    "sonicparanoid = '../../data/qfo_22_results_different_tools/sonicparanoid2_sens/qfo22-challenge.sp2-sens.tsv'\n",
    "sonicparanoid_out = filter_files(sonicparanoid, uniprot_ref_species, uniprot_ids_search_species)\n",
    "out_file = open('../qfo_input/sonicparanoid.tsv','w')\n",
    "for i in sonicparanoid_out:\n",
    "    out_file.write(i + '\\n')\n",
    "out_file.close()\n",
    "print(len(sonicparanoid_out))"
   ]
  },
  {
   "cell_type": "markdown",
   "id": "f4ea516f-5125-4020-95c4-63bddb5fd004",
   "metadata": {},
   "source": [
    "# Create QfO input from human proteom benchmark"
   ]
  },
  {
   "cell_type": "code",
   "execution_count": 19,
   "id": "c981c4d6-550b-4344-b832-83f48db58db8",
   "metadata": {},
   "outputs": [],
   "source": [
    "#fa_augustus_human_proteom = pd.read_csv('../overlap_tables/fdog_ass_human_proteom_augustus_overlap_gff_files.tsv', delimiter='\\t')\n",
    "#human whole proteom\n",
    "fa_augustus_human_proteom = pd.read_csv('../overlap_tables/fdog_ass_human_proteom_augustus_overlap_gff_files_rat_nema.tsv', delimiter='\\t')"
   ]
  },
  {
   "cell_type": "code",
   "execution_count": 23,
   "id": "c08337ed-62ff-428d-a663-213d3a621417",
   "metadata": {},
   "outputs": [],
   "source": [
    "def filter_dataframe_human_proteom(cutoff, category, df, max_per_gene=True):\n",
    "    print(df.head())\n",
    "    df.drop_duplicates(inplace=True)\n",
    "    #df['GeneID'] = df['GeneID'].map(busco_to_uniprot)\n",
    "    #df['uniprotID'] = df['uniprotID'].map(lambda x: isoform_dict.get(x, x))\n",
    "    print(df.head())\n",
    "    if max_per_gene == True:\n",
    "        max_values = df.groupby(['Species', 'GeneID', 'transcript'])['coverage'].transform(max).copy()\n",
    "        print(max_values.head())\n",
    "        max_df = df[df['coverage'] == max_values]\n",
    "        df = max_df\n",
    "    filtered_df = df[df[category] >= cutoff].copy()\n",
    "    filtered_df['uniprotID'] = filtered_df['uniprotID'].map(lambda x: isoform_dict.get(x, x))\n",
    "    #filtered_df\n",
    "    print(filtered_df.head())\n",
    "    filtered_df.dropna(subset=['GeneID'], inplace=True)\n",
    "    print(filtered_df.head())\n",
    "    return filtered_df[['GeneID', 'uniprotID']].copy()"
   ]
  },
  {
   "cell_type": "code",
   "execution_count": 42,
   "id": "72a1843a-d8c0-4a0d-995e-1b9f378a13ca",
   "metadata": {},
   "outputs": [
    {
     "name": "stdout",
     "output_type": "stream",
     "text": [
      "   Species  GeneID                 transcript  overlap   uniprotID  coverage\n",
      "0    10116  O15050  O15050_CM026981_1_1_g1.t1   8548.0      D3ZSG2  0.970812\n",
      "1    10116  Q13275  Q13275_CM026981_1_1_g7.t1   2137.0      D3ZGX9  0.913248\n",
      "2    10116  Q13275  Q13275_CM026981_1_1_g7.t1   2137.0      D3ZGX9  0.950623\n",
      "3    10116  Q9BRD0  Q9BRD0_CM026981_1_1_g3.t1   1717.0  A0A8I6A4Y9  0.903209\n",
      "4    10116  Q9BRD0  Q9BRD0_CM026981_1_1_g3.t1   1610.0  A0A8I6A4Y9  0.864662\n",
      "   Species  GeneID                 transcript  overlap   uniprotID  coverage\n",
      "0    10116  O15050  O15050_CM026981_1_1_g1.t1   8548.0      D3ZSG2  0.970812\n",
      "1    10116  Q13275  Q13275_CM026981_1_1_g7.t1   2137.0      D3ZGX9  0.913248\n",
      "2    10116  Q13275  Q13275_CM026981_1_1_g7.t1   2137.0      D3ZGX9  0.950623\n",
      "3    10116  Q9BRD0  Q9BRD0_CM026981_1_1_g3.t1   1717.0  A0A8I6A4Y9  0.903209\n",
      "4    10116  Q9BRD0  Q9BRD0_CM026981_1_1_g3.t1   1610.0  A0A8I6A4Y9  0.864662\n",
      "0    0.970812\n",
      "1    0.950623\n",
      "2    0.950623\n",
      "3    0.903209\n",
      "4    0.903209\n",
      "Name: coverage, dtype: float64\n",
      "   Species  GeneID                 transcript  overlap uniprotID  coverage\n",
      "0    10116  O15050  O15050_CM026981_1_1_g1.t1   8548.0    D3ZSG2  0.970812\n",
      "2    10116  Q13275  Q13275_CM026981_1_1_g7.t1   2137.0    D3ZGX9  0.950623\n",
      "3    10116  Q9BRD0  Q9BRD0_CM026981_1_1_g3.t1   1717.0    Q4QQU1  0.903209\n",
      "7    10116  Q9UKY7  Q9UKY7_CM026981_1_1_g2.t1    743.0    Q5XIM5  0.984106\n",
      "8    10116  Q9P035  Q9P035_CM026981_1_1_g2.t1   1002.0    D4ABI7  0.967181\n",
      "   Species  GeneID                 transcript  overlap uniprotID  coverage\n",
      "0    10116  O15050  O15050_CM026981_1_1_g1.t1   8548.0    D3ZSG2  0.970812\n",
      "2    10116  Q13275  Q13275_CM026981_1_1_g7.t1   2137.0    D3ZGX9  0.950623\n",
      "3    10116  Q9BRD0  Q9BRD0_CM026981_1_1_g3.t1   1717.0    Q4QQU1  0.903209\n",
      "7    10116  Q9UKY7  Q9UKY7_CM026981_1_1_g2.t1    743.0    Q5XIM5  0.984106\n",
      "8    10116  Q9P035  Q9P035_CM026981_1_1_g2.t1   1002.0    D4ABI7  0.967181\n"
     ]
    },
    {
     "name": "stderr",
     "output_type": "stream",
     "text": [
      "/tmp/ipykernel_914847/1465672970.py:8: FutureWarning: The provided callable <built-in function max> is currently using SeriesGroupBy.max. In a future version of pandas, the provided callable will be used directly. To keep current behavior pass the string \"max\" instead.\n",
      "  max_values = df.groupby(['Species', 'GeneID', 'transcript'])['coverage'].transform(max).copy()\n"
     ]
    }
   ],
   "source": [
    "fa_augustus_human_proteom_sub = filter_dataframe_human_proteom(0.5, 'coverage', fa_augustus_human_proteom)\n",
    "fa_augustus_human_proteom_sub.drop_duplicates(keep='first',inplace=True)\n",
    "fa_augustus_human_proteom_sub.dropna(inplace=True)\n",
    "fa_augustus_human_proteom_sub.to_csv('../qfo_input/human_proteom/fdog_assembly_human_proteom_augustus.tsv', sep='\\t', index=False, header=False)"
   ]
  },
  {
   "cell_type": "code",
   "execution_count": 43,
   "id": "4dcc5d0a-6cf5-4526-a4d7-7fd7a0723e14",
   "metadata": {},
   "outputs": [],
   "source": [
    "# Still some genes have a -1 or -<number> ending which indicates a isoform of this gene, this needs to be removed\n",
    "!sed -i 's/-1//' ../qfo_input/human_proteom/fdog_assembly_human_proteom_augustus.tsv"
   ]
  },
  {
   "cell_type": "markdown",
   "id": "8283f15c-883a-4d61-a5fa-a39e4f5b24cb",
   "metadata": {},
   "source": [
    "#### Augustus 5000 human proteins"
   ]
  },
  {
   "cell_type": "code",
   "execution_count": 24,
   "id": "0509bedb-6592-494e-9cba-1c3fb11e4f19",
   "metadata": {},
   "outputs": [],
   "source": [
    "# 5000 random human genes Augustus run\n",
    "fa_augustus_human_proteom_5t = pd.read_csv('../overlap_tables/fdog_ass_human_proteom_augustus_overlap_gff_files_rat_nema_5t.tsv', delimiter='\\t')"
   ]
  },
  {
   "cell_type": "code",
   "execution_count": 27,
   "id": "40f7adaf-45d0-4a56-92a5-ef4ea8484809",
   "metadata": {},
   "outputs": [
    {
     "name": "stdout",
     "output_type": "stream",
     "text": [
      "   Species  GeneID                 transcript  overlap uniprotID  coverage\n",
      "0    45351  P54577  P54577_DS469824_1_1_g2.t1   1455.0    A7SV20  0.922638\n",
      "1    45351  P55196  P55196_DS469824_1_1_g1.t1   2941.0    A7SV25  0.771713\n",
      "2    45351  P55196  P55196_DS469824_1_1_g1.t1   2853.0    A7SV26  0.800281\n",
      "3    45351  Q8IYE0  Q8IYE0_DS469508_1_1_g2.t1     34.0    A7RFV7  0.100592\n",
      "4    45351  Q8IYE0  Q8IYE0_DS469508_1_1_g2.t1   2774.0    A7RFV9  0.981252\n",
      "   Species  GeneID                 transcript  overlap uniprotID  coverage\n",
      "0    45351  P54577  P54577_DS469824_1_1_g2.t1   1455.0    A7SV20  0.922638\n",
      "1    45351  P55196  P55196_DS469824_1_1_g1.t1   2941.0    A7SV25  0.771713\n",
      "2    45351  P55196  P55196_DS469824_1_1_g1.t1   2853.0    A7SV26  0.800281\n",
      "3    45351  Q8IYE0  Q8IYE0_DS469508_1_1_g2.t1     34.0    A7RFV7  0.100592\n",
      "4    45351  Q8IYE0  Q8IYE0_DS469508_1_1_g2.t1   2774.0    A7RFV9  0.981252\n",
      "0    0.922638\n",
      "1    0.800281\n",
      "2    0.800281\n",
      "3    0.981252\n",
      "4    0.981252\n",
      "Name: coverage, dtype: float64\n",
      "   Species  GeneID                 transcript  overlap uniprotID  coverage\n",
      "0    45351  P54577  P54577_DS469824_1_1_g2.t1   1455.0    A7SV20  0.922638\n",
      "2    45351  P55196  P55196_DS469824_1_1_g1.t1   2853.0    A7SV26  0.800281\n",
      "4    45351  Q8IYE0  Q8IYE0_DS469508_1_1_g2.t1   2774.0    A7RFV9  0.981252\n",
      "5    45351  Q9P246  Q9P246_DS469508_1_1_g2.t1    651.0    A7RFY6  0.571554\n",
      "6    45351  O94812  O94812_DS469508_1_1_g2.t1    662.0    A7RFY4  0.651575\n",
      "   Species  GeneID                 transcript  overlap uniprotID  coverage\n",
      "0    45351  P54577  P54577_DS469824_1_1_g2.t1   1455.0    A7SV20  0.922638\n",
      "2    45351  P55196  P55196_DS469824_1_1_g1.t1   2853.0    A7SV26  0.800281\n",
      "4    45351  Q8IYE0  Q8IYE0_DS469508_1_1_g2.t1   2774.0    A7RFV9  0.981252\n",
      "5    45351  Q9P246  Q9P246_DS469508_1_1_g2.t1    651.0    A7RFY6  0.571554\n",
      "6    45351  O94812  O94812_DS469508_1_1_g2.t1    662.0    A7RFY4  0.651575\n"
     ]
    },
    {
     "name": "stderr",
     "output_type": "stream",
     "text": [
      "/tmp/ipykernel_1939539/1465672970.py:8: FutureWarning: The provided callable <built-in function max> is currently using SeriesGroupBy.max. In a future version of pandas, the provided callable will be used directly. To keep current behavior pass the string \"max\" instead.\n",
      "  max_values = df.groupby(['Species', 'GeneID', 'transcript'])['coverage'].transform(max).copy()\n"
     ]
    }
   ],
   "source": [
    "fa_augustus_human_proteom_sub = filter_dataframe_human_proteom(0.5, 'coverage', fa_augustus_human_proteom_5t)\n",
    "fa_augustus_human_proteom_sub.drop_duplicates(keep='first',inplace=True)\n",
    "fa_augustus_human_proteom_sub.dropna(inplace=True)\n",
    "fa_augustus_human_proteom_sub.to_csv('../qfo_input/human_proteom/fdog_assembly_human_proteom_augustus_5t.tsv', sep='\\t', index=False, header=False)\n",
    "!sed -i 's/-1//' ../qfo_input/human_proteom/fdog_assembly_human_proteom_augustus_5t.tsv"
   ]
  },
  {
   "cell_type": "markdown",
   "id": "2f784f1f-73c8-4493-b5a5-0ef5c8bf693e",
   "metadata": {},
   "source": [
    "#### MetaEuk 5000human proteins"
   ]
  },
  {
   "cell_type": "code",
   "execution_count": 28,
   "id": "cf1993e9-2f68-4c74-a26b-7304a7c8486c",
   "metadata": {},
   "outputs": [],
   "source": [
    "# 5000 random human genes Augustus run\n",
    "fa_metaeuk_human_proteom_5t = pd.read_csv('../overlap_tables/fdog_ass_human_proteom_metaeuk_overlap_gff_files_rat_nema_5t.tsv', delimiter='\\t')"
   ]
  },
  {
   "cell_type": "code",
   "execution_count": 29,
   "id": "88214e04-ba9a-4f8b-9f6d-e1854ce0380c",
   "metadata": {},
   "outputs": [
    {
     "name": "stdout",
     "output_type": "stream",
     "text": [
      "   Species  GeneID                   transcript  overlap   uniprotID  coverage\n",
      "0    10116  P54577  P54577_CM026978.1_1_10_mRNA   1494.0  A0A0H2UHG0  0.941992\n",
      "1    10116  Q14626   Q14626_CM026978.1_1_6_mRNA    636.0  A0A8I6ARG9  0.495327\n",
      "2    10116  Q14626   Q14626_CM026978.1_1_6_mRNA    636.0  A0A8I6ARG9  0.462545\n",
      "3    10116  Q14626   Q14626_CM026978.1_1_6_mRNA    642.0      P43424  0.531017\n",
      "4    10116  Q8IV03   Q8IV03_CM026978.1_1_7_mRNA    371.0      Q5BJW5  1.000000\n",
      "   Species  GeneID                   transcript  overlap   uniprotID  coverage\n",
      "0    10116  P54577  P54577_CM026978.1_1_10_mRNA   1494.0  A0A0H2UHG0  0.941992\n",
      "1    10116  Q14626   Q14626_CM026978.1_1_6_mRNA    636.0  A0A8I6ARG9  0.495327\n",
      "2    10116  Q14626   Q14626_CM026978.1_1_6_mRNA    636.0  A0A8I6ARG9  0.462545\n",
      "3    10116  Q14626   Q14626_CM026978.1_1_6_mRNA    642.0      P43424  0.531017\n",
      "4    10116  Q8IV03   Q8IV03_CM026978.1_1_7_mRNA    371.0      Q5BJW5  1.000000\n",
      "0    0.941992\n",
      "1    0.531017\n",
      "2    0.531017\n",
      "3    0.531017\n",
      "4    1.000000\n",
      "Name: coverage, dtype: float64\n",
      "   Species  GeneID                   transcript  overlap uniprotID  coverage\n",
      "0    10116  P54577  P54577_CM026978.1_1_10_mRNA   1494.0    Q4KM49  0.941992\n",
      "3    10116  Q14626   Q14626_CM026978.1_1_6_mRNA    642.0    P43424  0.531017\n",
      "4    10116  Q8IV03   Q8IV03_CM026978.1_1_7_mRNA    371.0    Q5BJW5  1.000000\n",
      "6    10116  Q9Y672   Q9Y672_CM026978.1_1_9_mRNA   1271.0    Q3T1L5  0.877762\n",
      "8    10116  P30837   P30837_CM026978.1_1_3_mRNA   1556.0    Q66HF8  1.000000\n",
      "   Species  GeneID                   transcript  overlap uniprotID  coverage\n",
      "0    10116  P54577  P54577_CM026978.1_1_10_mRNA   1494.0    Q4KM49  0.941992\n",
      "3    10116  Q14626   Q14626_CM026978.1_1_6_mRNA    642.0    P43424  0.531017\n",
      "4    10116  Q8IV03   Q8IV03_CM026978.1_1_7_mRNA    371.0    Q5BJW5  1.000000\n",
      "6    10116  Q9Y672   Q9Y672_CM026978.1_1_9_mRNA   1271.0    Q3T1L5  0.877762\n",
      "8    10116  P30837   P30837_CM026978.1_1_3_mRNA   1556.0    Q66HF8  1.000000\n"
     ]
    },
    {
     "name": "stderr",
     "output_type": "stream",
     "text": [
      "/tmp/ipykernel_1939539/1465672970.py:8: FutureWarning: The provided callable <built-in function max> is currently using SeriesGroupBy.max. In a future version of pandas, the provided callable will be used directly. To keep current behavior pass the string \"max\" instead.\n",
      "  max_values = df.groupby(['Species', 'GeneID', 'transcript'])['coverage'].transform(max).copy()\n"
     ]
    }
   ],
   "source": [
    "fa_metaeuk_human_proteom_sub = filter_dataframe_human_proteom(0.5, 'coverage', fa_metaeuk_human_proteom_5t)\n",
    "fa_metaeuk_human_proteom_sub.drop_duplicates(keep='first',inplace=True)\n",
    "fa_metaeuk_human_proteom_sub.dropna(inplace=True)\n",
    "fa_metaeuk_human_proteom_sub.to_csv('../qfo_input/human_proteom/fdog_assembly_human_proteom_metaeuk_5t.tsv', sep='\\t', index=False, header=False)\n",
    "!sed -i 's/-1//' ../qfo_input/human_proteom/fdog_assembly_human_proteom_metaeuk_5t.tsv"
   ]
  },
  {
   "cell_type": "markdown",
   "id": "368a1445-ddb2-43db-be31-447e593945a8",
   "metadata": {},
   "source": [
    "## Filter QfO22 tool data for orthologs of human genes"
   ]
  },
  {
   "cell_type": "code",
   "execution_count": 30,
   "id": "27c47049-58d2-46e4-aabc-773b1d2f88fe",
   "metadata": {},
   "outputs": [
    {
     "name": "stdout",
     "output_type": "stream",
     "text": [
      "45351\n",
      "10116\n"
     ]
    }
   ],
   "source": [
    "uniprot_ids_search_species = set()\n",
    "qfo_path = '../../data/qfo_eukaryota_2022/qfo_data_2022/Eukaryota/'\n",
    "for key in species_dict:\n",
    "    file = open(qfo_path + species_dict[key]['uniprot'] + '_' + key + '.fasta', 'r')\n",
    "    if key != '10116' and key != '45351':\n",
    "        continue\n",
    "    print(key)\n",
    "    lines = file.readlines()\n",
    "    for line in lines:\n",
    "        if line.startswith('>'):\n",
    "            uniprot_ids_search_species.add(line.split('|')[1])"
   ]
  },
  {
   "cell_type": "markdown",
   "id": "3c14ff1e-315d-4ce8-9547-301ef724f799",
   "metadata": {},
   "source": [
    "#### If whole human proteom was used"
   ]
  },
  {
   "cell_type": "code",
   "execution_count": 48,
   "id": "4ef92850-e616-4b57-89c9-d9e2fc77c3ce",
   "metadata": {},
   "outputs": [],
   "source": [
    "#get human ids which were used as seed\n",
    "uniprot_ref_species = set()\n",
    "file = open(qfo_path + 'UP000005640_9606.fasta', 'r')\n",
    "lines = file.readlines()\n",
    "for line in lines:\n",
    "    if line.startswith('>'):\n",
    "        uniprot_ref_species.add(line.split('|')[1])"
   ]
  },
  {
   "cell_type": "markdown",
   "id": "6962e1d8-993c-488f-b603-8f60c9ffccd7",
   "metadata": {},
   "source": [
    "#### If the reduced human proteom was used"
   ]
  },
  {
   "cell_type": "code",
   "execution_count": 50,
   "id": "4f4e6f6d-1b90-408d-a4f5-ede79a79850b",
   "metadata": {},
   "outputs": [],
   "source": [
    "uniprot_ref_species = set()\n",
    "file = open('../human_proteom/metaeuk/batch_files/random_5000_genes.txt', 'r')\n",
    "lines = file.readlines()\n",
    "for line in lines:\n",
    "    line = line.rstrip()\n",
    "    uniprot_ref_species.add(line)\n",
    "file.close()"
   ]
  },
  {
   "cell_type": "code",
   "execution_count": 32,
   "id": "37f7929d-ecf9-48c6-b206-d0b96dc25b81",
   "metadata": {},
   "outputs": [],
   "source": [
    "def filter_files(path, set_search_species, set_ref_species):\n",
    "    file = open(path, 'r')\n",
    "    out_list = []\n",
    "    lines = file.readlines()\n",
    "    for line in lines:\n",
    "        line = line.rstrip()\n",
    "        id1, id2 = line.split('\\t')\n",
    "        if id1 in set_ref_species and id2 in set_search_species:\n",
    "            out_list.append(line)\n",
    "        elif id2 in set_ref_species and id1 in set_search_species:\n",
    "            out_list.append(line)\n",
    "        #else:\n",
    "            #print(id1, id2)\n",
    "    return out_list"
   ]
  },
  {
   "cell_type": "code",
   "execution_count": 34,
   "id": "b0f7747a-4a3b-4d99-835e-24e69a5b783f",
   "metadata": {},
   "outputs": [
    {
     "name": "stdout",
     "output_type": "stream",
     "text": [
      "8366\n"
     ]
    }
   ],
   "source": [
    "inparanoid = '../../data/qfo_22_results_different_tools/inparanoid/InParanoid_QFO22.pairs_1'\n",
    "inparanoid_out = filter_files(inparanoid, uniprot_ref_species, uniprot_ids_search_species)\n",
    "#out_file = open('../qfo_input/human_proteom/inparanoid.tsv','w')\n",
    "out_file = open('../qfo_input/human_proteom/inparanoid_5t.tsv','w')\n",
    "for i in inparanoid_out:\n",
    "    out_file.write(i + '\\n')\n",
    "out_file.close()\n",
    "print(len(inparanoid_out))"
   ]
  },
  {
   "cell_type": "code",
   "execution_count": 35,
   "id": "5d5b65e0-c00f-41fa-a831-8b01f4ef9f41",
   "metadata": {},
   "outputs": [
    {
     "name": "stdout",
     "output_type": "stream",
     "text": [
      "9445\n"
     ]
    }
   ],
   "source": [
    "oma_pairs = '../../data/qfo_22_results_different_tools/oma_pairs/OMA.2.5.0-VPairs.txt'\n",
    "oma_out = filter_files(oma_pairs, uniprot_ref_species, uniprot_ids_search_species)\n",
    "#out_file = open('../qfo_input/human_proteom/oma_pairs.tsv', 'w')\n",
    "out_file = open('../qfo_input/human_proteom/oma_pairs_5t.tsv', 'w')\n",
    "for i in oma_out:\n",
    "    out_file.write(i + '\\n')\n",
    "out_file.close()\n",
    "print(len(oma_out))"
   ]
  },
  {
   "cell_type": "code",
   "execution_count": 36,
   "id": "dda8c3a5-9de1-4d6d-af57-687ff4acf27b",
   "metadata": {},
   "outputs": [
    {
     "name": "stdout",
     "output_type": "stream",
     "text": [
      "6027\n"
     ]
    }
   ],
   "source": [
    "bbh = '../../data/qfo_22_results_different_tools/bbh/bbh_2columns.tsv'\n",
    "bbh_out = filter_files(bbh, uniprot_ref_species, uniprot_ids_search_species)\n",
    "#out_file = open('../qfo_input/human_proteom/bbh.tsv','w')\n",
    "out_file = open('../qfo_input/human_proteom/bbh_5t.tsv','w')\n",
    "for i in bbh_out:\n",
    "    out_file.write(i + '\\n')\n",
    "out_file.close()\n",
    "print(len(bbh_out))"
   ]
  },
  {
   "cell_type": "code",
   "execution_count": 49,
   "id": "76902819-4048-47d0-9753-52d453d9580e",
   "metadata": {},
   "outputs": [
    {
     "name": "stdout",
     "output_type": "stream",
     "text": [
      "42426\n"
     ]
    }
   ],
   "source": [
    "domainoid = '../../data/qfo_22_results_different_tools/domainoid/mergedResults_domainoid.tsv'\n",
    "domainoid_out = filter_files(domainoid, uniprot_ref_species, uniprot_ids_search_species)\n",
    "#out_file = open('../qfo_input/human_proteom/domainoid.tsv','w')\n",
    "out_file = open('../qfo_input/human_proteom/domainoid_5t.tsv','w')\n",
    "for i in domainoid_out:\n",
    "    out_file.write(i + '\\n')\n",
    "out_file.close()\n",
    "print(len(domainoid_out))"
   ]
  },
  {
   "cell_type": "code",
   "execution_count": 39,
   "id": "d65654ac-317f-42d3-be1e-771203705045",
   "metadata": {},
   "outputs": [
    {
     "name": "stdout",
     "output_type": "stream",
     "text": [
      "21850\n"
     ]
    }
   ],
   "source": [
    "ensamble = '../../data/qfo_22_results_different_tools/ensamble_compara/ensamble_compara.tsv'\n",
    "ensamble_out = filter_files(ensamble, uniprot_ref_species, uniprot_ids_search_species)\n",
    "#out_file = open('../qfo_input/human_proteom/ensamble.tsv','w')\n",
    "out_file = open('../qfo_input/human_proteom/ensamble_5t.tsv','w')\n",
    "for i in ensamble_out:\n",
    "    out_file.write(i + '\\n')\n",
    "out_file.close()\n",
    "print(len(ensamble_out))"
   ]
  },
  {
   "cell_type": "code",
   "execution_count": 40,
   "id": "14476a3f-db02-40ea-bd3b-55bdbbae9eca",
   "metadata": {},
   "outputs": [
    {
     "name": "stdout",
     "output_type": "stream",
     "text": [
      "7223\n"
     ]
    }
   ],
   "source": [
    "hieranoid = '../../data/qfo_22_results_different_tools/hieranoid/pairs_hieranoid-diamond.tsv'\n",
    "hieranoid_out = filter_files(hieranoid, uniprot_ref_species, uniprot_ids_search_species)\n",
    "#out_file = open('../qfo_input/human_proteom/hieranoid.tsv','w')\n",
    "out_file = open('../qfo_input/human_proteom/hieranoid_5t.tsv','w')\n",
    "for i in hieranoid_out:\n",
    "    out_file.write(i + '\\n')\n",
    "out_file.close()\n",
    "print(len(hieranoid_out))"
   ]
  },
  {
   "cell_type": "code",
   "execution_count": 41,
   "id": "705961b2-b860-4cf4-ad48-18480657a8a8",
   "metadata": {},
   "outputs": [
    {
     "name": "stdout",
     "output_type": "stream",
     "text": [
      "10256\n"
     ]
    }
   ],
   "source": [
    "metaphors = '../../data/qfo_22_results_different_tools/metaphors/metaphors.Oldest_seed.CS0.5.2022.tsv'\n",
    "metaphors_out = filter_files(metaphors, uniprot_ref_species, uniprot_ids_search_species)\n",
    "#out_file = open('../qfo_input/human_proteom/metaphors.tsv','w')\n",
    "out_file = open('../qfo_input/human_proteom/metaphors_5t.tsv','w')\n",
    "for i in metaphors_out:\n",
    "    out_file.write(i + '\\n')\n",
    "out_file.close()\n",
    "print(len(metaphors_out))"
   ]
  },
  {
   "cell_type": "code",
   "execution_count": 42,
   "id": "fdc95870-6f3a-4e4a-9c6f-f0d6af355da0",
   "metadata": {},
   "outputs": [
    {
     "name": "stdout",
     "output_type": "stream",
     "text": [
      "6071\n"
     ]
    }
   ],
   "source": [
    "orthoffgc = '../../data/qfo_22_results_different_tools/orthoffgc/orthoffgc.tsv'\n",
    "orthoffgc_out = filter_files(orthoffgc, uniprot_ref_species, uniprot_ids_search_species)\n",
    "#out_file = open('../qfo_input/human_proteom/orthoffgc.tsv','w')\n",
    "out_file = open('../qfo_input/human_proteom/orthoffgc_5t.tsv','w')\n",
    "for i in orthoffgc_out:\n",
    "    out_file.write(i + '\\n')\n",
    "out_file.close()\n",
    "print(len(orthoffgc_out))"
   ]
  },
  {
   "cell_type": "code",
   "execution_count": 43,
   "id": "40fbf27a-9a00-4598-9f33-c9d72ff8b7a5",
   "metadata": {},
   "outputs": [
    {
     "name": "stdout",
     "output_type": "stream",
     "text": [
      "9651\n"
     ]
    }
   ],
   "source": [
    "orthofinder = '../../data/qfo_22_results_different_tools/orthofinder/OrthoFinder.txt'\n",
    "orthofinder_out = filter_files(orthofinder, uniprot_ref_species, uniprot_ids_search_species)\n",
    "#out_file = open('../qfo_input/human_proteom/orthofinder.tsv','w')\n",
    "out_file = open('../qfo_input/human_proteom/orthofinder_5t.tsv','w')\n",
    "for i in orthofinder_out:\n",
    "    out_file.write(i + '\\n')\n",
    "out_file.close()\n",
    "print(len(orthofinder_out))"
   ]
  },
  {
   "cell_type": "code",
   "execution_count": 44,
   "id": "f1a401ec-e79d-4d05-9e13-9a16bf317d11",
   "metadata": {},
   "outputs": [
    {
     "name": "stdout",
     "output_type": "stream",
     "text": [
      "7833\n"
     ]
    }
   ],
   "source": [
    "orthoinspector = '../../data/qfo_22_results_different_tools/orthoinspector/outputbench2022.tsv'\n",
    "orthoinspector_out = filter_files(orthoinspector, uniprot_ref_species, uniprot_ids_search_species)\n",
    "#out_file = open('../qfo_input/human_proteom/orthoinspector.tsv','w')\n",
    "out_file = open('../qfo_input/human_proteom/orthoinspector_5t.tsv','w')\n",
    "for i in orthoinspector_out:\n",
    "    out_file.write(i + '\\n')\n",
    "out_file.close()\n",
    "print(len(orthoinspector_out))"
   ]
  },
  {
   "cell_type": "code",
   "execution_count": 45,
   "id": "04940711-6e73-478f-bd58-76d05d6108d9",
   "metadata": {},
   "outputs": [
    {
     "name": "stdout",
     "output_type": "stream",
     "text": [
      "12511\n"
     ]
    }
   ],
   "source": [
    "panther = '../../data/qfo_22_results_different_tools/panther_v18_all/PANTHER18_all_1.tsv'\n",
    "panther_out = filter_files(panther, uniprot_ref_species, uniprot_ids_search_species)\n",
    "#out_file = open('../qfo_input/human_proteom/panther.tsv','w')\n",
    "out_file = open('../qfo_input/human_proteom/panther_5t.tsv','w')\n",
    "for i in panther_out:\n",
    "    out_file.write(i + '\\n')\n",
    "out_file.close()\n",
    "print(len(panther_out))"
   ]
  },
  {
   "cell_type": "code",
   "execution_count": 46,
   "id": "270eb8c1-5ef6-4638-b272-142a24456e1e",
   "metadata": {},
   "outputs": [
    {
     "name": "stdout",
     "output_type": "stream",
     "text": [
      "6069\n"
     ]
    }
   ],
   "source": [
    "rsd = '../../data/qfo_22_results_different_tools/rsd/rsd_2columns.tsv'\n",
    "rsd_out = filter_files(rsd, uniprot_ref_species, uniprot_ids_search_species)\n",
    "#out_file = open('../qfo_input/human_proteom/rsd.tsv','w')\n",
    "out_file = open('../qfo_input/human_proteom/rsd_5t.tsv','w')\n",
    "for i in rsd_out:\n",
    "    out_file.write(i + '\\n')\n",
    "out_file.close()\n",
    "print(len(rsd_out))"
   ]
  },
  {
   "cell_type": "code",
   "execution_count": 47,
   "id": "cc57875c-8ece-434d-a0e3-1f6a8e2bae85",
   "metadata": {},
   "outputs": [
    {
     "name": "stdout",
     "output_type": "stream",
     "text": [
      "11938\n"
     ]
    }
   ],
   "source": [
    "sonicparanoid = '../../data/qfo_22_results_different_tools/sonicparanoid2_sens/qfo22-challenge.sp2-sens.tsv'\n",
    "sonicparanoid_out = filter_files(sonicparanoid, uniprot_ref_species, uniprot_ids_search_species)\n",
    "#out_file = open('../qfo_input/human_proteom/sonicparanoid.tsv','w')\n",
    "out_file = open('../qfo_input/human_proteom/sonicparanoid_5t.tsv','w')\n",
    "for i in sonicparanoid_out:\n",
    "    out_file.write(i + '\\n')\n",
    "out_file.close()\n",
    "print(len(sonicparanoid_out))"
   ]
  },
  {
   "cell_type": "code",
   "execution_count": null,
   "id": "e360ce3d-005b-4961-91bd-e5542bb4bf98",
   "metadata": {},
   "outputs": [],
   "source": []
  }
 ],
 "metadata": {
  "kernelspec": {
   "display_name": "Python 3 (ipykernel)",
   "language": "python",
   "name": "python3"
  },
  "language_info": {
   "codemirror_mode": {
    "name": "ipython",
    "version": 3
   },
   "file_extension": ".py",
   "mimetype": "text/x-python",
   "name": "python",
   "nbconvert_exporter": "python",
   "pygments_lexer": "ipython3",
   "version": "3.12.3"
  }
 },
 "nbformat": 4,
 "nbformat_minor": 5
}
