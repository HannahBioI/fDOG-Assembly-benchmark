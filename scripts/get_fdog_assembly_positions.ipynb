{
 "cells": [
  {
   "cell_type": "markdown",
   "id": "4230e43c-a25f-41e7-bcbb-e75ffeccf02c",
   "metadata": {},
   "source": [
    "# Parse fDOG-Assembly gff files to get genomic locations of all core groups and save them in a pkl file"
   ]
  },
  {
   "cell_type": "markdown",
   "id": "27009b00-6a4d-407e-abe4-cf9d74ff0926",
   "metadata": {},
   "source": [
    "1) get the core group\n",
    "2) get the present species\n",
    "3) open gff file and parse them\n",
    "4) write a dict\n",
    "5) write dict to pkl file"
   ]
  },
  {
   "cell_type": "code",
   "execution_count": 1,
   "id": "f6ea61e2-fb5e-4326-a9e7-7460cf86e842",
   "metadata": {},
   "outputs": [],
   "source": [
    "import os\n",
    "import pickle\n",
    "import re"
   ]
  },
  {
   "cell_type": "code",
   "execution_count": 2,
   "id": "66af3f83-cd03-4ea6-be06-588b61904fff",
   "metadata": {},
   "outputs": [],
   "source": [
    "def parse_gene_list(path):\n",
    "    file = open(path, 'r')\n",
    "    lines = file.readlines()\n",
    "    gene_set = set()\n",
    "    for line in lines:\n",
    "        line = line.rstrip()\n",
    "        gene_set.add(line)\n",
    "    return gene_set"
   ]
  },
  {
   "cell_type": "markdown",
   "id": "5e6e27ee-b7b3-4b76-8a28-5800bf5f687c",
   "metadata": {},
   "source": [
    "# BUSCO vs. fDOG-Assembly"
   ]
  },
  {
   "cell_type": "code",
   "execution_count": 3,
   "id": "6dd57edd-3a0c-43f7-b3ba-d2483d878055",
   "metadata": {},
   "outputs": [],
   "source": [
    "gene_set = parse_gene_list('/share/gluster/Projects/hannah/fDOG-assembly/benchmark/results/augustus_busco_core/gene_list.txt')"
   ]
  },
  {
   "cell_type": "code",
   "execution_count": 4,
   "id": "c9bfb4a5-f4a9-47a9-ad86-396a399b16ee",
   "metadata": {},
   "outputs": [],
   "source": [
    "def get_gff_pathes(path, gene_set):\n",
    "    path_dict = {}\n",
    "    for i in gene_set:\n",
    "        try:\n",
    "            files = os.listdir(path + i + '/gff/')\n",
    "            path_dict[i] = files\n",
    "        except FileNotFoundError:\n",
    "            print(i)\n",
    "    return path_dict"
   ]
  },
  {
   "cell_type": "code",
   "execution_count": 5,
   "id": "04e1e0f7-3628-4cbe-b64e-155a909feac7",
   "metadata": {},
   "outputs": [],
   "source": [
    "def parse_gff(path, position_dict_cds, gene_name, ass):\n",
    "    gff = open(path, 'r')\n",
    "    lines = gff.readlines()\n",
    "    for line in lines:\n",
    "        line = line.rstrip()\n",
    "        if line.startswith('#'):\n",
    "            continue\n",
    "        #print(line)\n",
    "        contig, source, typ, start_gff, end_gff, score, strand, phase, att = line.split('\\t')\n",
    "        #if int(start_gff) > int(end_gff):\n",
    "            #print(line)\n",
    "        start = min(int(start_gff), int(end_gff)) \n",
    "        end = max(int(start_gff), int(end_gff)) \n",
    "        if typ == 'gene':\n",
    "            geneid = gene_name\n",
    "        elif typ == 'transcript' or typ == 'mRNA':\n",
    "            transcript_id = re.search(r'ID=(.*?);', att).group(1)\n",
    "        elif typ == 'CDS':\n",
    "            try:\n",
    "                cds_list = position_dict_cds[ass][contig][geneid][transcript_id]\n",
    "                cds_list.append([source, typ, int(start), int(end), strand, phase, att])\n",
    "                position_dict_cds[ass][contig][geneid][transcript_id] = cds_list\n",
    "            except KeyError:\n",
    "                try:\n",
    "                    position_dict_cds[ass][contig][geneid][transcript_id] = [[source, typ, int(start), int(end), strand, phase, att]]\n",
    "                except KeyError:\n",
    "                    try:\n",
    "                        position_dict_cds[ass][contig][geneid] =  {transcript_id: [[source, typ, int(start), int(end), strand, phase, att]]}\n",
    "                    except KeyError:\n",
    "                        try:\n",
    "                            position_dict_cds[ass][contig]= {}\n",
    "                            position_dict_cds[ass][contig][geneid] =  {transcript_id: [[source, typ, int(start), int(end), strand, phase, att]]}\n",
    "                        except KeyError:\n",
    "                            position_dict_cds[ass] = {}\n",
    "                            position_dict_cds[ass][contig] = {geneid: {transcript_id: [[source, typ, int(start), int(end), strand, phase, att]]}}\n",
    "                    except UnboundLocalError:\n",
    "                        print(line)\n",
    "                        print(ass, gene_name, path)\n",
    "                        print('ULE')\n",
    "                            \n",
    "    return position_dict_cds\n",
    "        "
   ]
  },
  {
   "cell_type": "markdown",
   "id": "950ebbc9-a03f-473c-b6d3-daf3746fe232",
   "metadata": {},
   "source": [
    "## Augustus results"
   ]
  },
  {
   "cell_type": "code",
   "execution_count": 6,
   "id": "19d73a55-7246-491b-a520-76b54d723d8a",
   "metadata": {},
   "outputs": [
    {
     "name": "stdout",
     "output_type": "stream",
     "text": [
      "366124at33208\n"
     ]
    }
   ],
   "source": [
    "path_results = '/share/gluster/Projects/hannah/fDOG-assembly/benchmark/results/augustus_busco_core/'\n",
    "gff_files = get_gff_pathes(path_results, gene_set)"
   ]
  },
  {
   "cell_type": "code",
   "execution_count": 10,
   "id": "997a1944-c059-4098-b473-38e8e9daa927",
   "metadata": {},
   "outputs": [],
   "source": [
    "position_dict_cds = {}\n",
    "\n",
    "for group in gff_files:\n",
    "    for file in gff_files[group]:\n",
    "        if  not file.endswith('.gff'):\n",
    "            print(file)\n",
    "            continue\n",
    "        ass = file.replace('.gff', '')\n",
    "        #print(ass)\n",
    "        path = path_results + group + '/gff/' + file\n",
    "        position_dict_cds = parse_gff(path, position_dict_cds, group, ass)"
   ]
  },
  {
   "cell_type": "code",
   "execution_count": 12,
   "id": "e62660f7-f38a-4a22-a792-8cac198069d9",
   "metadata": {},
   "outputs": [
    {
     "name": "stdout",
     "output_type": "stream",
     "text": [
      "{'147873at33208_CM026976_1_1_g3.t1': [['AUGUSTUS', 'CDS', 133350340, 133350517, '-', '1', 'ID=147873at33208_CM026976_1_1_g3.t1.cds;Parent=147873at33208_CM026976_1_1_g3.t1'], ['AUGUSTUS', 'CDS', 133351128, 133351286, '-', '1', 'ID=147873at33208_CM026976_1_1_g3.t1.cds;Parent=147873at33208_CM026976_1_1_g3.t1'], ['AUGUSTUS', 'CDS', 133352079, 133352170, '-', '0', 'ID=147873at33208_CM026976_1_1_g3.t1.cds;Parent=147873at33208_CM026976_1_1_g3.t1'], ['AUGUSTUS', 'CDS', 133352664, 133352816, '-', '0', 'ID=147873at33208_CM026976_1_1_g3.t1.cds;Parent=147873at33208_CM026976_1_1_g3.t1'], ['AUGUSTUS', 'CDS', 133354193, 133354243, '-', '0', 'ID=147873at33208_CM026976_1_1_g3.t1.cds;Parent=147873at33208_CM026976_1_1_g3.t1']]}\n"
     ]
    }
   ],
   "source": [
    "print(position_dict_cds['RATNO@10116@QfO22']['CM026976.1']['147873at33208'])\n",
    "#147873at33208"
   ]
  },
  {
   "cell_type": "code",
   "execution_count": 13,
   "id": "1f41154d-6c12-4186-bb7c-57f8cd5a8c25",
   "metadata": {},
   "outputs": [],
   "source": [
    "tool = 'augustus'\n",
    "gp_tool = 'fdog_assembly'\n",
    "core_set = 'busco'\n",
    "out_path = '../pkl_files/%s_%s_%s_CDS_positions_galga_v2.pkl'%(gp_tool,tool, core_set)\n",
    "out = open(out_path,'wb')\n",
    "pickle.dump(position_dict_cds, out)\n",
    "out.close()"
   ]
  },
  {
   "cell_type": "markdown",
   "id": "f1b73ba5-1362-4489-8cba-560be004e2fd",
   "metadata": {},
   "source": [
    "## MetaEuk results"
   ]
  },
  {
   "cell_type": "code",
   "execution_count": 8,
   "id": "ad9e9f15-6f4f-46e4-a473-e13ed17ca452",
   "metadata": {},
   "outputs": [
    {
     "name": "stdout",
     "output_type": "stream",
     "text": [
      "366124at33208\n"
     ]
    }
   ],
   "source": [
    "path_results = '/share/gluster/Projects/hannah/fDOG-assembly/benchmark/results/metaeuk_busco_core/'\n",
    "gff_files = get_gff_pathes(path_results, gene_set)"
   ]
  },
  {
   "cell_type": "code",
   "execution_count": 9,
   "id": "aea1314f-5595-4e0c-a556-a7cf52519437",
   "metadata": {},
   "outputs": [],
   "source": [
    "position_dict_cds = {}\n",
    "\n",
    "for group in gff_files:\n",
    "    for file in gff_files[group]:\n",
    "        if  not file.endswith('.gff'):\n",
    "            print(file)\n",
    "            continue\n",
    "        ass = file.replace('.gff', '')\n",
    "        path = path_results + group + '/gff/' + file\n",
    "        position_dict_cds = parse_gff(path, position_dict_cds, group, ass)"
   ]
  },
  {
   "cell_type": "code",
   "execution_count": 10,
   "id": "5bcdcf7a-2b5d-4249-b37e-65df30b9a870",
   "metadata": {},
   "outputs": [],
   "source": [
    "tool = 'metaeuk'\n",
    "gp_tool = 'fdog_assembly'\n",
    "core_set = 'busco'\n",
    "out_path = '../pkl_files/%s_%s_%s_CDS_positions_galga_v2.pkl'%(gp_tool,tool, core_set)\n",
    "out = open(out_path,'wb')\n",
    "pickle.dump(position_dict_cds, out)\n",
    "out.close()"
   ]
  },
  {
   "cell_type": "markdown",
   "id": "3a91d8ce-71bc-43ac-8878-77ed63a15f7c",
   "metadata": {},
   "source": [
    "# Human Proteom"
   ]
  },
  {
   "cell_type": "code",
   "execution_count": 22,
   "id": "870d2b26-775b-4d6d-ade9-9681473d73be",
   "metadata": {},
   "outputs": [],
   "source": [
    "gene_set = parse_gene_list('/share/gluster/Projects/hannah/fDOG-assembly/benchmark/data/fDOG/human_seed_genes/genes.txt')"
   ]
  },
  {
   "cell_type": "code",
   "execution_count": 23,
   "id": "c546ff74-ba26-41c9-83fd-3bf1105f943f",
   "metadata": {},
   "outputs": [],
   "source": [
    "path_results = '/share/gluster/Projects/hannah/fDOG-assembly/benchmark/results/human_proteom/augustus/'\n",
    "gff_files = get_gff_pathes(path_results, gene_set)"
   ]
  },
  {
   "cell_type": "code",
   "execution_count": 24,
   "id": "4958be47-10a5-458d-850a-9f8dd5a11f3a",
   "metadata": {},
   "outputs": [],
   "source": [
    "position_dict_cds = {}\n",
    "\n",
    "for group in gff_files:\n",
    "    for file in gff_files[group]:\n",
    "        if  not file.endswith('.gff'):\n",
    "            print(file)\n",
    "            continue\n",
    "        ass = file.replace('.gff', '')\n",
    "        path = path_results + group + '/gff/' + file\n",
    "        position_dict_cds = parse_gff(path, position_dict_cds, group, ass)"
   ]
  },
  {
   "cell_type": "code",
   "execution_count": 25,
   "id": "29f731c4-01f3-4525-916d-0820713d4e9e",
   "metadata": {},
   "outputs": [],
   "source": [
    "tool = 'augustus_human_proteom'\n",
    "gp_tool = 'fdog_assembly'\n",
    "core_set = 'busco'\n",
    "out_path = '../pkl_files/%s_%s_%s_CDS_positions.pkl'%(gp_tool,tool, core_set)\n",
    "out = open(out_path,'wb')\n",
    "pickle.dump(position_dict_cds, out)\n",
    "out.close()"
   ]
  },
  {
   "cell_type": "code",
   "execution_count": null,
   "id": "1a674cba-9108-4940-a9f9-145d6b222234",
   "metadata": {},
   "outputs": [],
   "source": []
  }
 ],
 "metadata": {
  "kernelspec": {
   "display_name": "Python 3 (ipykernel)",
   "language": "python",
   "name": "python3"
  },
  "language_info": {
   "codemirror_mode": {
    "name": "ipython",
    "version": 3
   },
   "file_extension": ".py",
   "mimetype": "text/x-python",
   "name": "python",
   "nbconvert_exporter": "python",
   "pygments_lexer": "ipython3",
   "version": "3.12.3"
  }
 },
 "nbformat": 4,
 "nbformat_minor": 5
}
