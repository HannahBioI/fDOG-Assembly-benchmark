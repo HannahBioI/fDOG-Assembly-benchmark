{
 "cells": [
  {
   "cell_type": "markdown",
   "id": "046e6c0f-fc2c-4cb0-ade3-db5ecd265660",
   "metadata": {},
   "source": [
    "## Assignment of human Uniprot Identifier to all BUSCO and fDOG-Assembly core groups"
   ]
  },
  {
   "cell_type": "markdown",
   "id": "da41239e-6937-4e59-b394-c21d9401aa50",
   "metadata": {},
   "source": [
    "### BUSCO"
   ]
  },
  {
   "cell_type": "code",
   "execution_count": 1,
   "id": "f4438324-9cbd-49a4-841c-e63b1f131169",
   "metadata": {},
   "outputs": [],
   "source": [
    "def get_representatives(path, species_list):\n",
    "    # the orthoDB gene ids have the following format: taxid_version:geneID\n",
    "    file = open(path, 'r')\n",
    "    lines = file.readlines()\n",
    "    rep = set()\n",
    "    species_set = set(species_list)\n",
    "    print(species_set)\n",
    "    orthoDB_groups = set()\n",
    "    orthoGroup_vs_geneId = {}\n",
    "    geneId_vs_orthoGroup = {}\n",
    "    for line in lines:\n",
    "        line = line.rstrip()\n",
    "        gene_id, buscoGroup = line.split('\\t')\n",
    "        orthoDB_groups.add(buscoGroup)\n",
    "        species = gene_id.split('_')[0]\n",
    "        if int(species) in species_set:\n",
    "            rep.add(gene_id)\n",
    "            orthoGroup_vs_geneId[buscoGroup] = gene_id\n",
    "            geneId_vs_orthoGroup[gene_id] = buscoGroup\n",
    "    \n",
    "    return rep, orthoGroup_vs_geneId, geneId_vs_orthoGroup, orthoDB_groups"
   ]
  },
  {
   "cell_type": "code",
   "execution_count": 18,
   "id": "7e068062-5767-40dc-b21f-de815bb303f3",
   "metadata": {},
   "outputs": [
    {
     "name": "stdout",
     "output_type": "stream",
     "text": [
      "{9606}\n",
      "938\n"
     ]
    }
   ],
   "source": [
    "species = [9606]\n",
    "path = '../../data/busco/busco_downloads/lineages/metazoa_odb10/info/ogs.id.info'\n",
    "rep, orthoGroup_vs_geneId, geneId_vs_orthoGroup, orthoDB_groups = get_representatives(path, species)\n",
    "print(len(rep))"
   ]
  },
  {
   "cell_type": "code",
   "execution_count": 12,
   "id": "7e67bc4e-8ca3-49ae-a652-34a18d44410e",
   "metadata": {},
   "outputs": [
    {
     "name": "stdout",
     "output_type": "stream",
     "text": [
      "{7227}\n",
      "927\n"
     ]
    }
   ],
   "source": [
    "species = [7227]\n",
    "path = '../../data/busco/busco_downloads/lineages/metazoa_odb10/info/ogs.id.info'\n",
    "rep, orthoGroup_vs_geneId, geneId_vs_orthoGroup, orthoDB_groups = get_representatives(path, species)\n",
    "print(len(rep))"
   ]
  },
  {
   "cell_type": "code",
   "execution_count": 4,
   "id": "940a1415-dcb5-4146-be98-33cda5745601",
   "metadata": {},
   "outputs": [
    {
     "ename": "KeyboardInterrupt",
     "evalue": "",
     "output_type": "error",
     "traceback": [
      "\u001b[0;31m---------------------------------------------------------------------------\u001b[0m",
      "\u001b[0;31mKeyboardInterrupt\u001b[0m                         Traceback (most recent call last)",
      "Cell \u001b[0;32mIn[4], line 9\u001b[0m\n\u001b[1;32m      7\u001b[0m counter \u001b[38;5;241m=\u001b[39m \u001b[38;5;241m0\u001b[39m\n\u001b[1;32m      8\u001b[0m \u001b[38;5;28;01mwith\u001b[39;00m \u001b[38;5;28mopen\u001b[39m(path_all_busco) \u001b[38;5;28;01mas\u001b[39;00m handle:\n\u001b[0;32m----> 9\u001b[0m     \u001b[38;5;28;01mfor\u001b[39;00m record \u001b[38;5;129;01min\u001b[39;00m SeqIO\u001b[38;5;241m.\u001b[39mparse(handle, \u001b[38;5;124m\"\u001b[39m\u001b[38;5;124mfasta\u001b[39m\u001b[38;5;124m\"\u001b[39m):\n\u001b[1;32m     10\u001b[0m         header \u001b[38;5;241m=\u001b[39m record\u001b[38;5;241m.\u001b[39mid\n\u001b[1;32m     11\u001b[0m         \u001b[38;5;28;01mif\u001b[39;00m header\u001b[38;5;241m.\u001b[39msplit(\u001b[38;5;124m'\u001b[39m\u001b[38;5;130;01m\\t\u001b[39;00m\u001b[38;5;124m'\u001b[39m)[\u001b[38;5;241m0\u001b[39m] \u001b[38;5;129;01min\u001b[39;00m rep:\n",
      "File \u001b[0;32m~/anaconda3/envs/jupyter/lib/python3.11/site-packages/Bio/SeqIO/Interfaces.py:85\u001b[0m, in \u001b[0;36mSequenceIterator.__next__\u001b[0;34m(self)\u001b[0m\n\u001b[1;32m     83\u001b[0m \u001b[38;5;250m\u001b[39m\u001b[38;5;124;03m\"\"\"Return the next entry.\"\"\"\u001b[39;00m\n\u001b[1;32m     84\u001b[0m \u001b[38;5;28;01mtry\u001b[39;00m:\n\u001b[0;32m---> 85\u001b[0m     \u001b[38;5;28;01mreturn\u001b[39;00m \u001b[38;5;28mnext\u001b[39m(\u001b[38;5;28mself\u001b[39m\u001b[38;5;241m.\u001b[39mrecords)\n\u001b[1;32m     86\u001b[0m \u001b[38;5;28;01mexcept\u001b[39;00m \u001b[38;5;167;01mException\u001b[39;00m:\n\u001b[1;32m     87\u001b[0m     \u001b[38;5;28;01mif\u001b[39;00m \u001b[38;5;28mself\u001b[39m\u001b[38;5;241m.\u001b[39mshould_close_stream:\n",
      "File \u001b[0;32m~/anaconda3/envs/jupyter/lib/python3.11/site-packages/Bio/SeqIO/FastaIO.py:199\u001b[0m, in \u001b[0;36mFastaIterator.iterate\u001b[0;34m(self, handle)\u001b[0m\n\u001b[1;32m    197\u001b[0m \u001b[38;5;28;01mdef\u001b[39;00m \u001b[38;5;21miterate\u001b[39m(\u001b[38;5;28mself\u001b[39m, handle):\n\u001b[1;32m    198\u001b[0m \u001b[38;5;250m    \u001b[39m\u001b[38;5;124;03m\"\"\"Parse the file and generate SeqRecord objects.\"\"\"\u001b[39;00m\n\u001b[0;32m--> 199\u001b[0m     \u001b[38;5;28;01mfor\u001b[39;00m title, sequence \u001b[38;5;129;01min\u001b[39;00m SimpleFastaParser(handle):\n\u001b[1;32m    200\u001b[0m         \u001b[38;5;28;01mtry\u001b[39;00m:\n\u001b[1;32m    201\u001b[0m             first_word \u001b[38;5;241m=\u001b[39m title\u001b[38;5;241m.\u001b[39msplit(\u001b[38;5;28;01mNone\u001b[39;00m, \u001b[38;5;241m1\u001b[39m)[\u001b[38;5;241m0\u001b[39m]\n",
      "File \u001b[0;32m~/anaconda3/envs/jupyter/lib/python3.11/site-packages/Bio/SeqIO/FastaIO.py:65\u001b[0m, in \u001b[0;36mSimpleFastaParser\u001b[0;34m(handle)\u001b[0m\n\u001b[1;32m     60\u001b[0m \u001b[38;5;66;03m# Main logic\u001b[39;00m\n\u001b[1;32m     61\u001b[0m \u001b[38;5;66;03m# Note, remove trailing whitespace, and any internal spaces\u001b[39;00m\n\u001b[1;32m     62\u001b[0m \u001b[38;5;66;03m# (and any embedded \\r which are possible in mangled files\u001b[39;00m\n\u001b[1;32m     63\u001b[0m \u001b[38;5;66;03m# when not opened in universal read lines mode)\u001b[39;00m\n\u001b[1;32m     64\u001b[0m lines \u001b[38;5;241m=\u001b[39m []\n\u001b[0;32m---> 65\u001b[0m \u001b[38;5;28;01mfor\u001b[39;00m line \u001b[38;5;129;01min\u001b[39;00m handle:\n\u001b[1;32m     66\u001b[0m     \u001b[38;5;28;01mif\u001b[39;00m line[\u001b[38;5;241m0\u001b[39m] \u001b[38;5;241m==\u001b[39m \u001b[38;5;124m\"\u001b[39m\u001b[38;5;124m>\u001b[39m\u001b[38;5;124m\"\u001b[39m:\n\u001b[1;32m     67\u001b[0m         \u001b[38;5;28;01myield\u001b[39;00m title, \u001b[38;5;124m\"\u001b[39m\u001b[38;5;124m\"\u001b[39m\u001b[38;5;241m.\u001b[39mjoin(lines)\u001b[38;5;241m.\u001b[39mreplace(\u001b[38;5;124m\"\u001b[39m\u001b[38;5;124m \u001b[39m\u001b[38;5;124m\"\u001b[39m, \u001b[38;5;124m\"\u001b[39m\u001b[38;5;124m\"\u001b[39m)\u001b[38;5;241m.\u001b[39mreplace(\u001b[38;5;124m\"\u001b[39m\u001b[38;5;130;01m\\r\u001b[39;00m\u001b[38;5;124m\"\u001b[39m, \u001b[38;5;124m\"\u001b[39m\u001b[38;5;124m\"\u001b[39m)\n",
      "File \u001b[0;32m<frozen codecs>:319\u001b[0m, in \u001b[0;36mdecode\u001b[0;34m(self, input, final)\u001b[0m\n",
      "\u001b[0;31mKeyboardInterrupt\u001b[0m: "
     ]
    }
   ],
   "source": [
    "from Bio import SeqIO\n",
    "path_all_busco = '../../results/uniprotid_to_group_assignment/odb10v1_all_og_fasta.tab'\n",
    "outpath = '../../results/uniprotid_to_group_assignment/busco/human_busco_genes.faa'\n",
    "\n",
    "out_list = []\n",
    "\n",
    "counter = 0\n",
    "with open(path_all_busco) as handle:\n",
    "    for record in SeqIO.parse(handle, \"fasta\"):\n",
    "        header = record.id\n",
    "        if header.split('\\t')[0] in rep:\n",
    "            counter += 1\n",
    "            out_list.append(record)\n",
    "print(counter)          \n",
    "with open(outpath, \"w\") as output_handle:\n",
    "    SeqIO.write(out_list, output_handle, 'fasta-2line')\n",
    "        "
   ]
  },
  {
   "cell_type": "code",
   "execution_count": 15,
   "id": "6d203627-f9a3-446a-b1ad-5c9812282a3f",
   "metadata": {},
   "outputs": [],
   "source": [
    "#started blastp with the following command\n",
    "# blastp -db ../human_qfo22_blastdb/human_qfo22_blastdb -query human_busco_genes.faa -out ./blastp_out_human_busco_vs_human_qfo22.out -outfmt '6 qseqid sseqid qlen slen length pident nident mismatch gaps qcov'\n",
    "# blastp -db ../drome_qfo22_blastdb/drome_qfo22_blastdb -query drome_busco_genes.faa -out ./blastp_out_drome_busco_vs_drome_qfo22.out -outfmt '6 qseqid sseqid qlen slen length pident nident mismatch gaps qcov'"
   ]
  },
  {
   "cell_type": "code",
   "execution_count": 6,
   "id": "e9d12d83-d7b5-4719-a673-fc6c668cbe57",
   "metadata": {},
   "outputs": [],
   "source": [
    "# Parse blastp output and assign a uniprot id\n",
    "def parse_blast_out(min_seqid, cov, path) :\n",
    "    blastp_out = open(path, 'r')\n",
    "    lines = blastp_out.readlines()\n",
    "    perfekt_match = set()\n",
    "    good_match = set()\n",
    "    accepted = set()\n",
    "    dict_busco_uniprot = {}\n",
    "    uniprot_ids = set()\n",
    "    for line in lines:\n",
    "        line = line.rstrip()\n",
    "        qseqid, sseqid, qlen, slen, length, pident, nident, mismatch, gaps = line.split('\\t')\n",
    "        sseqid = sseqid.split('|')[1]\n",
    "        if pident == '100.000' and gaps == '0' and nident == min(qlen, slen) and qseqid:\n",
    "            perfekt_match.add(sseqid)\n",
    "            accepted.add(qseqid)\n",
    "            try:\n",
    "                dict_busco_uniprot[qseqid].append(sseqid)\n",
    "            except KeyError:\n",
    "                dict_busco_uniprot[qseqid] = [sseqid]\n",
    "            uniprot_ids.add(sseqid)\n",
    "        elif float(pident) >= min_seqid and int(length)/min(int(qlen), int(slen)) > cov and qseqid:\n",
    "            good_match.add(sseqid)\n",
    "            accepted.add(qseqid)\n",
    "            try:\n",
    "                dict_busco_uniprot[qseqid].append(sseqid)\n",
    "            except KeyError:\n",
    "                dict_busco_uniprot[qseqid] = [sseqid]\n",
    "            uniprot_ids.add(sseqid)\n",
    "    return  len(perfekt_match), (len(good_match)), dict_busco_uniprot, uniprot_ids\n"
   ]
  },
  {
   "cell_type": "code",
   "execution_count": 20,
   "id": "5b5fc1c3-f5cd-4466-8602-4f8f6b899dd2",
   "metadata": {},
   "outputs": [
    {
     "name": "stdout",
     "output_type": "stream",
     "text": [
      "889 31 920\n",
      "889 33 922\n",
      "889 34 923\n",
      "923\n",
      "688 233 921\n",
      "921\n"
     ]
    }
   ],
   "source": [
    "path_human = '../../results/uniprotid_to_group_assignment/busco/blastp_out_human_busco_vs_human_qfo22.out'\n",
    "path = '../../results/uniprotid_to_group_assignment/busco/blastp_out_drome_busco_vs_drome_qfo22.out'\n",
    "perfekt_match, good_match, dict_busco_uniprot, uniprot_ids = parse_blast_out(98, 0.8, path)\n",
    "print(perfekt_match, good_match, perfekt_match + good_match)\n",
    "\n",
    "perfekt_match, good_match, dict_busco_uniprot, uniprot_ids = parse_blast_out(97, 0.8, path)\n",
    "print(perfekt_match, good_match, perfekt_match + good_match)\n",
    "\n",
    "perfekt_match, good_match, dict_busco_uniprot_drome, uniprot_ids = parse_blast_out(97, 0.7, path)\n",
    "print(perfekt_match, good_match, perfekt_match + good_match)\n",
    "print(len(uniprot_ids))\n",
    "\n",
    "perfekt_match, good_match, dict_busco_uniprot_human, uniprot_ids = parse_blast_out(90, 0.7, path_human)\n",
    "print(perfekt_match, good_match, perfekt_match + good_match)\n",
    "print(len(uniprot_ids))"
   ]
  },
  {
   "cell_type": "code",
   "execution_count": 8,
   "id": "8bf0e812-e4c1-4f38-94ba-1657579e7114",
   "metadata": {},
   "outputs": [],
   "source": [
    "import pickle as pkl\n",
    "out_path = '../pkl_files/busco_vs_uniprot_ident_98_length_70_drome.pkl'\n",
    "out = open(out_path,'wb')\n",
    "pkl.dump(dict_busco_uniprot, out)\n",
    "out.close()"
   ]
  },
  {
   "cell_type": "code",
   "execution_count": 14,
   "id": "18ddf38c-b0e9-45c4-82ab-fdd33c880557",
   "metadata": {},
   "outputs": [
    {
     "name": "stdout",
     "output_type": "stream",
     "text": [
      "7227_0:000908 ['Q9I7L8', 'E1JHM5']\n",
      "7227_0:00254b ['Q9VEQ1', 'Q9VEQ2']\n",
      "7227_0:002f60 ['C0HKA0', 'C0HKA1']\n",
      "7227_0:0033a5 ['Q9VWQ3', 'Q9VWQ6']\n",
      "7227_0:0034b4 ['A8QI13', 'A8QI32']\n"
     ]
    }
   ],
   "source": [
    "import pickle as pkl\n",
    "busco_group_vs_uniprot = {}\n",
    "\n",
    "for key in dict_busco_uniprot_drome:\n",
    "    uniprot_id = dict_busco_uniprot_drome[key][0]\n",
    "    if len(dict_busco_uniprot_drome[key]) > 1:\n",
    "        print(key, dict_busco_uniprot_drome[key])\n",
    "    group = geneId_vs_orthoGroup[key]\n",
    "    busco_group_vs_uniprot[group] = uniprot_id\n",
    "    \n",
    "out_path = '../pkl_files/busco_group_vs_uniprot_ident_98_length_70_drome.pkl'\n",
    "out = open(out_path,'wb')\n",
    "pkl.dump(busco_group_vs_uniprot, out)\n",
    "out.close()"
   ]
  },
  {
   "cell_type": "code",
   "execution_count": 21,
   "id": "1f0e74bb-ba91-411d-9fda-9faf7438e18e",
   "metadata": {},
   "outputs": [
    {
     "name": "stdout",
     "output_type": "stream",
     "text": [
      "9606_0:0004ab ['B7ZAQ6', 'P0CG08']\n",
      "9606_0:001f84 ['P52435', 'Q9H1A7', 'Q9GZM3']\n",
      "9606_0:002531 ['A8K0Z3', 'Q6VEQ5', 'C4AMC7', 'A8MWX3', 'Q9NQA3']\n",
      "9606_0:003213 ['P05388', 'Q8NHW5']\n",
      "9606_0:00344c ['Q5BKT4', 'Q5I7T1']\n",
      "9606_0:003c93 ['Q9NYV6', 'Q2M238']\n",
      "9606_0:0048df ['P40429', 'Q6NVV1']\n",
      "9606_0:004d68 ['P48553', 'A0A096LPH7']\n",
      "9606_0:004db7 ['Q15269', 'A0A0B4J2E5']\n",
      "9606_0:004eec ['Q9Y3A4', 'Q9NSQ0']\n",
      "9606_0:005039 ['Q9ULC4', 'A0A3B3IRV3']\n",
      "9606_0:00518f ['P0DI81', 'P0DI82']\n",
      "9606_0:00523b ['Q5VZM2', 'Q7L523']\n",
      "9606_0:0052ec ['Q9BVJ6', 'Q5TAP6']\n",
      "9606_0:005565 ['Q13888', 'Q6P1K8']\n"
     ]
    }
   ],
   "source": [
    "import pickle as pkl\n",
    "busco_group_vs_uniprot = {}\n",
    "\n",
    "for key in dict_busco_uniprot_human:\n",
    "    uniprot_id = dict_busco_uniprot_human[key][0]\n",
    "    if len(dict_busco_uniprot_human[key]) > 1:\n",
    "        print(key, dict_busco_uniprot_human[key])\n",
    "    group = geneId_vs_orthoGroup[key]\n",
    "    busco_group_vs_uniprot[group] = uniprot_id\n",
    "    \n",
    "out_path = '../pkl_files/busco_group_vs_uniprot_ident_90_length_70.pkl'\n",
    "out = open(out_path,'wb')\n",
    "pkl.dump(busco_group_vs_uniprot, out)\n",
    "out.close()"
   ]
  },
  {
   "cell_type": "markdown",
   "id": "a5ea91d4-5d05-47c1-9574-664c49d99887",
   "metadata": {},
   "source": [
    "## OMA"
   ]
  },
  {
   "cell_type": "code",
   "execution_count": 7,
   "id": "79c21bda-1744-45ff-b8b4-60c9a43a1943",
   "metadata": {},
   "outputs": [],
   "source": [
    "def get_seed_genes(path, reference_species):\n",
    "    file = open(path, 'r')\n",
    "    lines = file.readlines()\n",
    "    species_set = set()\n",
    "    gene_vs_oma_dict = {}\n",
    "    oma_vs_gene_dict = {}\n",
    "    header = set()\n",
    "    for i in reference_species:\n",
    "        species_set.add('ncbi' + str(i))\n",
    "    for line in lines:\n",
    "        line = line.rstrip()\n",
    "        groupId, species, ortho, fasf, fasb = line.split('\\t')\n",
    "        if species in species_set:\n",
    "            geneId = ortho.split('|')[2]\n",
    "            protein_set_name = ortho.split('|')[1]\n",
    "            if protein_set_name.split('@')[2] == '2209':\n",
    "                oma_vs_gene_dict[groupId] = geneId\n",
    "                gene_vs_oma_dict[geneId] = groupId\n",
    "                header.add(ortho)\n",
    "    return oma_vs_gene_dict, gene_vs_oma_dict, header"
   ]
  },
  {
   "cell_type": "code",
   "execution_count": 8,
   "id": "31f2566b-4e3d-4c7d-b788-48cf63652a3b",
   "metadata": {},
   "outputs": [],
   "source": [
    "species = [9606]\n",
    "oma_vs_gene_dict, gene_vs_oma_dict, header = get_seed_genes('../augustus/metazoa_core_augustus.phyloprofile', species)"
   ]
  },
  {
   "cell_type": "code",
   "execution_count": 9,
   "id": "3a3be52a-54b1-493b-a0bb-f77f96088fce",
   "metadata": {},
   "outputs": [
    {
     "name": "stdout",
     "output_type": "stream",
     "text": [
      "1372\n"
     ]
    }
   ],
   "source": [
    "print(len(header))"
   ]
  },
  {
   "cell_type": "code",
   "execution_count": 49,
   "id": "fe23238c-c795-4711-ad2b-0beb9a9ae287",
   "metadata": {},
   "outputs": [
    {
     "name": "stdout",
     "output_type": "stream",
     "text": [
      "1372\n"
     ]
    }
   ],
   "source": [
    "from Bio import SeqIO\n",
    "path_all_busco = '../../results/uniprotid_to_group_assignment/oma/metazoa_core_augustus_og.fa'\n",
    "outpath = '../../results/uniprotid_to_group_assignment/oma/humna_oma_genes.faa'\n",
    "\n",
    "out_list = []\n",
    "\n",
    "counter = 0\n",
    "with open(path_all_busco) as handle:\n",
    "    for record in SeqIO.parse(handle, \"fasta\"):\n",
    "        h = record.id\n",
    "        if h.split('\\t')[0] in header:\n",
    "            counter += 1\n",
    "            out_list.append(record)\n",
    "print(counter)          \n",
    "with open(outpath, \"w\") as output_handle:\n",
    "    SeqIO.write(out_list, output_handle, 'fasta-2line')"
   ]
  },
  {
   "cell_type": "code",
   "execution_count": 12,
   "id": "7911bbf2-cd2f-4e22-8e0a-602da9c1da52",
   "metadata": {},
   "outputs": [],
   "source": [
    "def parse_blast_out_oma(min_seqid, cov):\n",
    "    path = '../../results/uniprotid_to_group_assignment/oma/blastp_out_human_oma_vs_human_qfo22.out'\n",
    "    blastp_out = open(path, 'r')\n",
    "    lines = blastp_out.readlines()\n",
    "    perfekt_match = set()\n",
    "    good_match = set()\n",
    "    accepted = set()\n",
    "    dict_oma_uniprot = {}\n",
    "    uniprot_ids = set()\n",
    "    for line in lines:\n",
    "        line = line.rstrip()\n",
    "        qseqid, sseqid, qlen, slen, length, pident, nident, mismatch, gaps = line.split('\\t')\n",
    "        sseqid = sseqid.split('|')[1]\n",
    "        if pident == '100.000' and gaps == '0' and nident == min(qlen, slen):\n",
    "            perfekt_match.add(sseqid)\n",
    "            accepted.add(qseqid)\n",
    "            try:\n",
    "                dict_oma_uniprot[qseqid].append(sseqid)\n",
    "            except KeyError:\n",
    "                dict_oma_uniprot[qseqid] = [sseqid]\n",
    "            uniprot_ids.add(sseqid)\n",
    "        elif float(pident) >= min_seqid and int(length)/min(int(qlen), int(slen)) > cov:\n",
    "            good_match.add(sseqid)\n",
    "            accepted.add(qseqid)\n",
    "            uniprot_ids.add(sseqid)\n",
    "            try:\n",
    "                dict_oma_uniprot[qseqid].append(sseqid)\n",
    "            except KeyError:\n",
    "                dict_oma_uniprot[qseqid] = [sseqid]\n",
    "    return  len(perfekt_match), (len(good_match)), dict_busco_uniprot, uniprot_ids"
   ]
  },
  {
   "cell_type": "code",
   "execution_count": 20,
   "id": "bbcc6d45-106a-4367-92e6-770c157929a1",
   "metadata": {},
   "outputs": [
    {
     "name": "stdout",
     "output_type": "stream",
     "text": [
      "1274 75 1349\n",
      "1274 92 1366\n",
      "1274 77 1351\n",
      "1351\n"
     ]
    }
   ],
   "source": [
    "perfekt_match, good_match, dict_oma_uniprot, uniprot_ids_oma = parse_blast_out_oma(98, 0.8)\n",
    "print(perfekt_match, good_match, perfekt_match + good_match)\n",
    "\n",
    "perfekt_match, good_match, dict_oma_uniprot, uniprot_ids_oma = parse_blast_out_oma(97, 0.8)\n",
    "print(perfekt_match, good_match, perfekt_match + good_match)\n",
    "\n",
    "perfekt_match, good_match, dict_oma_uniprot, uniprot_ids_oma = parse_blast_out_oma(98, 0.7)\n",
    "print(perfekt_match, good_match, perfekt_match + good_match)\n",
    "\n",
    "print(len(uniprot_ids_oma))"
   ]
  },
  {
   "cell_type": "code",
   "execution_count": 18,
   "id": "191489f2-a8fa-4495-afec-6d432f96f7e7",
   "metadata": {},
   "outputs": [
    {
     "name": "stdout",
     "output_type": "stream",
     "text": [
      "375\n",
      "375\n"
     ]
    }
   ],
   "source": [
    "print(len(uniprot_ids_oma.intersection(uniprot_ids)))\n",
    "print(len(uniprot_ids.intersection(uniprot_ids_oma)))"
   ]
  },
  {
   "cell_type": "code",
   "execution_count": 77,
   "id": "7812eeda-6fc0-450b-9efb-111c489bd3d8",
   "metadata": {},
   "outputs": [
    {
     "name": "stdout",
     "output_type": "stream",
     "text": [
      "O00303\n"
     ]
    }
   ],
   "source": [
    "print(dict_oma_uniprot['1102883|HUMAN@9606@2209|HUMAN04429'])"
   ]
  },
  {
   "cell_type": "code",
   "execution_count": 21,
   "id": "792f4fb0-4ec0-45f5-868a-6189b59a6de6",
   "metadata": {},
   "outputs": [
    {
     "name": "stdout",
     "output_type": "stream",
     "text": [
      "1002344|HUMAN@9606@2209|HUMAN76126\n"
     ]
    }
   ],
   "source": [
    "diff = (uniprot_ids_oma - uniprot_ids)\n",
    "#print(diff)\n",
    "for key in dict_oma_uniprot:\n",
    "    if dict_oma_uniprot[key] == 'Q6TCH7':\n",
    "        print(key)\n",
    "    elif key:\n",
    "        print(dict_oma_uniprot[key])"
   ]
  },
  {
   "cell_type": "code",
   "execution_count": 12,
   "id": "6b381e5e-d1bb-4900-93d9-c6fd3b1fd14d",
   "metadata": {},
   "outputs": [],
   "source": [
    "for key in dict_busco_uniprot:\n",
    "    if dict_busco_uniprot[key] == 'Q658Y4':\n",
    "        print(key)"
   ]
  },
  {
   "cell_type": "code",
   "execution_count": 18,
   "id": "31ef0f94-3d85-4d13-a0c3-86a89170386c",
   "metadata": {},
   "outputs": [],
   "source": [
    "diff_busco = (uniprot_ids - uniprot_ids_oma)"
   ]
  },
  {
   "cell_type": "code",
   "execution_count": 19,
   "id": "8c188f6d-8ce9-49ea-bf05-4683fe893c1b",
   "metadata": {},
   "outputs": [
    {
     "name": "stdout",
     "output_type": "stream",
     "text": [
      "{'Q9NYV6', 'Q9H270', 'Q9UJX4', 'Q969J3', 'Q96MW1', 'Q96NB3', 'Q96HA8', 'Q9BYN8', 'Q96B42', 'Q9H2G9', 'Q9NX58', 'Q15814', 'Q9BUE0', 'Q9H9J2', 'P05408', 'P30050', 'Q8IXH7', 'P42766', 'Q5T280', 'Q96BW9', 'Q96GX9', 'Q13952', 'Q5BKX5', 'O60725', 'Q6PJT7', 'Q9BWT6', 'P62917', 'Q96E11', 'Q9BVV7', 'Q99442', 'Q32P41', 'Q99437', 'Q9H501', 'Q9BW27', 'Q15061', 'O43929', 'Q9Y2L5', 'Q9P055', 'O75616', 'Q16514', 'Q9Y2R9', 'Q9P0R6', 'Q12768', 'Q9Y3D3', 'Q9Y3B2', 'Q8TCC3', 'Q13795', 'O00566', 'P51398', 'Q9H7Z7', 'P61513', 'Q9Y324', 'Q9BSF4', 'Q9NVM9', 'Q9Y3U8', 'Q8WVK2', 'Q147X3', 'Q9BVS4', 'Q9BT17', 'Q8N8A6', 'Q9UBZ9', 'P46776', 'Q16585', 'Q9NUL7', 'Q9NPL8', 'Q8WTT2', 'Q7Z4H3', 'Q3ZCQ8', 'Q01831', 'Q8WX92', 'Q9BXY0', 'Q9HD33', 'Q9NRM2', 'Q96L58', 'P57081', 'Q9P0N9', 'Q9Y5Y5', 'Q8N183', 'Q7Z392', 'P08240', 'Q9H0U6', 'Q9Y375', 'Q96SK2', 'P23025', 'Q9NVR5', 'Q8N5U6', 'O43292', 'P05455', 'Q8N5C7', 'P46779', 'P07902', 'Q9Y3C0', 'P61201', 'O00623', 'Q96DC8', 'P17152', 'Q9Y6G5', 'Q8WVT3', 'P78346', 'Q5C9Z4', 'Q8N1B3', 'P09884', 'Q9BU61', 'Q86W50', 'Q9GZU8', 'A0AVI4', 'Q99547', 'Q8TAM2', 'Q9NWU5', 'Q3MIT2', 'Q9H2W6', 'Q07021', 'Q96FX7', 'P61221', 'Q96EL2', 'P62829', 'P82914', 'Q96K37', 'Q9BRJ2', 'Q9HCN4', 'Q9BVL2', 'Q6RFH5', 'Q9NQQ7', 'Q96EK6', 'Q9Y3B4', 'Q96G25', 'O95169', 'O14964', 'Q9NQT4', 'Q5TEU4', 'O95149', 'Q9ULR0', 'P32780', 'Q02878', 'Q9UKX7', 'O75648', 'O75821', 'P09001', 'O15541', 'Q96AB6', 'Q9P0M9', 'P13994', 'O75800', 'Q9H0H0', 'P28328', 'O96000', 'Q9Y5M8', 'O95707', 'Q9NX55', 'P40429', 'O75943', 'O43513', 'Q9Y5J1', 'O43709', 'P52657', 'Q9BXS1', 'Q13889', 'Q13405', 'Q9BYD3', 'Q9HCU5', 'Q9H6K1', 'Q13901', 'Q9H814', 'Q9NZ43', 'Q5QP82', 'Q9GZR7', 'Q9Y388', 'O95831', 'Q92616', 'Q330K2', 'Q8N302', 'Q3MHD2', 'Q14691', 'Q9UKB3', 'Q9BRP8', 'Q9UQ84', 'Q9NXW9', 'Q92665', 'Q9UHV9', 'Q5T9L3', 'O75575', 'Q9P1Q0', 'Q16795', 'O15091', 'O95159', 'Q5W111', 'Q96GA3', 'P83731', 'P17568', 'Q9Y3E7', 'Q9BZE1', 'Q8IV38', 'Q5SWX8', 'O95568', 'Q86U38', 'Q9H0G5', 'O75586', 'Q9UHK0', 'Q96KP1', 'O14717', 'Q9BV87', 'Q8N9N7', 'Q9Y6N1', 'O14893', 'Q96MW5', 'Q9UBB6', 'Q9Y606', 'Q9H9Y2', 'Q13084', 'Q8ND04', 'Q4U2R6', 'Q8IU60', 'Q86X83', 'O95299', 'Q92797', 'P18077', 'Q9NYP3', 'Q96I25', 'Q9H040', 'Q969N2', 'Q96E29', 'Q9UHA4', 'Q9H981', 'P51946', 'P0DPB6', 'Q8N653', 'O95456', 'Q96L50', 'Q9NRP0', 'A0PJW6', 'Q9H4B6', 'Q9H0W8', 'Q9UJX5', 'Q86W42', 'O75528', 'Q9H7X0', 'Q14197', 'Q14696', 'Q8NCE0', 'Q9BQD3', 'Q7RTS9', 'Q9Y5B9', 'Q9H4Z3', 'Q8WVY7', 'O43583', 'Q86Y56', 'Q96KC8', 'O75380', 'O75787', 'Q9BVI4', 'Q96JB5', 'P82675', 'Q9BSV6', 'O60783', 'Q9ULW3', 'Q9Y3F4', 'P53990', 'Q6AI08', 'P07992', 'Q6P161', 'P82673', 'Q15631', 'Q9BVC3', 'Q16595', 'Q9NX38', 'Q9NRF9', 'Q9UJK0', 'Q92979', 'Q8N1F7', 'Q6QNY1', 'Q9P032', 'Q9NQZ2', 'Q13868', 'A0A096LPH7', 'Q8IWT0', 'Q9BYC8', 'Q92542', 'Q96RY5', 'P52435', 'Q9Y3T9', 'Q8TBF4', 'P0C2W1', 'Q8TCT6', 'O43181', 'Q9P015', 'Q9NZL4', 'Q8NEJ9', 'Q6ZNE5', 'Q9Y584', 'Q8N766', 'Q9UBB4', 'Q8N5Y8', 'Q9Y2R4', 'Q9H6Y2', 'Q9UIL1', 'Q96E22', 'Q9BRT9', 'P52434', 'Q9BQ65', 'Q96RR1', 'O43148', 'Q9NZ09', 'O95336', 'Q9NVU7', 'Q9NPF5', 'Q96A33', 'Q9UJ70', 'O75381', 'Q96CS3', 'Q9BWU0', 'Q9ULC3', 'Q9NWS8', 'Q9BVJ6', 'Q96EW2', 'Q6P1L8', 'O14681', 'Q9HB71', 'Q96J42', 'O95900', 'Q9Y2P8', 'Q96FV9', 'Q53FP2', 'P56589', 'Q13769', 'Q9P287', 'P09132', 'Q99627', 'Q9UBU6', 'O15116', 'P50914', 'P49959', 'O15258', 'O60613', 'Q13057', 'Q9BQ70', 'Q9Y2Q9', 'P20042', 'Q86UK7', 'P19447', 'Q96K21', 'Q5J8M3', 'Q9Y6H3', 'Q9NZ63', 'Q86XA0', 'Q13686', 'Q6P3X3', 'Q14746', 'Q96EY7', 'Q9BVG4', 'P18615', 'O14972', 'P52815', 'Q13144', 'Q5T440', 'Q9NWL6', 'Q9NX24', 'Q8IWY9', 'Q9Y3D5', 'O95400', 'O43395', 'Q9UJA2', 'Q9BTV6', 'Q9UH92', 'P50336', 'Q9C086', 'P82912', 'Q6P3S6', 'A0JLT2', 'Q9BYC9', 'Q32NB8', 'Q8WUU5', 'P30049', 'Q9NXG2', 'Q8IY95', 'Q7Z4G4', 'Q9BRD0', 'A8K0Z3', 'Q0VDI3', 'Q86X95', 'P61218', 'P62899', 'Q9UBL3', 'Q15645', 'Q9Y224', 'Q9H1A3', 'Q9UDW3', 'Q9NWT1', 'Q9NP92', 'Q8NC60', 'P62316', 'P61011', 'Q8N5T2', 'Q9Y3A4', 'Q5VTL8', 'P05388', 'Q96DM3', 'O75909', 'Q01658', 'O94817', 'Q9NRN9', 'Q12887', 'Q9BPX7', 'Q9BRB3', 'Q9UHN1', 'Q1RMZ1', 'P61353', 'Q15831', 'Q8TBB5', 'Q9NZM5', 'Q9P0J0', 'Q9Y3S2', 'Q9UPQ8', 'Q9NRD5', 'Q9BUB7', 'Q8IWA0', 'P41214', 'Q9UK59', 'Q8TDP1', 'P55081', 'Q8WUX9', 'Q96G46', 'Q8N4W6', 'P62750', 'Q9NQ50', 'Q9NVU0', 'Q9NVM6', 'P82650', 'P47224', 'Q2VPK5', 'P62851', 'Q9H7Z3', 'P49406', 'Q14CX7', 'Q9UK97', 'Q70Z53', 'Q08AM6', 'Q8TEA7', 'Q9H944', 'Q15126', 'Q9Y3C1', 'Q8WUK0', 'Q9NY61', 'Q9Y4W2', 'Q9NVC6', 'Q9Y2Z0', 'Q96A35', 'Q9H9C1'}\n"
     ]
    }
   ],
   "source": [
    "print(diff_busco)"
   ]
  },
  {
   "cell_type": "code",
   "execution_count": null,
   "id": "bbcbc266-242d-4532-a5ec-b8bbd95ec0a6",
   "metadata": {},
   "outputs": [],
   "source": []
  }
 ],
 "metadata": {
  "kernelspec": {
   "display_name": "Python 3 (ipykernel)",
   "language": "python",
   "name": "python3"
  },
  "language_info": {
   "codemirror_mode": {
    "name": "ipython",
    "version": 3
   },
   "file_extension": ".py",
   "mimetype": "text/x-python",
   "name": "python",
   "nbconvert_exporter": "python",
   "pygments_lexer": "ipython3",
   "version": "3.12.3"
  }
 },
 "nbformat": 4,
 "nbformat_minor": 5
}
