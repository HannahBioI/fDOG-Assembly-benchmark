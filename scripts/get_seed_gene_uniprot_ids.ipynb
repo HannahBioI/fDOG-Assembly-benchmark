{
 "cells": [
  {
   "cell_type": "markdown",
   "id": "6043de7c-3abf-4527-b074-8ba35d349dde",
   "metadata": {},
   "source": [
    "### Get Uniprot Ids for all fDOG-Assembly seed genes"
   ]
  },
  {
   "cell_type": "markdown",
   "id": "2541f28b-c9ea-489c-a733-3dd4aa2e68e1",
   "metadata": {},
   "source": [
    "1) open PhyloProfile output, grep all the possible seed gene Ids. That would be all genes from species human, C.elegans or Drosophila\n",
    "2) open mapping file from OMA version dec 21\n",
    "3) create dictionary\n",
    "4) map all the seed gene ids to Uniprot Ids\n",
    "5) write output mapping file"
   ]
  },
  {
   "cell_type": "code",
   "execution_count": 1,
   "id": "97accb3e-937c-4173-b1d7-58e24e32166a",
   "metadata": {},
   "outputs": [],
   "source": [
    "def get_seed_genes(path, reference_species):\n",
    "    file = open(path, 'r')\n",
    "    lines = file.readlines()\n",
    "    species_set = set()\n",
    "    gene_vs_oma_dict = {}\n",
    "    oma_vs_gene_dict = {}\n",
    "    for i in reference_species:\n",
    "        species_set.add('ncbi' + str(i))\n",
    "    for line in lines:\n",
    "        line = line.rstrip()\n",
    "        groupId, species, ortho, fasf, fasb = line.split('\\t')\n",
    "        if species in species_set:\n",
    "            geneId = ortho.split('|')[2]\n",
    "            protein_set_name = ortho.split('|')[1]\n",
    "            if protein_set_name.split('@')[2] == '2209':\n",
    "                oma_vs_gene_dict[groupId] = geneId\n",
    "                gene_vs_oma_dict[geneId] = groupId\n",
    "    return oma_vs_gene_dict, gene_vs_oma_dict\n",
    "        \n",
    "    "
   ]
  },
  {
   "cell_type": "code",
   "execution_count": 2,
   "id": "8a4a2c0f-fb2c-40c1-8c7d-ffb5c18f2112",
   "metadata": {},
   "outputs": [],
   "source": [
    "species = [9606, 7227, 6239]\n",
    "oma_vs_gene_dict, gene_vs_oma_dict = get_seed_genes('../augustus/metazoa_core_augustus.phyloprofile', species)"
   ]
  },
  {
   "cell_type": "code",
   "execution_count": 3,
   "id": "4cd55fb6-5a75-4c30-a965-d8bd475e536d",
   "metadata": {},
   "outputs": [],
   "source": [
    "def parse_mapping_file(path):\n",
    "    file = open(path, 'r')\n",
    "    lines = file.readlines()\n",
    "    oma_vs_uniprot_dict = {}\n",
    "    for line in lines:\n",
    "        line = line.rstrip()\n",
    "        if line.startswith('#'):\n",
    "            continue\n",
    "        else:\n",
    "            gene, uniprot = line.split('\\t')\n",
    "            oma_vs_uniprot_dict[gene] = uniprot\n",
    "    return oma_vs_uniprot_dict"
   ]
  },
  {
   "cell_type": "code",
   "execution_count": 4,
   "id": "a734c9fc-65dc-4690-b325-417262c58b2c",
   "metadata": {},
   "outputs": [],
   "source": [
    "path = '../../data/oma_dec_21/oma-uniprot.txt'\n",
    "oma_vs_uniprot = parse_mapping_file(path)"
   ]
  },
  {
   "cell_type": "code",
   "execution_count": 5,
   "id": "a17724c9-6643-459f-9083-898aea76a5bd",
   "metadata": {},
   "outputs": [],
   "source": [
    "def mapping(oma_vs_uniprot, gene_vs_oma_dict):\n",
    "    gene_list = []\n",
    "    human = 0\n",
    "    caeel = 0\n",
    "    drome = 0\n",
    "    for gene in gene_vs_oma_dict:\n",
    "        if gene.startswith('HUMAN'):\n",
    "            human += 1\n",
    "        elif gene.startswith('CAEEL'):\n",
    "            caeel += 1\n",
    "        elif gene.startswith('DROME'):\n",
    "            human += 1\n",
    "        else:\n",
    "            print(gene)\n",
    "        try:\n",
    "            gene_list.append(gene_vs_oma_dict[gene] + '\\t' + oma_vs_uniprot[gene])\n",
    "        except KeyError:\n",
    "            print(gene)\n",
    "    print('Human %s, Caeel %s, Drome %s'%(human, caeel, drome))\n",
    "    return gene_list"
   ]
  },
  {
   "cell_type": "code",
   "execution_count": 6,
   "id": "77f1c6d2-7b77-4fe6-9540-090765a9949d",
   "metadata": {},
   "outputs": [
    {
     "name": "stdout",
     "output_type": "stream",
     "text": [
      "HUMAN22299\n",
      "HUMAN24900\n",
      "HUMAN80254\n",
      "Human 1396, Caeel 1, Drome 0\n"
     ]
    }
   ],
   "source": [
    "group_vs_uniprot = mapping(oma_vs_uniprot, gene_vs_oma_dict)"
   ]
  },
  {
   "cell_type": "markdown",
   "id": "3c45a109-fd4f-497a-ac44-0d0a5a72dc22",
   "metadata": {},
   "source": [
    "I used the UniProt peptide search to find similar human proteins:\n",
    "\n",
    "HUMAN80254: Q8NI36, A0A0A0MTB8\n",
    "\n",
    "HUMAN24900: Q7L5Y6, Q7L5Y6-2\n",
    "\n",
    "HUMAN22299: P26440, A0A0A0MT83\n",
    "\n",
    "Information from UniProt: Peptide search -> search with a peptide seqeunce to find all UniProt proteins that contain exact matches"
   ]
  },
  {
   "cell_type": "code",
   "execution_count": 7,
   "id": "0d4f50e0-d58d-41da-bf67-81b7eda7207a",
   "metadata": {},
   "outputs": [],
   "source": [
    "out = open('../../data/fDOG-assembly/seed_vs_uniprot.tsv', 'w')\n",
    "for i in group_vs_uniprot:\n",
    "    out.write(i + '\\n')\n",
    "out.close()"
   ]
  },
  {
   "cell_type": "markdown",
   "id": "c7eaaa24-521d-48af-a60d-fe80f0d1a74a",
   "metadata": {},
   "source": [
    "### Grep representatives per BUSCO group and map them against uniprot\n",
    "\n",
    "1) get BUSCO gene IDs of species humna, C. elegans and Drosophila if available per BUSCO group\n",
    "2) grep gene ID from ogs.id.info\n",
    "3) map the gene ids against Uniprot by using the orthoDb v10.1 mapping table\n"
   ]
  },
  {
   "cell_type": "code",
   "execution_count": 8,
   "id": "384be5e6-6b84-4b55-a693-aed829a97bc6",
   "metadata": {},
   "outputs": [],
   "source": [
    "def get_representatives(path, species_list):\n",
    "    # the orthoDB gene ids have the following format: taxid_version:geneID\n",
    "    file = open(path, 'r')\n",
    "    lines = file.readlines()\n",
    "    rep = set()\n",
    "    species_set = set(species_list)\n",
    "    print(species_set)\n",
    "    orthoDB_groups = set()\n",
    "    orthoGroup_vs_geneId = {}\n",
    "    geneId_vs_orthoGroup = {}\n",
    "    for line in lines:\n",
    "        line = line.rstrip()\n",
    "        gene_id, buscoGroup = line.split('\\t')\n",
    "        orthoDB_groups.add(buscoGroup)\n",
    "        species = gene_id.split('_')[0]\n",
    "        if int(species) in species_set:\n",
    "            rep.add(gene_id)\n",
    "            orthoGroup_vs_geneId[buscoGroup] = gene_id\n",
    "            geneId_vs_orthoGroup[gene_id] = buscoGroup\n",
    "    \n",
    "    return rep, orthoGroup_vs_geneId, geneId_vs_orthoGroup, orthoDB_groups\n",
    "    "
   ]
  },
  {
   "cell_type": "code",
   "execution_count": 9,
   "id": "e39fe6d7-b7ef-4876-b707-a6c151f4a2c0",
   "metadata": {},
   "outputs": [
    {
     "name": "stdout",
     "output_type": "stream",
     "text": [
      "{7227, 9606, 6239}\n",
      "1865\n",
      "Human 938, Caeel 0, Drome 927\n",
      "Human set 938, Drome set 927, Intersection 912, Difference 41\n"
     ]
    }
   ],
   "source": [
    "species = [9606, 7227, 6239]\n",
    "path = '../../data/busco/busco_downloads/lineages/metazoa_odb10/info/ogs.id.info'\n",
    "rep, orthoGroup_vs_geneId, geneId_vs_orthoGroup, orthoDB_groups = get_representatives(path, species)\n",
    "print(len(rep))\n",
    "\n",
    "human = 0\n",
    "human_set = set()\n",
    "caeel = 0\n",
    "drome = 0\n",
    "drome_set = set()\n",
    "for i in rep:\n",
    "    if i.startswith('9606'):\n",
    "        human += 1\n",
    "        try:\n",
    "            human_set.add(geneId_vs_orthoGroup[i])\n",
    "        except KeyError:\n",
    "            pass\n",
    "    elif i.startswith('7227'):\n",
    "        drome += 1\n",
    "        try:\n",
    "            drome_set.add(geneId_vs_orthoGroup[i])\n",
    "        except KeyError:\n",
    "            pass\n",
    "    elif i.startswith('6239'):\n",
    "        caeel += 1\n",
    "print('Human %s, Caeel %s, Drome %s'%(human, caeel, drome))\n",
    "\n",
    "print('Human set %i, Drome set %i, Intersection %i, Difference %i'%(len(human_set), len(drome_set), len(drome_set.intersection(human_set)), len((drome_set - human_set)) + len((human_set - drome_set))))\n",
    "\n"
   ]
  },
  {
   "cell_type": "code",
   "execution_count": 10,
   "id": "b9a092da-9d9e-49a6-8593-21916544e5e6",
   "metadata": {},
   "outputs": [],
   "source": [
    "def create_mapping_dicts_orthodb_uniprot(path, rep):\n",
    "    file = open(path, 'r')\n",
    "    lines = file.readlines()\n",
    "    orthodb_vs_uniprot_dict = {}\n",
    "    for line in lines:\n",
    "        line = line.rstrip()\n",
    "        row = line.split('\\t')\n",
    "        try:\n",
    "            uniprot = row[4]\n",
    "        except IndexError:\n",
    "            if len(row) > 4:\n",
    "                print(row)\n",
    "        if uniprot != '':\n",
    "            orthodb_vs_uniprot_dict[row[0]] = uniprot\n",
    "    return orthodb_vs_uniprot_dict"
   ]
  },
  {
   "cell_type": "code",
   "execution_count": 11,
   "id": "f999c309-bdf2-4edc-84ac-1d66fda11013",
   "metadata": {},
   "outputs": [],
   "source": [
    "path = '../../data/busco/orthodb_downloads/odb10v1_genes.tab'\n",
    "orthodb_vs_uniprot_dict = create_mapping_dicts_orthodb_uniprot(path, rep)"
   ]
  },
  {
   "cell_type": "code",
   "execution_count": 12,
   "id": "a8576d21-e171-4ecc-94c2-36de52783218",
   "metadata": {},
   "outputs": [],
   "source": [
    "import matplotlib.pyplot as plt\n",
    "from matplotlib_venn import venn2"
   ]
  },
  {
   "cell_type": "code",
   "execution_count": 13,
   "id": "e17cc9b5-1703-4f3e-bb70-ea39ddea8f18",
   "metadata": {},
   "outputs": [
    {
     "name": "stdout",
     "output_type": "stream",
     "text": [
      "938\n",
      "927\n",
      "912\n"
     ]
    },
    {
     "data": {
      "image/png": "[encoded data removed]",
      "text/plain": [
       "<Figure size 640x480 with 1 Axes>"
      ]
     },
     "metadata": {},
     "output_type": "display_data"
    },
    {
     "name": "stdout",
     "output_type": "stream",
     "text": [
      "{'366124at33208'}\n"
     ]
    }
   ],
   "source": [
    "only_human = human_set - drome_set\n",
    "only_drome = drome_set - human_set\n",
    "intersection = len(drome_set.intersection(human_set))\n",
    "print (len(human_set))\n",
    "print(len(drome_set))\n",
    "print(intersection)\n",
    "venn2(subsets = (len(only_human), len(only_drome), intersection), set_labels = ('Human', 'Drosophila'))\n",
    "plt.show()\n",
    "\n",
    "#954 groups would have been possible, that means that we don't have a representative gene for one group \n",
    "\n",
    "missing = orthoDB_groups - (human_set.union(drome_set))\n",
    "print(missing)"
   ]
  },
  {
   "cell_type": "markdown",
   "id": "5e6fa02a-951b-4e2e-985d-aa7297b00ed7",
   "metadata": {},
   "source": [
    "### Overlap between BUSCO and OMA core groups"
   ]
  },
  {
   "cell_type": "code",
   "execution_count": 14,
   "id": "cf9ba044-2b6a-4ac9-a9fb-1500ffcbffa5",
   "metadata": {},
   "outputs": [
    {
     "name": "stdout",
     "output_type": "stream",
     "text": [
      "576\n"
     ]
    }
   ],
   "source": [
    "busco = set()\n",
    "for key in orthodb_vs_uniprot_dict:\n",
    "    busco.add(orthodb_vs_uniprot_dict[key])\n",
    "\n",
    "intersection_busco_oma = set()\n",
    "for i in group_vs_uniprot:\n",
    "    group, uniprot = i.split('\\t')\n",
    "    if uniprot in busco:\n",
    "        intersection_busco_oma.add(uniprot)\n",
    "        \n",
    "print(len(intersection_busco_oma))\n",
    "\n"
   ]
  },
  {
   "cell_type": "code",
   "execution_count": null,
   "id": "41402001-68e4-4eed-837d-c70cc5603592",
   "metadata": {},
   "outputs": [],
   "source": [
    "#write to file\n"
   ]
  },
  {
   "cell_type": "markdown",
   "id": "c1ceb5e3-a4ff-4b84-b0b1-ad8a6871bd44",
   "metadata": {},
   "source": [
    "### Overlap with human protein set UniProt"
   ]
  },
  {
   "cell_type": "code",
   "execution_count": 16,
   "id": "ed796b61-0fbf-4a01-a147-09ab14659eaf",
   "metadata": {},
   "outputs": [
    {
     "name": "stdout",
     "output_type": "stream",
     "text": [
      "20598\n",
      "388\n"
     ]
    }
   ],
   "source": [
    "human_proteom = set()\n",
    "\n",
    "path = '../../data/qfo_eukaryota_2022/human_uniprot_ids_qfo22.txt'\n",
    "file = open(path, 'r')\n",
    "lines = file.readlines()\n",
    "\n",
    "for line in lines:\n",
    "    line = line.rstrip()\n",
    "    human_proteom.add(line)\n",
    "    \n",
    "intersection_proteom_core_groups = human_proteom.intersection(intersection_busco_oma)\n",
    "print(len(human_proteom))\n",
    "print(len(intersection_proteom_core_groups))"
   ]
  },
  {
   "cell_type": "code",
   "execution_count": 17,
   "id": "12d15ba1-9322-46f0-8899-d91e9480d72d",
   "metadata": {},
   "outputs": [
    {
     "name": "stdout",
     "output_type": "stream",
     "text": [
      "{'E5KTM5', 'A0A0S2Z410', 'A0A024RE05', 'A0A024R0E3', 'A8K3L7', 'A0A090N8Y5', 'A0A024R811', 'A0MNP2', 'A4D2J0', 'Q94523', 'Q9XVE9', 'A0A024R9L1', 'A0A024R745', 'A0A0S2Z3L0', 'A0A087WT15', 'A0A0S2Z3A9', 'A8YXX4', 'A0A024R157', 'A0A0D9SG71', 'A0A0S2Z4Y5', 'A0A024R6B9', 'A9UGY9', 'A0A024R4K3', 'A8K2M0', 'A0A024R061', 'A0A024RD82', 'G3V1J5', 'A0A024R6H1', 'A8KA82', 'A0A140VKC1', 'A0A140VK45', 'A0A024R9H2', 'A0A024R045', 'A0A024R3X4', 'A0A140VK49', 'A0A024RBC7', 'A0A0S2Z612', 'Q9VIK1', 'J3KTE4', 'A0A024RBY9', 'E5KNU5', 'A0A024RBJ3', 'A0A024R1U2', 'A0A024R292', 'A0A0S2Z4J1', 'A0A024R8B7', 'A0A024RBA9', 'P55162', 'Q9W3T9', 'A0A087WTB8', 'A0A024R9R3', 'A0A0S2Z4J6', 'A4D0V4', 'E2QD65', 'A0A024R625', 'A0A024R565', 'A0A024RBM8', 'A0A024R179', 'A0A090N7W4', 'A0A024R8R4', 'Q9VRP2', 'A0A140VKB3', 'A0A024RAS3', 'A0A140VKB7', 'A0A0S2A4E4', 'A0A024R6G4', 'A8K4H7', 'K7ESL1', 'A0A024RDL1', 'A0A024RDG8', 'Q5TDG3', 'A0MNN4', 'Q9V831', 'A0A140VKE7', 'A0A140VK56', 'A0A024R3H8', 'A0A140VK29', 'A0A024R8S5', 'A0A024RDQ8', 'A0A140VK12', 'A1L4Q0', 'A0A024R3L9', 'A0A024R2D5', 'A0A0S2Z4C3', 'A0A024RBE8', 'A4D0W4', 'A0A1W1GSK9', 'Q9VKR0', 'A0A0S2Z3L2', 'A0A024R9D9', 'A0A024R496', 'A0A024R2Y2', 'Q53SE7', 'A0A024R4M0', 'A0A024R1C1', 'Q7KV27', 'A0A024R7B7', 'Q9VUB9', 'A0A024R3B7', 'A0A0S2Z4R1', 'A0A087WWM0', 'A0A024R9W0', 'A0A024R4U6', 'A0A024RCX8', 'A0A024R1E4', 'A0A024R1P3', 'Q06849', 'A8K5J1', 'A0A024R040', 'Q5TDE9', 'A0A140VK65', 'A0A140VK27', 'Q7K483', 'M9PEL1', 'A0A024R713', 'A0A024R3X9', 'A0A024R9B5', 'A0A0S2Z489', 'A0A024RBX9', 'A0A024RCB2', 'A0A024R8L3', 'A0A024R222', 'A0A024R1H3', 'A0A024R7N2', 'A0A140VJK6', 'X2JIH1', 'A0A140VK39', 'A0A024R4V6', 'A0A024R1K8', 'A0A140VJQ4', 'A0A0S2Z5L1', 'A0A140VJJ2', 'A0A0S2Z5H7', 'A0A024R184', 'E9KL30', 'A0A024RA75', 'A0A024R9L9', 'Q53T99', 'D1Z373', 'A0A140VJR3', 'A8K401', 'A4D1L5', 'A0A024RAE1', 'A0A024R861', 'A0A140VK69', 'A0A0S2Z3W7', 'A0A024RBS0', 'A0A024QZN2', 'A0A140VKA9', 'A0A024QZ08', 'A0A024RE06', 'Q3SYF1', 'A0A140VK67', 'A0A024QYX5', 'A2TJK5', 'A0A140VJL0', 'A0A024RA36', 'E9KL48', 'P91926', 'A0A024R7W0', 'A0A024RDW5', 'B2R7W3', 'A0A024RCX7', 'A0A024R5U8', 'C4B4C6', 'A0A024R4I7', 'A0A0S2Z5E9', 'B2RE76', 'A0A024R071', 'A4D0Z4', 'A0A0S2Z626', 'A0A109NGN6', 'H3BS01', 'E7EQR6', 'A0A0S2Z382', 'A0A024R9M9', 'A0A0S2Z3X8', 'A0A0B4LGS4', 'A0A140VK46', 'A0A024R277', 'A0A024R475', 'A0A0C4DG89', 'B0YIW9', 'A0A024QYR3', 'P13060', 'E9KL44', 'A0A024R7K2', 'A0A024R3T8'}\n"
     ]
    }
   ],
   "source": [
    "print(intersection_busco_oma - human_proteom)"
   ]
  },
  {
   "cell_type": "code",
   "execution_count": null,
   "id": "22c050f8-70a2-482b-b20a-8c0e44205267",
   "metadata": {},
   "outputs": [],
   "source": []
  }
 ],
 "metadata": {
  "kernelspec": {
   "display_name": "Python 3 (ipykernel)",
   "language": "python",
   "name": "python3"
  },
  "language_info": {
   "codemirror_mode": {
    "name": "ipython",
    "version": 3
   },
   "file_extension": ".py",
   "mimetype": "text/x-python",
   "name": "python",
   "nbconvert_exporter": "python",
   "pygments_lexer": "ipython3",
   "version": "3.11.0"
  }
 },
 "nbformat": 4,
 "nbformat_minor": 5
}
