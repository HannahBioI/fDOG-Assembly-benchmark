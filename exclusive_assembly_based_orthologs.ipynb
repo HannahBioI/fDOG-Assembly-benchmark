{
 "cells": [
  {
   "cell_type": "markdown",
   "id": "0d1f7afa-3e98-4397-86d4-82d68e949154",
   "metadata": {},
   "source": [
    "# Investigate Orthologs found exclusivly by assembly based tools"
   ]
  },
  {
   "cell_type": "markdown",
   "id": "7f9e9f2e-5e9b-48c0-b861-b3509ea6a451",
   "metadata": {},
   "source": [
    "### Steps\n",
    "1) create dictionary that contains per species all corresponding uniprot IDs\n",
    "2) create list or set containing all used seed genes\n",
    "3) read in qfo input files and create df containing per seed gene, number of species orthologs detected and number of species in which it is missing, in how many assembly_based tools it was found\n",
    "4) filter seed genes in which a pair was exclusivly found by assembly based tools"
   ]
  },
  {
   "cell_type": "code",
   "execution_count": 2,
   "id": "f70b5e5d-7c40-418b-bb60-b492bf0b265b",
   "metadata": {},
   "outputs": [],
   "source": [
    "import pandas as pd\n",
    "import seaborn as sb\n",
    "import matplotlib.pyplot as plt"
   ]
  },
  {
   "cell_type": "code",
   "execution_count": 3,
   "id": "179650e6-3ae3-4d5b-b1a9-10f1c95bc43f",
   "metadata": {},
   "outputs": [],
   "source": [
    "def parse_species_file(file):\n",
    "    lines = file.readlines()\n",
    "    species_dict = {}\n",
    "    for line in lines:\n",
    "        line = line.rstrip()\n",
    "        ncbi, name, uniprot_acc, source, refseq_acc = line.split('\\t')\n",
    "        species_dict[ncbi] = {'name': name, 'uniprot': uniprot_acc, 'source': source, 'refseq': refseq_acc}\n",
    "    return species_dict"
   ]
  },
  {
   "cell_type": "code",
   "execution_count": 4,
   "id": "e50a3b2a-f86b-4103-a48b-4f44857b69f4",
   "metadata": {},
   "outputs": [],
   "source": [
    "species_file = open('../../data/fDOG-assembly/species_set_benchmark.tsv', 'r')\n",
    "species_dict = parse_species_file(species_file)\n",
    "species_file.close()"
   ]
  },
  {
   "cell_type": "code",
   "execution_count": 5,
   "id": "d6ff350d-1120-469f-b0b8-bb2e2c40c9cb",
   "metadata": {},
   "outputs": [
    {
     "name": "stdout",
     "output_type": "stream",
     "text": [
      "45351\n",
      "10116\n",
      "9031\n",
      "8364\n",
      "7955\n",
      "7227\n",
      "7070\n",
      "6945\n",
      "6412\n",
      "6239\n"
     ]
    }
   ],
   "source": [
    "dict_species_vs_id_set = {}\n",
    "qfo_path = '../../data/qfo_eukaryota_2022/qfo_data_2022/Eukaryota/'\n",
    "for key in species_dict:\n",
    "    print(key)\n",
    "    uniprot_ids_search_species = set()\n",
    "    file = open(qfo_path + species_dict[key]['uniprot'] + '_' + key + '.fasta', 'r')\n",
    "    lines = file.readlines()\n",
    "    for line in lines:\n",
    "        if line.startswith('>'):\n",
    "            uniprot_ids_search_species.add(line.split('|')[1])\n",
    "    dict_species_vs_id_set[key] = uniprot_ids_search_species"
   ]
  },
  {
   "cell_type": "code",
   "execution_count": 6,
   "id": "2f051a9b-215b-412c-8aa4-7342584f0729",
   "metadata": {},
   "outputs": [],
   "source": [
    "def get_seed_genes(path):\n",
    "    file = open(path, 'r')\n",
    "    lines = file.readlines()\n",
    "    seed_genes = set()\n",
    "    for line in lines:\n",
    "        line = line.rstrip()\n",
    "        busco, uniprot = line.split('\\t')\n",
    "        seed_genes.add(uniprot)\n",
    "        \n",
    "    return seed_genes"
   ]
  },
  {
   "cell_type": "code",
   "execution_count": 7,
   "id": "a496600b-b394-42fc-b934-1c1263fecad9",
   "metadata": {},
   "outputs": [
    {
     "name": "stdout",
     "output_type": "stream",
     "text": [
      "917\n"
     ]
    }
   ],
   "source": [
    "path = '../uniprotid_to_group_assignment/mapping_busco_id_uniport_id.tsv'\n",
    "seed_genes = get_seed_genes(path)\n",
    "print(len(seed_genes))\n",
    "#print(seed_genes)"
   ]
  },
  {
   "cell_type": "code",
   "execution_count": 8,
   "id": "87b938ea-2298-40c2-9af1-05c77ffa4285",
   "metadata": {},
   "outputs": [],
   "source": [
    "tools_ref = ['bbh', 'domainoid', 'ensamble', 'hieranoid', 'inparanoid', 'metaphors', 'oma_pairs', 'orthoffgc', 'orthofinder', 'orthoinspector', 'panther', 'rsd', 'sonicparanoid']\n",
    "tools = ['busco_metazoa_augustus', 'busco_metazoa_metaeuk', 'fdog_assembly_metazoa_augustus', 'fdog_assembly_metazoa_augustus_fly', 'fdog_assembly_metazoa_metaeuk', 'fdog_assembly_metazoa_sens_metaeuk']\n",
    "path = '../../results/qfo_input/'"
   ]
  },
  {
   "cell_type": "code",
   "execution_count": 9,
   "id": "85ea5d73-bff0-4d6c-9e42-e8a0ccc9fb98",
   "metadata": {},
   "outputs": [],
   "source": [
    "def create_set_of_sets(path):\n",
    "    file = open(path, 'r')\n",
    "    pairs_set = set()\n",
    "    lines = file.readlines()\n",
    "    for line in lines:\n",
    "        line = line.rstrip()\n",
    "        pairs = frozenset(line.split('\\t'))\n",
    "        pairs_set.add(pairs)\n",
    "    print(len(lines))\n",
    "    print(len(pairs_set))\n",
    "    return pairs_set"
   ]
  },
  {
   "cell_type": "code",
   "execution_count": 10,
   "id": "15e0f66d-3a6f-4505-8867-25f3aedbe2ca",
   "metadata": {},
   "outputs": [
    {
     "name": "stdout",
     "output_type": "stream",
     "text": [
      "8738\n",
      "8738\n",
      "8945\n",
      "8945\n",
      "8168\n",
      "8168\n",
      "8422\n",
      "8422\n",
      "8487\n",
      "8487\n",
      "8979\n",
      "8979\n",
      "7973\n",
      "7973\n",
      "8616\n",
      "8616\n",
      "9372\n",
      "9372\n",
      "9006\n",
      "9006\n",
      "8906\n",
      "8906\n",
      "8606\n",
      "8606\n",
      "9126\n",
      "9126\n"
     ]
    }
   ],
   "source": [
    "list_of_sets_ref = []\n",
    "dict_of_sets = {}\n",
    "for i in tools_ref:\n",
    "    pairs_set = create_set_of_sets(path + i + '.tsv')\n",
    "    list_of_sets_ref.append(pairs_set)\n",
    "    dict_of_sets[i] = pairs_set"
   ]
  },
  {
   "cell_type": "code",
   "execution_count": 11,
   "id": "6a772a2f-75a9-4552-90a0-7879d979bae0",
   "metadata": {},
   "outputs": [
    {
     "name": "stdout",
     "output_type": "stream",
     "text": [
      "8197\n",
      "8197\n",
      "8222\n",
      "8222\n",
      "7926\n",
      "7926\n",
      "7540\n",
      "7540\n",
      "7737\n",
      "7737\n",
      "7448\n",
      "7448\n"
     ]
    }
   ],
   "source": [
    "list_of_sets = []\n",
    "for t in tools:\n",
    "    #print(t)\n",
    "    pairs_set = create_set_of_sets(path + t + '.tsv')\n",
    "    list_of_sets.append(pairs_set)\n",
    "    dict_of_sets[t] = pairs_set"
   ]
  },
  {
   "cell_type": "code",
   "execution_count": 12,
   "id": "7076d2f7-a2e5-4f83-aa27-61b1786123c2",
   "metadata": {},
   "outputs": [],
   "source": [
    "def get_frequency_all(list_of_sets_ref, set_dict, tools):\n",
    "    pair_list = []\n",
    "    occurence_list = []\n",
    "    tool_list = []\n",
    "    for t in tools:\n",
    "        test_set = set_dict[t]\n",
    "        for i in test_set:\n",
    "            occurence = 0\n",
    "            for set_ref in list_of_sets_ref:\n",
    "                if i in set_ref:\n",
    "                    occurence += 1\n",
    "            pair = list(i)\n",
    "            pair_list.append('_'.join(pair))\n",
    "            occurence_list.append(occurence)\n",
    "            tool_list.append(t)\n",
    "    data_dict = {'pair': pair_list, 'occurence': occurence_list, 'tool': tool_list}\n",
    "    df = pd.DataFrame(data_dict)\n",
    "    return df"
   ]
  },
  {
   "cell_type": "code",
   "execution_count": 13,
   "id": "bba57c35-aca6-4f8e-b632-5cb8e706f4ec",
   "metadata": {},
   "outputs": [
    {
     "name": "stdout",
     "output_type": "stream",
     "text": [
      "13\n"
     ]
    }
   ],
   "source": [
    "print(len(list_of_sets_ref))"
   ]
  },
  {
   "cell_type": "code",
   "execution_count": 14,
   "id": "f6e29241-7d0f-4d9a-a84e-11637c98eecc",
   "metadata": {},
   "outputs": [
    {
     "data": {
      "text/html": [
       "<div>\n",
       "<style scoped>\n",
       "    .dataframe tbody tr th:only-of-type {\n",
       "        vertical-align: middle;\n",
       "    }\n",
       "\n",
       "    .dataframe tbody tr th {\n",
       "        vertical-align: top;\n",
       "    }\n",
       "\n",
       "    .dataframe thead th {\n",
       "        text-align: right;\n",
       "    }\n",
       "</style>\n",
       "<table border=\"1\" class=\"dataframe\">\n",
       "  <thead>\n",
       "    <tr style=\"text-align: right;\">\n",
       "      <th></th>\n",
       "      <th>pair</th>\n",
       "      <th>occurence</th>\n",
       "      <th>tool</th>\n",
       "    </tr>\n",
       "  </thead>\n",
       "  <tbody>\n",
       "    <tr>\n",
       "      <th>1</th>\n",
       "      <td>Q9N4U1_P51946</td>\n",
       "      <td>0</td>\n",
       "      <td>busco_metazoa_augustus</td>\n",
       "    </tr>\n",
       "    <tr>\n",
       "      <th>4</th>\n",
       "      <td>A0A1L1RZ60_Q15005</td>\n",
       "      <td>0</td>\n",
       "      <td>busco_metazoa_augustus</td>\n",
       "    </tr>\n",
       "    <tr>\n",
       "      <th>16</th>\n",
       "      <td>Q9IAT6_Q3ZCQ8</td>\n",
       "      <td>0</td>\n",
       "      <td>busco_metazoa_augustus</td>\n",
       "    </tr>\n",
       "    <tr>\n",
       "      <th>23</th>\n",
       "      <td>Q7YWU3_Q13888</td>\n",
       "      <td>0</td>\n",
       "      <td>busco_metazoa_augustus</td>\n",
       "    </tr>\n",
       "    <tr>\n",
       "      <th>95</th>\n",
       "      <td>A7RL52_O94923</td>\n",
       "      <td>0</td>\n",
       "      <td>busco_metazoa_augustus</td>\n",
       "    </tr>\n",
       "    <tr>\n",
       "      <th>...</th>\n",
       "      <td>...</td>\n",
       "      <td>...</td>\n",
       "      <td>...</td>\n",
       "    </tr>\n",
       "    <tr>\n",
       "      <th>46948</th>\n",
       "      <td>P90969_Q9NP79</td>\n",
       "      <td>0</td>\n",
       "      <td>fdog_assembly_metazoa_sens_metaeuk</td>\n",
       "    </tr>\n",
       "    <tr>\n",
       "      <th>46986</th>\n",
       "      <td>Q13889_Q6DK93</td>\n",
       "      <td>0</td>\n",
       "      <td>fdog_assembly_metazoa_sens_metaeuk</td>\n",
       "    </tr>\n",
       "    <tr>\n",
       "      <th>47022</th>\n",
       "      <td>Q9Y2S7_F6RWS7</td>\n",
       "      <td>0</td>\n",
       "      <td>fdog_assembly_metazoa_sens_metaeuk</td>\n",
       "    </tr>\n",
       "    <tr>\n",
       "      <th>47048</th>\n",
       "      <td>O43462_P0C6P6</td>\n",
       "      <td>0</td>\n",
       "      <td>fdog_assembly_metazoa_sens_metaeuk</td>\n",
       "    </tr>\n",
       "    <tr>\n",
       "      <th>47062</th>\n",
       "      <td>F6UTK5_Q9UBP6</td>\n",
       "      <td>0</td>\n",
       "      <td>fdog_assembly_metazoa_sens_metaeuk</td>\n",
       "    </tr>\n",
       "  </tbody>\n",
       "</table>\n",
       "<p>1038 rows × 3 columns</p>\n",
       "</div>"
      ],
      "text/plain": [
       "                    pair  occurence                                tool\n",
       "1          Q9N4U1_P51946          0              busco_metazoa_augustus\n",
       "4      A0A1L1RZ60_Q15005          0              busco_metazoa_augustus\n",
       "16         Q9IAT6_Q3ZCQ8          0              busco_metazoa_augustus\n",
       "23         Q7YWU3_Q13888          0              busco_metazoa_augustus\n",
       "95         A7RL52_O94923          0              busco_metazoa_augustus\n",
       "...                  ...        ...                                 ...\n",
       "46948      P90969_Q9NP79          0  fdog_assembly_metazoa_sens_metaeuk\n",
       "46986      Q13889_Q6DK93          0  fdog_assembly_metazoa_sens_metaeuk\n",
       "47022      Q9Y2S7_F6RWS7          0  fdog_assembly_metazoa_sens_metaeuk\n",
       "47048      O43462_P0C6P6          0  fdog_assembly_metazoa_sens_metaeuk\n",
       "47062      F6UTK5_Q9UBP6          0  fdog_assembly_metazoa_sens_metaeuk\n",
       "\n",
       "[1038 rows x 3 columns]"
      ]
     },
     "metadata": {},
     "output_type": "display_data"
    },
    {
     "data": {
      "text/plain": [
       "1            Q9N4U1_P51946\n",
       "4        A0A1L1RZ60_Q15005\n",
       "16           Q9IAT6_Q3ZCQ8\n",
       "23           Q7YWU3_Q13888\n",
       "95           A7RL52_O94923\n",
       "               ...        \n",
       "46948        P90969_Q9NP79\n",
       "46986        Q13889_Q6DK93\n",
       "47022        Q9Y2S7_F6RWS7\n",
       "47048        O43462_P0C6P6\n",
       "47062        F6UTK5_Q9UBP6\n",
       "Name: pair, Length: 1038, dtype: object"
      ]
     },
     "metadata": {},
     "output_type": "display_data"
    }
   ],
   "source": [
    "#get occurrences of all genes in reference tool results and filter for genes that were not found in reference tools\n",
    "df_occ = get_frequency_all(list_of_sets_ref, dict_of_sets, tools)\n",
    "df_filtered = df_occ[df_occ['occurence'] < 1].copy()\n",
    "display(df_filtered)\n",
    "exclusive_pairs = df_filtered['pair'].copy()\n",
    "\n",
    "#get seed genes exclusively found once by assembly based tools\n",
    "display(exclusive_pairs)\n",
    "exclusive_seeds = set()\n",
    "for i in exclusive_pairs:\n",
    "    #print(i)\n",
    "    #print(type(i))\n",
    "    try:\n",
    "        g1, g2 = i.split('_')\n",
    "        if g1 in seed_genes:\n",
    "            exclusive_seeds.add(g1)\n",
    "        elif g2 in seed_genes:\n",
    "            exclusive_seeds.add(g2)\n",
    "        else:\n",
    "            print(f'Error, the gene %s and %s are both no seed genes' %(g1,g2))\n",
    "    except ValueError:\n",
    "        if i in seed_genes:\n",
    "            exclusive_seeds.add(i)\n",
    "        else:\n",
    "            print(f'Error, the gene %s no seed genes' %(i))\n",
    "\n"
   ]
  },
  {
   "cell_type": "code",
   "execution_count": 15,
   "id": "9dd2b3ad-eb0c-4462-bde2-b3536c063a54",
   "metadata": {},
   "outputs": [],
   "source": [
    "def create_df_seed(tools_ref, tools, dict_of_sets, seed_genes, dict_species_vs_id_set):\n",
    "    seed_list = []\n",
    "    species_list = []\n",
    "    not_found_list = []\n",
    "    occurence_list = []\n",
    "    for seed in seed_genes:\n",
    "        species_set = set()\n",
    "        occurence = 0\n",
    "        for tool in tools_ref:\n",
    "            for pair in dict_of_sets[tool]:\n",
    "                if seed in pair:\n",
    "                    for i in pair:\n",
    "                        if i != seed:\n",
    "                            ortholog = i\n",
    "                    for sp in dict_species_vs_id_set:\n",
    "                        if ortholog in dict_species_vs_id_set[sp]:\n",
    "                            species_set.add(sp)   \n",
    "        seed_list.append(seed)\n",
    "        species_list.append(len(species_set))\n",
    "        not_found_list.append(10 - len(species_set))\n",
    "        occurence_list.append(occurence)\n",
    "        \n",
    "                            \n",
    "            \n",
    "    data_dict = {'seed': seed_list, 'found': species_list, 'not_found': not_found_list}\n",
    "    df = pd.DataFrame(data_dict)\n",
    "    return df"
   ]
  },
  {
   "cell_type": "code",
   "execution_count": 16,
   "id": "df9d30d6-1e06-405c-bcca-9d6b8f1637e1",
   "metadata": {},
   "outputs": [
    {
     "name": "stdout",
     "output_type": "stream",
     "text": [
      "411\n"
     ]
    }
   ],
   "source": [
    "print(len(exclusive_seeds))\n",
    "df = create_df_seed(tools_ref, tools, dict_of_sets, exclusive_seeds, dict_species_vs_id_set)"
   ]
  },
  {
   "cell_type": "code",
   "execution_count": 17,
   "id": "73b16f38-89a3-4443-9e0f-399aca62511b",
   "metadata": {},
   "outputs": [
    {
     "data": {
      "text/html": [
       "<div>\n",
       "<style scoped>\n",
       "    .dataframe tbody tr th:only-of-type {\n",
       "        vertical-align: middle;\n",
       "    }\n",
       "\n",
       "    .dataframe tbody tr th {\n",
       "        vertical-align: top;\n",
       "    }\n",
       "\n",
       "    .dataframe thead th {\n",
       "        text-align: right;\n",
       "    }\n",
       "</style>\n",
       "<table border=\"1\" class=\"dataframe\">\n",
       "  <thead>\n",
       "    <tr style=\"text-align: right;\">\n",
       "      <th></th>\n",
       "      <th>seed</th>\n",
       "      <th>found</th>\n",
       "      <th>not_found</th>\n",
       "    </tr>\n",
       "  </thead>\n",
       "  <tbody>\n",
       "    <tr>\n",
       "      <th>0</th>\n",
       "      <td>Q96DI7</td>\n",
       "      <td>10</td>\n",
       "      <td>0</td>\n",
       "    </tr>\n",
       "    <tr>\n",
       "      <th>1</th>\n",
       "      <td>Q9NPF4</td>\n",
       "      <td>10</td>\n",
       "      <td>0</td>\n",
       "    </tr>\n",
       "    <tr>\n",
       "      <th>2</th>\n",
       "      <td>Q6P1L8</td>\n",
       "      <td>10</td>\n",
       "      <td>0</td>\n",
       "    </tr>\n",
       "    <tr>\n",
       "      <th>3</th>\n",
       "      <td>Q9UQ13</td>\n",
       "      <td>10</td>\n",
       "      <td>0</td>\n",
       "    </tr>\n",
       "    <tr>\n",
       "      <th>4</th>\n",
       "      <td>O43395</td>\n",
       "      <td>10</td>\n",
       "      <td>0</td>\n",
       "    </tr>\n",
       "    <tr>\n",
       "      <th>...</th>\n",
       "      <td>...</td>\n",
       "      <td>...</td>\n",
       "      <td>...</td>\n",
       "    </tr>\n",
       "    <tr>\n",
       "      <th>406</th>\n",
       "      <td>Q1RMZ1</td>\n",
       "      <td>8</td>\n",
       "      <td>2</td>\n",
       "    </tr>\n",
       "    <tr>\n",
       "      <th>407</th>\n",
       "      <td>Q7Z3J2</td>\n",
       "      <td>10</td>\n",
       "      <td>0</td>\n",
       "    </tr>\n",
       "    <tr>\n",
       "      <th>408</th>\n",
       "      <td>P16930</td>\n",
       "      <td>10</td>\n",
       "      <td>0</td>\n",
       "    </tr>\n",
       "    <tr>\n",
       "      <th>409</th>\n",
       "      <td>Q8NBL1</td>\n",
       "      <td>9</td>\n",
       "      <td>1</td>\n",
       "    </tr>\n",
       "    <tr>\n",
       "      <th>410</th>\n",
       "      <td>O75934</td>\n",
       "      <td>10</td>\n",
       "      <td>0</td>\n",
       "    </tr>\n",
       "  </tbody>\n",
       "</table>\n",
       "<p>411 rows × 3 columns</p>\n",
       "</div>"
      ],
      "text/plain": [
       "       seed  found  not_found\n",
       "0    Q96DI7     10          0\n",
       "1    Q9NPF4     10          0\n",
       "2    Q6P1L8     10          0\n",
       "3    Q9UQ13     10          0\n",
       "4    O43395     10          0\n",
       "..      ...    ...        ...\n",
       "406  Q1RMZ1      8          2\n",
       "407  Q7Z3J2     10          0\n",
       "408  P16930     10          0\n",
       "409  Q8NBL1      9          1\n",
       "410  O75934     10          0\n",
       "\n",
       "[411 rows x 3 columns]"
      ]
     },
     "metadata": {},
     "output_type": "display_data"
    }
   ],
   "source": [
    "display(df)"
   ]
  },
  {
   "cell_type": "code",
   "execution_count": 21,
   "id": "d20f7e78-ca11-4211-9e74-dc4df8799e1e",
   "metadata": {},
   "outputs": [
    {
     "data": {
      "image/png": "[encoded data removed]",
      "text/plain": [
       "<Figure size 640x480 with 1 Axes>"
      ]
     },
     "metadata": {},
     "output_type": "display_data"
    }
   ],
   "source": [
    "sb.scatterplot(data=df, x=\"found\", y=\"not_found\")\n",
    "plt.savefig('scatterplot_found_not_found.png')"
   ]
  },
  {
   "cell_type": "code",
   "execution_count": 22,
   "id": "727c74af-f201-4450-8d86-2ade340ea87c",
   "metadata": {},
   "outputs": [
    {
     "data": {
      "image/png": "[encoded data removed]",
      "text/plain": [
       "<Figure size 500x500 with 1 Axes>"
      ]
     },
     "metadata": {},
     "output_type": "display_data"
    }
   ],
   "source": [
    "sb.displot(df, x=\"found\")\n",
    "plt.savefig('displot_found.png')"
   ]
  },
  {
   "cell_type": "code",
   "execution_count": null,
   "id": "4569d351-7fd0-436f-ac76-42328cdb6520",
   "metadata": {},
   "outputs": [],
   "source": []
  }
 ],
 "metadata": {
  "kernelspec": {
   "display_name": "Python 3 (ipykernel)",
   "language": "python",
   "name": "python3"
  },
  "language_info": {
   "codemirror_mode": {
    "name": "ipython",
    "version": 3
   },
   "file_extension": ".py",
   "mimetype": "text/x-python",
   "name": "python",
   "nbconvert_exporter": "python",
   "pygments_lexer": "ipython3",
   "version": "3.12.3"
  }
 },
 "nbformat": 4,
 "nbformat_minor": 5
}
